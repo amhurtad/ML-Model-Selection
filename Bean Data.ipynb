{
 "cells": [
  {
   "cell_type": "code",
   "execution_count": 5,
   "metadata": {},
   "outputs": [],
   "source": [
    "import pandas as pd\n",
    "from scipy.io import arff\n",
    "import numpy as np\n",
    "import matplotlib.pyplot as plt\n",
    "import seaborn as sns\n",
    "from sklearn.neighbors import KNeighborsClassifier\n",
    "from sklearn.linear_model import LogisticRegression\n",
    "from sklearn.tree import DecisionTreeClassifier\n",
    "from sklearn.model_selection import train_test_split, cross_val_score, GridSearchCV, StratifiedKFold\n",
    "from sklearn.metrics import accuracy_score, precision_score, f1_score, roc_auc_score\n",
    "from sklearn.ensemble import RandomForestClassifier\n",
    "from sklearn.tree import DecisionTreeClassifier"
   ]
  },
  {
   "cell_type": "code",
   "execution_count": 6,
   "metadata": {},
   "outputs": [
    {
     "data": {
      "text/html": [
       "<div>\n",
       "<style scoped>\n",
       "    .dataframe tbody tr th:only-of-type {\n",
       "        vertical-align: middle;\n",
       "    }\n",
       "\n",
       "    .dataframe tbody tr th {\n",
       "        vertical-align: top;\n",
       "    }\n",
       "\n",
       "    .dataframe thead th {\n",
       "        text-align: right;\n",
       "    }\n",
       "</style>\n",
       "<table border=\"1\" class=\"dataframe\">\n",
       "  <thead>\n",
       "    <tr style=\"text-align: right;\">\n",
       "      <th></th>\n",
       "      <th>Area</th>\n",
       "      <th>Perimeter</th>\n",
       "      <th>MajorAxisLength</th>\n",
       "      <th>MinorAxisLength</th>\n",
       "      <th>AspectRation</th>\n",
       "      <th>Eccentricity</th>\n",
       "      <th>ConvexArea</th>\n",
       "      <th>EquivDiameter</th>\n",
       "      <th>Extent</th>\n",
       "      <th>Solidity</th>\n",
       "      <th>roundness</th>\n",
       "      <th>Compactness</th>\n",
       "      <th>ShapeFactor1</th>\n",
       "      <th>ShapeFactor2</th>\n",
       "      <th>ShapeFactor3</th>\n",
       "      <th>ShapeFactor4</th>\n",
       "      <th>Class</th>\n",
       "    </tr>\n",
       "  </thead>\n",
       "  <tbody>\n",
       "    <tr>\n",
       "      <th>0</th>\n",
       "      <td>28395.0</td>\n",
       "      <td>610.291</td>\n",
       "      <td>208.178117</td>\n",
       "      <td>173.888747</td>\n",
       "      <td>1.197191</td>\n",
       "      <td>0.549812</td>\n",
       "      <td>28715.0</td>\n",
       "      <td>190.141097</td>\n",
       "      <td>0.763923</td>\n",
       "      <td>0.988856</td>\n",
       "      <td>0.958027</td>\n",
       "      <td>0.913358</td>\n",
       "      <td>0.007332</td>\n",
       "      <td>0.003147</td>\n",
       "      <td>0.834222</td>\n",
       "      <td>0.998724</td>\n",
       "      <td>b'SEKER'</td>\n",
       "    </tr>\n",
       "    <tr>\n",
       "      <th>1</th>\n",
       "      <td>28734.0</td>\n",
       "      <td>638.018</td>\n",
       "      <td>200.524796</td>\n",
       "      <td>182.734419</td>\n",
       "      <td>1.097356</td>\n",
       "      <td>0.411785</td>\n",
       "      <td>29172.0</td>\n",
       "      <td>191.272750</td>\n",
       "      <td>0.783968</td>\n",
       "      <td>0.984986</td>\n",
       "      <td>0.887034</td>\n",
       "      <td>0.953861</td>\n",
       "      <td>0.006979</td>\n",
       "      <td>0.003564</td>\n",
       "      <td>0.909851</td>\n",
       "      <td>0.998430</td>\n",
       "      <td>b'SEKER'</td>\n",
       "    </tr>\n",
       "    <tr>\n",
       "      <th>2</th>\n",
       "      <td>29380.0</td>\n",
       "      <td>624.110</td>\n",
       "      <td>212.826130</td>\n",
       "      <td>175.931143</td>\n",
       "      <td>1.209713</td>\n",
       "      <td>0.562727</td>\n",
       "      <td>29690.0</td>\n",
       "      <td>193.410904</td>\n",
       "      <td>0.778113</td>\n",
       "      <td>0.989559</td>\n",
       "      <td>0.947849</td>\n",
       "      <td>0.908774</td>\n",
       "      <td>0.007244</td>\n",
       "      <td>0.003048</td>\n",
       "      <td>0.825871</td>\n",
       "      <td>0.999066</td>\n",
       "      <td>b'SEKER'</td>\n",
       "    </tr>\n",
       "    <tr>\n",
       "      <th>3</th>\n",
       "      <td>30008.0</td>\n",
       "      <td>645.884</td>\n",
       "      <td>210.557999</td>\n",
       "      <td>182.516516</td>\n",
       "      <td>1.153638</td>\n",
       "      <td>0.498616</td>\n",
       "      <td>30724.0</td>\n",
       "      <td>195.467062</td>\n",
       "      <td>0.782681</td>\n",
       "      <td>0.976696</td>\n",
       "      <td>0.903936</td>\n",
       "      <td>0.928329</td>\n",
       "      <td>0.007017</td>\n",
       "      <td>0.003215</td>\n",
       "      <td>0.861794</td>\n",
       "      <td>0.994199</td>\n",
       "      <td>b'SEKER'</td>\n",
       "    </tr>\n",
       "    <tr>\n",
       "      <th>4</th>\n",
       "      <td>30140.0</td>\n",
       "      <td>620.134</td>\n",
       "      <td>201.847882</td>\n",
       "      <td>190.279279</td>\n",
       "      <td>1.060798</td>\n",
       "      <td>0.333680</td>\n",
       "      <td>30417.0</td>\n",
       "      <td>195.896503</td>\n",
       "      <td>0.773098</td>\n",
       "      <td>0.990893</td>\n",
       "      <td>0.984877</td>\n",
       "      <td>0.970516</td>\n",
       "      <td>0.006697</td>\n",
       "      <td>0.003665</td>\n",
       "      <td>0.941900</td>\n",
       "      <td>0.999166</td>\n",
       "      <td>b'SEKER'</td>\n",
       "    </tr>\n",
       "  </tbody>\n",
       "</table>\n",
       "</div>"
      ],
      "text/plain": [
       "      Area  Perimeter  MajorAxisLength  MinorAxisLength  AspectRation  \\\n",
       "0  28395.0    610.291       208.178117       173.888747      1.197191   \n",
       "1  28734.0    638.018       200.524796       182.734419      1.097356   \n",
       "2  29380.0    624.110       212.826130       175.931143      1.209713   \n",
       "3  30008.0    645.884       210.557999       182.516516      1.153638   \n",
       "4  30140.0    620.134       201.847882       190.279279      1.060798   \n",
       "\n",
       "   Eccentricity  ConvexArea  EquivDiameter    Extent  Solidity  roundness  \\\n",
       "0      0.549812     28715.0     190.141097  0.763923  0.988856   0.958027   \n",
       "1      0.411785     29172.0     191.272750  0.783968  0.984986   0.887034   \n",
       "2      0.562727     29690.0     193.410904  0.778113  0.989559   0.947849   \n",
       "3      0.498616     30724.0     195.467062  0.782681  0.976696   0.903936   \n",
       "4      0.333680     30417.0     195.896503  0.773098  0.990893   0.984877   \n",
       "\n",
       "   Compactness  ShapeFactor1  ShapeFactor2  ShapeFactor3  ShapeFactor4  \\\n",
       "0     0.913358      0.007332      0.003147      0.834222      0.998724   \n",
       "1     0.953861      0.006979      0.003564      0.909851      0.998430   \n",
       "2     0.908774      0.007244      0.003048      0.825871      0.999066   \n",
       "3     0.928329      0.007017      0.003215      0.861794      0.994199   \n",
       "4     0.970516      0.006697      0.003665      0.941900      0.999166   \n",
       "\n",
       "      Class  \n",
       "0  b'SEKER'  \n",
       "1  b'SEKER'  \n",
       "2  b'SEKER'  \n",
       "3  b'SEKER'  \n",
       "4  b'SEKER'  "
      ]
     },
     "execution_count": 6,
     "metadata": {},
     "output_type": "execute_result"
    }
   ],
   "source": [
    "data = arff.loadarff('Dry_Bean_dataset.arff')\n",
    "bean_data = pd.DataFrame(data[0])\n",
    "bean_data.head()"
   ]
  },
  {
   "cell_type": "code",
   "execution_count": 9,
   "metadata": {},
   "outputs": [
    {
     "data": {
      "text/plain": [
       "b'DERMASON'    3546\n",
       "b'SIRA'        2636\n",
       "b'SEKER'       2027\n",
       "b'HOROZ'       1928\n",
       "b'CALI'        1630\n",
       "b'BARBUNYA'    1322\n",
       "b'BOMBAY'       522\n",
       "Name: Class, dtype: int64"
      ]
     },
     "execution_count": 9,
     "metadata": {},
     "output_type": "execute_result"
    }
   ],
   "source": [
    "bean_data['Class'].value_counts()"
   ]
  },
  {
   "cell_type": "code",
   "execution_count": 16,
   "metadata": {},
   "outputs": [],
   "source": [
    "#For the purpose of making this abinary problem,\n",
    "#I will consider the two most popular classes 'DERMASON' and 'SIRA' +1\n",
    "bean_data['Class'] = np.where((bean_data['Class'] == b'DERMASON'), 1, bean_data['Class'])\n",
    "bean_data['Class'] = np.where((bean_data['Class'] == b'SIRA'), 1, bean_data['Class'])\n",
    "\n",
    "#I will consider the rest of the class -1\n",
    "bean_data['Class'] = np.where((bean_data['Class'] == b'SEKER'), -1, bean_data['Class'])\n",
    "bean_data['Class'] = np.where((bean_data['Class'] == b'HOROZ'), -1, bean_data['Class'])\n",
    "bean_data['Class'] = np.where((bean_data['Class'] == b'CALI'), -1, bean_data['Class'])\n",
    "bean_data['Class'] = np.where((bean_data['Class'] == b'BARBUNYA'), -1, bean_data['Class'])\n",
    "bean_data['Class'] = np.where((bean_data['Class'] == b'BOMBAY'), -1, bean_data['Class'])\n",
    "\n"
   ]
  },
  {
   "cell_type": "code",
   "execution_count": 17,
   "metadata": {},
   "outputs": [
    {
     "data": {
      "text/plain": [
       "-1    7429\n",
       " 1    6182\n",
       "Name: Class, dtype: int64"
      ]
     },
     "execution_count": 17,
     "metadata": {},
     "output_type": "execute_result"
    }
   ],
   "source": [
    "bean_data['Class'].value_counts()"
   ]
  },
  {
   "cell_type": "code",
   "execution_count": 18,
   "metadata": {},
   "outputs": [
    {
     "data": {
      "text/html": [
       "<div>\n",
       "<style scoped>\n",
       "    .dataframe tbody tr th:only-of-type {\n",
       "        vertical-align: middle;\n",
       "    }\n",
       "\n",
       "    .dataframe tbody tr th {\n",
       "        vertical-align: top;\n",
       "    }\n",
       "\n",
       "    .dataframe thead th {\n",
       "        text-align: right;\n",
       "    }\n",
       "</style>\n",
       "<table border=\"1\" class=\"dataframe\">\n",
       "  <thead>\n",
       "    <tr style=\"text-align: right;\">\n",
       "      <th></th>\n",
       "      <th>Area</th>\n",
       "      <th>Perimeter</th>\n",
       "      <th>MajorAxisLength</th>\n",
       "      <th>MinorAxisLength</th>\n",
       "      <th>AspectRation</th>\n",
       "      <th>Eccentricity</th>\n",
       "      <th>ConvexArea</th>\n",
       "      <th>EquivDiameter</th>\n",
       "      <th>Extent</th>\n",
       "      <th>Solidity</th>\n",
       "      <th>roundness</th>\n",
       "      <th>Compactness</th>\n",
       "      <th>ShapeFactor1</th>\n",
       "      <th>ShapeFactor2</th>\n",
       "      <th>ShapeFactor3</th>\n",
       "      <th>ShapeFactor4</th>\n",
       "      <th>Class</th>\n",
       "    </tr>\n",
       "  </thead>\n",
       "  <tbody>\n",
       "    <tr>\n",
       "      <th>0</th>\n",
       "      <td>28395.0</td>\n",
       "      <td>610.291</td>\n",
       "      <td>208.178117</td>\n",
       "      <td>173.888747</td>\n",
       "      <td>1.197191</td>\n",
       "      <td>0.549812</td>\n",
       "      <td>28715.0</td>\n",
       "      <td>190.141097</td>\n",
       "      <td>0.763923</td>\n",
       "      <td>0.988856</td>\n",
       "      <td>0.958027</td>\n",
       "      <td>0.913358</td>\n",
       "      <td>0.007332</td>\n",
       "      <td>0.003147</td>\n",
       "      <td>0.834222</td>\n",
       "      <td>0.998724</td>\n",
       "      <td>-1</td>\n",
       "    </tr>\n",
       "    <tr>\n",
       "      <th>1</th>\n",
       "      <td>28734.0</td>\n",
       "      <td>638.018</td>\n",
       "      <td>200.524796</td>\n",
       "      <td>182.734419</td>\n",
       "      <td>1.097356</td>\n",
       "      <td>0.411785</td>\n",
       "      <td>29172.0</td>\n",
       "      <td>191.272750</td>\n",
       "      <td>0.783968</td>\n",
       "      <td>0.984986</td>\n",
       "      <td>0.887034</td>\n",
       "      <td>0.953861</td>\n",
       "      <td>0.006979</td>\n",
       "      <td>0.003564</td>\n",
       "      <td>0.909851</td>\n",
       "      <td>0.998430</td>\n",
       "      <td>-1</td>\n",
       "    </tr>\n",
       "    <tr>\n",
       "      <th>2</th>\n",
       "      <td>29380.0</td>\n",
       "      <td>624.110</td>\n",
       "      <td>212.826130</td>\n",
       "      <td>175.931143</td>\n",
       "      <td>1.209713</td>\n",
       "      <td>0.562727</td>\n",
       "      <td>29690.0</td>\n",
       "      <td>193.410904</td>\n",
       "      <td>0.778113</td>\n",
       "      <td>0.989559</td>\n",
       "      <td>0.947849</td>\n",
       "      <td>0.908774</td>\n",
       "      <td>0.007244</td>\n",
       "      <td>0.003048</td>\n",
       "      <td>0.825871</td>\n",
       "      <td>0.999066</td>\n",
       "      <td>-1</td>\n",
       "    </tr>\n",
       "    <tr>\n",
       "      <th>3</th>\n",
       "      <td>30008.0</td>\n",
       "      <td>645.884</td>\n",
       "      <td>210.557999</td>\n",
       "      <td>182.516516</td>\n",
       "      <td>1.153638</td>\n",
       "      <td>0.498616</td>\n",
       "      <td>30724.0</td>\n",
       "      <td>195.467062</td>\n",
       "      <td>0.782681</td>\n",
       "      <td>0.976696</td>\n",
       "      <td>0.903936</td>\n",
       "      <td>0.928329</td>\n",
       "      <td>0.007017</td>\n",
       "      <td>0.003215</td>\n",
       "      <td>0.861794</td>\n",
       "      <td>0.994199</td>\n",
       "      <td>-1</td>\n",
       "    </tr>\n",
       "    <tr>\n",
       "      <th>4</th>\n",
       "      <td>30140.0</td>\n",
       "      <td>620.134</td>\n",
       "      <td>201.847882</td>\n",
       "      <td>190.279279</td>\n",
       "      <td>1.060798</td>\n",
       "      <td>0.333680</td>\n",
       "      <td>30417.0</td>\n",
       "      <td>195.896503</td>\n",
       "      <td>0.773098</td>\n",
       "      <td>0.990893</td>\n",
       "      <td>0.984877</td>\n",
       "      <td>0.970516</td>\n",
       "      <td>0.006697</td>\n",
       "      <td>0.003665</td>\n",
       "      <td>0.941900</td>\n",
       "      <td>0.999166</td>\n",
       "      <td>-1</td>\n",
       "    </tr>\n",
       "  </tbody>\n",
       "</table>\n",
       "</div>"
      ],
      "text/plain": [
       "      Area  Perimeter  MajorAxisLength  MinorAxisLength  AspectRation  \\\n",
       "0  28395.0    610.291       208.178117       173.888747      1.197191   \n",
       "1  28734.0    638.018       200.524796       182.734419      1.097356   \n",
       "2  29380.0    624.110       212.826130       175.931143      1.209713   \n",
       "3  30008.0    645.884       210.557999       182.516516      1.153638   \n",
       "4  30140.0    620.134       201.847882       190.279279      1.060798   \n",
       "\n",
       "   Eccentricity  ConvexArea  EquivDiameter    Extent  Solidity  roundness  \\\n",
       "0      0.549812     28715.0     190.141097  0.763923  0.988856   0.958027   \n",
       "1      0.411785     29172.0     191.272750  0.783968  0.984986   0.887034   \n",
       "2      0.562727     29690.0     193.410904  0.778113  0.989559   0.947849   \n",
       "3      0.498616     30724.0     195.467062  0.782681  0.976696   0.903936   \n",
       "4      0.333680     30417.0     195.896503  0.773098  0.990893   0.984877   \n",
       "\n",
       "   Compactness  ShapeFactor1  ShapeFactor2  ShapeFactor3  ShapeFactor4 Class  \n",
       "0     0.913358      0.007332      0.003147      0.834222      0.998724    -1  \n",
       "1     0.953861      0.006979      0.003564      0.909851      0.998430    -1  \n",
       "2     0.908774      0.007244      0.003048      0.825871      0.999066    -1  \n",
       "3     0.928329      0.007017      0.003215      0.861794      0.994199    -1  \n",
       "4     0.970516      0.006697      0.003665      0.941900      0.999166    -1  "
      ]
     },
     "execution_count": 18,
     "metadata": {},
     "output_type": "execute_result"
    }
   ],
   "source": [
    "bean_data.head()"
   ]
  },
  {
   "cell_type": "code",
   "execution_count": 19,
   "metadata": {},
   "outputs": [],
   "source": [
    "#Standard Scaler on numerical data\n",
    "from sklearn.preprocessing import StandardScaler\n",
    "scaler = StandardScaler()\n",
    "\n",
    "def scale_columns(dataset, cols_scale):\n",
    "    for col in cols_scale:\n",
    "        dataset[col] = pd.DataFrame(scaler.fit_transform(pd.DataFrame(bean_data[col])), columns=[col])\n",
    "    return dataset"
   ]
  },
  {
   "cell_type": "code",
   "execution_count": 20,
   "metadata": {},
   "outputs": [
    {
     "data": {
      "text/html": [
       "<div>\n",
       "<style scoped>\n",
       "    .dataframe tbody tr th:only-of-type {\n",
       "        vertical-align: middle;\n",
       "    }\n",
       "\n",
       "    .dataframe tbody tr th {\n",
       "        vertical-align: top;\n",
       "    }\n",
       "\n",
       "    .dataframe thead th {\n",
       "        text-align: right;\n",
       "    }\n",
       "</style>\n",
       "<table border=\"1\" class=\"dataframe\">\n",
       "  <thead>\n",
       "    <tr style=\"text-align: right;\">\n",
       "      <th></th>\n",
       "      <th>Area</th>\n",
       "      <th>Perimeter</th>\n",
       "      <th>MajorAxisLength</th>\n",
       "      <th>MinorAxisLength</th>\n",
       "      <th>AspectRation</th>\n",
       "      <th>Eccentricity</th>\n",
       "      <th>ConvexArea</th>\n",
       "      <th>EquivDiameter</th>\n",
       "      <th>Extent</th>\n",
       "      <th>Solidity</th>\n",
       "      <th>roundness</th>\n",
       "      <th>Compactness</th>\n",
       "      <th>ShapeFactor1</th>\n",
       "      <th>ShapeFactor2</th>\n",
       "      <th>ShapeFactor3</th>\n",
       "      <th>ShapeFactor4</th>\n",
       "      <th>Class</th>\n",
       "    </tr>\n",
       "  </thead>\n",
       "  <tbody>\n",
       "    <tr>\n",
       "      <th>0</th>\n",
       "      <td>-0.840749</td>\n",
       "      <td>-1.143319</td>\n",
       "      <td>-1.306598</td>\n",
       "      <td>-0.631153</td>\n",
       "      <td>-1.565053</td>\n",
       "      <td>-2.185720</td>\n",
       "      <td>-0.841451</td>\n",
       "      <td>-1.063341</td>\n",
       "      <td>0.289087</td>\n",
       "      <td>0.367613</td>\n",
       "      <td>1.423867</td>\n",
       "      <td>1.839116</td>\n",
       "      <td>0.680786</td>\n",
       "      <td>2.402173</td>\n",
       "      <td>1.925723</td>\n",
       "      <td>0.838371</td>\n",
       "      <td>-1</td>\n",
       "    </tr>\n",
       "    <tr>\n",
       "      <th>1</th>\n",
       "      <td>-0.829188</td>\n",
       "      <td>-1.013924</td>\n",
       "      <td>-1.395911</td>\n",
       "      <td>-0.434445</td>\n",
       "      <td>-1.969784</td>\n",
       "      <td>-3.686040</td>\n",
       "      <td>-0.826102</td>\n",
       "      <td>-1.044217</td>\n",
       "      <td>0.697477</td>\n",
       "      <td>-0.462907</td>\n",
       "      <td>0.231054</td>\n",
       "      <td>2.495449</td>\n",
       "      <td>0.367967</td>\n",
       "      <td>3.100893</td>\n",
       "      <td>2.689702</td>\n",
       "      <td>0.771138</td>\n",
       "      <td>-1</td>\n",
       "    </tr>\n",
       "    <tr>\n",
       "      <th>2</th>\n",
       "      <td>-0.807157</td>\n",
       "      <td>-1.078829</td>\n",
       "      <td>-1.252357</td>\n",
       "      <td>-0.585735</td>\n",
       "      <td>-1.514291</td>\n",
       "      <td>-2.045336</td>\n",
       "      <td>-0.808704</td>\n",
       "      <td>-1.008084</td>\n",
       "      <td>0.578195</td>\n",
       "      <td>0.518417</td>\n",
       "      <td>1.252865</td>\n",
       "      <td>1.764843</td>\n",
       "      <td>0.603129</td>\n",
       "      <td>2.235091</td>\n",
       "      <td>1.841356</td>\n",
       "      <td>0.916755</td>\n",
       "      <td>-1</td>\n",
       "    </tr>\n",
       "    <tr>\n",
       "      <th>3</th>\n",
       "      <td>-0.785741</td>\n",
       "      <td>-0.977215</td>\n",
       "      <td>-1.278825</td>\n",
       "      <td>-0.439290</td>\n",
       "      <td>-1.741618</td>\n",
       "      <td>-2.742211</td>\n",
       "      <td>-0.773975</td>\n",
       "      <td>-0.973337</td>\n",
       "      <td>0.671260</td>\n",
       "      <td>-2.241767</td>\n",
       "      <td>0.515049</td>\n",
       "      <td>2.081715</td>\n",
       "      <td>0.401718</td>\n",
       "      <td>2.515075</td>\n",
       "      <td>2.204250</td>\n",
       "      <td>-0.197985</td>\n",
       "      <td>-1</td>\n",
       "    </tr>\n",
       "    <tr>\n",
       "      <th>4</th>\n",
       "      <td>-0.781239</td>\n",
       "      <td>-1.097384</td>\n",
       "      <td>-1.380471</td>\n",
       "      <td>-0.266663</td>\n",
       "      <td>-2.117993</td>\n",
       "      <td>-4.535028</td>\n",
       "      <td>-0.784286</td>\n",
       "      <td>-0.966080</td>\n",
       "      <td>0.476020</td>\n",
       "      <td>0.804772</td>\n",
       "      <td>1.874992</td>\n",
       "      <td>2.765330</td>\n",
       "      <td>0.118268</td>\n",
       "      <td>3.270983</td>\n",
       "      <td>3.013462</td>\n",
       "      <td>0.939640</td>\n",
       "      <td>-1</td>\n",
       "    </tr>\n",
       "  </tbody>\n",
       "</table>\n",
       "</div>"
      ],
      "text/plain": [
       "       Area  Perimeter  MajorAxisLength  MinorAxisLength  AspectRation  \\\n",
       "0 -0.840749  -1.143319        -1.306598        -0.631153     -1.565053   \n",
       "1 -0.829188  -1.013924        -1.395911        -0.434445     -1.969784   \n",
       "2 -0.807157  -1.078829        -1.252357        -0.585735     -1.514291   \n",
       "3 -0.785741  -0.977215        -1.278825        -0.439290     -1.741618   \n",
       "4 -0.781239  -1.097384        -1.380471        -0.266663     -2.117993   \n",
       "\n",
       "   Eccentricity  ConvexArea  EquivDiameter    Extent  Solidity  roundness  \\\n",
       "0     -2.185720   -0.841451      -1.063341  0.289087  0.367613   1.423867   \n",
       "1     -3.686040   -0.826102      -1.044217  0.697477 -0.462907   0.231054   \n",
       "2     -2.045336   -0.808704      -1.008084  0.578195  0.518417   1.252865   \n",
       "3     -2.742211   -0.773975      -0.973337  0.671260 -2.241767   0.515049   \n",
       "4     -4.535028   -0.784286      -0.966080  0.476020  0.804772   1.874992   \n",
       "\n",
       "   Compactness  ShapeFactor1  ShapeFactor2  ShapeFactor3  ShapeFactor4 Class  \n",
       "0     1.839116      0.680786      2.402173      1.925723      0.838371    -1  \n",
       "1     2.495449      0.367967      3.100893      2.689702      0.771138    -1  \n",
       "2     1.764843      0.603129      2.235091      1.841356      0.916755    -1  \n",
       "3     2.081715      0.401718      2.515075      2.204250     -0.197985    -1  \n",
       "4     2.765330      0.118268      3.270983      3.013462      0.939640    -1  "
      ]
     },
     "execution_count": 20,
     "metadata": {},
     "output_type": "execute_result"
    }
   ],
   "source": [
    "scaled_bean_data = scale_columns(bean_data, [i for i in list(bean_data.columns) if i not in ['Class']])\n",
    "scaled_bean_data.head()"
   ]
  },
  {
   "cell_type": "code",
   "execution_count": 21,
   "metadata": {},
   "outputs": [
    {
     "data": {
      "text/plain": [
       "dtype('O')"
      ]
     },
     "execution_count": 21,
     "metadata": {},
     "output_type": "execute_result"
    }
   ],
   "source": [
    "scaled_bean_data['Class'].dtypes"
   ]
  },
  {
   "cell_type": "code",
   "execution_count": 22,
   "metadata": {},
   "outputs": [],
   "source": [
    "scaled_bean_data['Class'] = pd.to_numeric(scaled_bean_data['Class'])"
   ]
  },
  {
   "cell_type": "code",
   "execution_count": 24,
   "metadata": {},
   "outputs": [],
   "source": [
    "#Collecting all the samples we will need for each algorithm\n",
    "all_samples = []\n",
    "\n",
    "for sample in range(0,5):\n",
    "    all_samples.append(scaled_bean_data.sample(n=5000, replace=False))"
   ]
  },
  {
   "cell_type": "code",
   "execution_count": 25,
   "metadata": {},
   "outputs": [
    {
     "data": {
      "text/plain": [
       "5"
      ]
     },
     "execution_count": 25,
     "metadata": {},
     "output_type": "execute_result"
    }
   ],
   "source": [
    "len(all_samples)"
   ]
  },
  {
   "cell_type": "code",
   "execution_count": 58,
   "metadata": {},
   "outputs": [
    {
     "data": {
      "text/plain": [
       "13611"
      ]
     },
     "execution_count": 58,
     "metadata": {},
     "output_type": "execute_result"
    }
   ],
   "source": [
    "len(scaled_bean_data)"
   ]
  },
  {
   "cell_type": "code",
   "execution_count": 59,
   "metadata": {},
   "outputs": [
    {
     "data": {
      "text/plain": [
       "-1    7429\n",
       " 1    6182\n",
       "Name: Class, dtype: int64"
      ]
     },
     "execution_count": 59,
     "metadata": {},
     "output_type": "execute_result"
    }
   ],
   "source": [
    "scaled_bean_data['Class'].value_counts()"
   ]
  },
  {
   "cell_type": "markdown",
   "metadata": {},
   "source": [
    "# Logistic Regression"
   ]
  },
  {
   "cell_type": "code",
   "execution_count": 26,
   "metadata": {},
   "outputs": [],
   "source": [
    "#Lists to save models and training/testing sets\n",
    "all_models = []\n",
    "X_training_sets = []\n",
    "y_training_sets = []\n",
    "X_testing_sets = []\n",
    "y_testing_sets = []\n",
    "\n",
    "#lists to save best params\n",
    "accuracy_best_params = []\n",
    "roc_auc_best_params = []\n",
    "f1_best_params = []\n",
    "\n",
    "#looping across each sample for each trial\n",
    "for sample in all_samples:\n",
    "    X_train = sample.iloc[:, :-1]\n",
    "    y_train = sample.iloc[:, -1]\n",
    "    X_training_sets.append(X_train)\n",
    "    y_training_sets.append(y_train)\n",
    "    \n",
    "    #Separating rows for the test set that were not in the sample\n",
    "    ix = [i for i in scaled_bean_data.index if i not in sample.index]\n",
    "    test_set = scaled_bean_data.loc[ix]\n",
    "    X_test = test_set.iloc[:, :-1]\n",
    "    y_test = test_set.iloc[:, -1]\n",
    "    X_testing_sets.append(X_test)\n",
    "    y_testing_sets.append(y_test)\n",
    "    \n",
    "    #Initiating classifier\n",
    "    log_reg = LogisticRegression(max_iter=10000)\n",
    "    \n",
    "    grid_values = [{'solver':['saga'],\n",
    "                   'penalty': ['l1', 'l2'],\n",
    "                   'C': [.00000001, .0000001, .000001, .00001, .0001, .001, .01, .1, 1, 10, 100, 1000, 10000]},\n",
    "                   {'solver':['lbfgs'],\n",
    "                   'penalty': ['l2'],\n",
    "                   'C': [.00000001, .0000001, .000001, .00001, .0001, .001, .01, .1, 1, 10, 100, 1000, 10000]},\n",
    "                   {'solver':['lbfgs', 'saga'],\n",
    "                   'penalty': ['none'],}\n",
    "                   ]\n",
    "    clf = GridSearchCV(estimator = log_reg, param_grid = grid_values, cv = StratifiedKFold(n_splits=5),\n",
    "                      scoring = ['accuracy', 'roc_auc_ovr', 'f1_micro'], refit=False, verbose=0)\n",
    "    \n",
    "    model = clf.fit(X_train, y_train)\n",
    "    \n",
    "    accuracy_best_params.append(model.cv_results_['params'][np.argmin(model.cv_results_['rank_test_accuracy'])])\n",
    "    roc_auc_best_params.append(model.cv_results_['params'][np.argmin(model.cv_results_['rank_test_roc_auc_ovr'])])\n",
    "    f1_best_params.append(model.cv_results_['params'][np.argmin(model.cv_results_['rank_test_f1_micro'])])\n",
    "    \n",
    "    all_models.append(model)"
   ]
  },
  {
   "cell_type": "code",
   "execution_count": 27,
   "metadata": {},
   "outputs": [
    {
     "data": {
      "text/plain": [
       "[{'penalty': 'none', 'solver': 'lbfgs'},\n",
       " {'penalty': 'none', 'solver': 'lbfgs'},\n",
       " {'penalty': 'none', 'solver': 'lbfgs'},\n",
       " {'penalty': 'none', 'solver': 'lbfgs'},\n",
       " {'penalty': 'none', 'solver': 'lbfgs'}]"
      ]
     },
     "execution_count": 27,
     "metadata": {},
     "output_type": "execute_result"
    }
   ],
   "source": [
    "accuracy_best_params"
   ]
  },
  {
   "cell_type": "code",
   "execution_count": 28,
   "metadata": {},
   "outputs": [
    {
     "data": {
      "text/plain": [
       "[{'penalty': 'none', 'solver': 'lbfgs'},\n",
       " {'penalty': 'none', 'solver': 'lbfgs'},\n",
       " {'C': 10000, 'penalty': 'l2', 'solver': 'lbfgs'},\n",
       " {'penalty': 'none', 'solver': 'lbfgs'},\n",
       " {'penalty': 'none', 'solver': 'lbfgs'}]"
      ]
     },
     "execution_count": 28,
     "metadata": {},
     "output_type": "execute_result"
    }
   ],
   "source": [
    "roc_auc_best_params"
   ]
  },
  {
   "cell_type": "code",
   "execution_count": 29,
   "metadata": {},
   "outputs": [
    {
     "data": {
      "text/plain": [
       "[{'penalty': 'none', 'solver': 'lbfgs'},\n",
       " {'penalty': 'none', 'solver': 'lbfgs'},\n",
       " {'penalty': 'none', 'solver': 'lbfgs'},\n",
       " {'penalty': 'none', 'solver': 'lbfgs'},\n",
       " {'penalty': 'none', 'solver': 'lbfgs'}]"
      ]
     },
     "execution_count": 29,
     "metadata": {},
     "output_type": "execute_result"
    }
   ],
   "source": [
    "f1_best_params"
   ]
  },
  {
   "cell_type": "code",
   "execution_count": 60,
   "metadata": {},
   "outputs": [],
   "source": [
    "accuracy_test_errors = []\n",
    "accuracy_train_errors = []\n",
    "for param in accuracy_best_params:\n",
    "    \n",
    "    n = 0\n",
    "    if 'C' in param:\n",
    "        \n",
    "        logreg_clf = LogisticRegression(penalty = param['penalty'], solver = param['solver'], C = param['C'], max_iter = 10000)\n",
    "        model = logreg_clf.fit(X_training_sets[n], y_training_sets[n])\n",
    "    else:\n",
    "        \n",
    "        logreg_clf = LogisticRegression(penalty = param['penalty'], solver = param['solver'],  max_iter = 10000)\n",
    "        model = logreg_clf.fit(X_training_sets[n], y_training_sets[n])\n",
    "    \n",
    "    y_pred = model.predict(X_testing_sets[n])\n",
    "    accuracy_test_errors.append(accuracy_score(y_testing_sets[n], y_pred))\n",
    "    \n",
    "    y_pred_train = model.predict(X_training_sets[n])\n",
    "    accuracy_train_errors.append(accuracy_score(y_training_sets[n], y_pred_train))\n",
    "    \n",
    "    n += 1"
   ]
  },
  {
   "cell_type": "code",
   "execution_count": 61,
   "metadata": {},
   "outputs": [
    {
     "data": {
      "text/plain": [
       "[0.9736383695273487,\n",
       " 0.9736383695273487,\n",
       " 0.9736383695273487,\n",
       " 0.9736383695273487,\n",
       " 0.9736383695273487]"
      ]
     },
     "execution_count": 61,
     "metadata": {},
     "output_type": "execute_result"
    }
   ],
   "source": [
    "accuracy_test_errors"
   ]
  },
  {
   "cell_type": "code",
   "execution_count": 62,
   "metadata": {},
   "outputs": [
    {
     "data": {
      "text/plain": [
       "[0.9742, 0.9742, 0.9742, 0.9742, 0.9742]"
      ]
     },
     "execution_count": 62,
     "metadata": {},
     "output_type": "execute_result"
    }
   ],
   "source": [
    "accuracy_train_errors"
   ]
  },
  {
   "cell_type": "code",
   "execution_count": 63,
   "metadata": {},
   "outputs": [],
   "source": [
    "roc_auc_test_errors = []\n",
    "roc_auc_train_errors = []\n",
    "for param in roc_auc_best_params:\n",
    "    \n",
    "    n = 0\n",
    "    \n",
    "    if 'C' in param:\n",
    "        \n",
    "        logreg_clf = LogisticRegression(penalty = param['penalty'], solver = param['solver'], C = param['C'], max_iter = 10000)\n",
    "        model = logreg_clf.fit(X_training_sets[n], y_training_sets[n])\n",
    "    else:\n",
    "        \n",
    "        logreg_clf = LogisticRegression(penalty = param['penalty'], solver = param['solver'],  max_iter = 10000)\n",
    "        model = logreg_clf.fit(X_training_sets[n], y_training_sets[n])\n",
    "    \n",
    "    y_pred2 = model.predict(X_testing_sets[n])\n",
    "    roc_auc_test_errors.append(roc_auc_score(y_testing_sets[n], y_pred2))\n",
    "    \n",
    "    y_pred_train2 = model.predict(X_training_sets[n])\n",
    "    roc_auc_train_errors.append(roc_auc_score(y_training_sets[n], y_pred_train2))\n",
    "    \n",
    "    n += 1"
   ]
  },
  {
   "cell_type": "code",
   "execution_count": 64,
   "metadata": {},
   "outputs": [
    {
     "data": {
      "text/plain": [
       "[0.9740346039397707,\n",
       " 0.9740346039397707,\n",
       " 0.9727472494804082,\n",
       " 0.9740346039397707,\n",
       " 0.9740346039397707]"
      ]
     },
     "execution_count": 64,
     "metadata": {},
     "output_type": "execute_result"
    }
   ],
   "source": [
    "roc_auc_test_errors "
   ]
  },
  {
   "cell_type": "code",
   "execution_count": 65,
   "metadata": {},
   "outputs": [
    {
     "data": {
      "text/plain": [
       "[0.9747103562738684,\n",
       " 0.9747103562738684,\n",
       " 0.9725793196796596,\n",
       " 0.9747103562738684,\n",
       " 0.9747103562738684]"
      ]
     },
     "execution_count": 65,
     "metadata": {},
     "output_type": "execute_result"
    }
   ],
   "source": [
    "roc_auc_train_errors"
   ]
  },
  {
   "cell_type": "code",
   "execution_count": 66,
   "metadata": {},
   "outputs": [],
   "source": [
    "f1_score_test_errors = []\n",
    "f1_score_train_errors = []\n",
    "for param in f1_best_params:\n",
    "    \n",
    "    n = 0\n",
    "    \n",
    "    if 'C' in param:\n",
    "        \n",
    "        logreg_clf = LogisticRegression(penalty = param['penalty'], solver = param['solver'], C = param['C'], max_iter = 10000)\n",
    "        model = logreg_clf.fit(X_training_sets[n], y_training_sets[n])\n",
    "    else:\n",
    "        \n",
    "        logreg_clf = LogisticRegression(penalty = param['penalty'], solver = param['solver'],  max_iter = 10000)\n",
    "        model = logreg_clf.fit(X_training_sets[n], y_training_sets[n])\n",
    "    \n",
    "    y_pred3 = model.predict(X_testing_sets[n])\n",
    "    f1_score_test_errors.append(f1_score(y_testing_sets[n], y_pred3))\n",
    "    \n",
    "    y_pred_train3 = model.predict(X_training_sets[n])\n",
    "    f1_score_train_errors.append(f1_score(y_training_sets[n], y_pred_train3))\n",
    "    \n",
    "    \n",
    "    n += 1"
   ]
  },
  {
   "cell_type": "code",
   "execution_count": 67,
   "metadata": {},
   "outputs": [
    {
     "data": {
      "text/plain": [
       "[0.9710496110190027,\n",
       " 0.9710496110190027,\n",
       " 0.9710496110190027,\n",
       " 0.9710496110190027,\n",
       " 0.9710496110190027]"
      ]
     },
     "execution_count": 67,
     "metadata": {},
     "output_type": "execute_result"
    }
   ],
   "source": [
    "f1_score_test_errors"
   ]
  },
  {
   "cell_type": "code",
   "execution_count": 68,
   "metadata": {},
   "outputs": [
    {
     "data": {
      "text/plain": [
       "[0.9720839645098464,\n",
       " 0.9720839645098464,\n",
       " 0.9720839645098464,\n",
       " 0.9720839645098464,\n",
       " 0.9720839645098464]"
      ]
     },
     "execution_count": 68,
     "metadata": {},
     "output_type": "execute_result"
    }
   ],
   "source": [
    "f1_score_train_errors"
   ]
  },
  {
   "cell_type": "markdown",
   "metadata": {},
   "source": [
    "# KNN"
   ]
  },
  {
   "cell_type": "code",
   "execution_count": 37,
   "metadata": {},
   "outputs": [],
   "source": [
    "#Lists to save models and training/testing sets\n",
    "all_models_knn = []\n",
    "X_training_sets_knn = []\n",
    "y_training_sets_knn = []\n",
    "X_testing_sets_knn = []\n",
    "y_testing_sets_knn = []\n",
    "\n",
    "#lists to save best params\n",
    "accuracy_best_params_knn = []\n",
    "roc_auc_best_params_knn = []\n",
    "f1_best_params_knn = []\n",
    "\n",
    "#looping across each sample for each trial\n",
    "for sample in all_samples:\n",
    "    X_train_knn = sample.iloc[:, :-1]\n",
    "    y_train_knn = sample.iloc[:, -1]\n",
    "    X_training_sets_knn.append(X_train_knn)\n",
    "    y_training_sets_knn.append(y_train_knn)\n",
    "    \n",
    "    #Separating rows for the test set that were not in the sample\n",
    "    ix_knn = [i for i in scaled_bean_data.index if i not in sample.index]\n",
    "    test_set_knn = scaled_bean_data.loc[ix]\n",
    "    X_test_knn = test_set_knn.iloc[:, :-1]\n",
    "    y_test_knn = test_set_knn.iloc[:, -1]\n",
    "    X_testing_sets_knn.append(X_test_knn)\n",
    "    y_testing_sets_knn.append(y_test_knn)\n",
    "    \n",
    "    #Initiating classifier\n",
    "    knn = KNeighborsClassifier()\n",
    "    \n",
    "    grid_values = {'n_neighbors' : list(range(1,105,4))}\n",
    "    \n",
    "    clf_knn = GridSearchCV(estimator = knn, param_grid = grid_values, cv = StratifiedKFold(n_splits=5),\n",
    "                      scoring = ['accuracy', 'roc_auc_ovr', 'f1_micro'], refit=False, verbose=0)\n",
    "    \n",
    "    model_knn = clf_knn.fit(X_train_knn, y_train_knn)\n",
    "    \n",
    "    accuracy_best_params_knn.append(model_knn.cv_results_['params'][np.argmin(model_knn.cv_results_['rank_test_accuracy'])])\n",
    "    roc_auc_best_params_knn.append(model_knn.cv_results_['params'][np.argmin(model_knn.cv_results_['rank_test_roc_auc_ovr'])])\n",
    "    f1_best_params_knn.append(model_knn.cv_results_['params'][np.argmin(model_knn.cv_results_['rank_test_f1_micro'])])\n",
    "    \n",
    "    all_models_knn.append(model_knn)"
   ]
  },
  {
   "cell_type": "code",
   "execution_count": 39,
   "metadata": {},
   "outputs": [
    {
     "data": {
      "text/plain": [
       "[{'n_neighbors': 13},\n",
       " {'n_neighbors': 9},\n",
       " {'n_neighbors': 9},\n",
       " {'n_neighbors': 9},\n",
       " {'n_neighbors': 25}]"
      ]
     },
     "execution_count": 39,
     "metadata": {},
     "output_type": "execute_result"
    }
   ],
   "source": [
    "accuracy_best_params_knn"
   ]
  },
  {
   "cell_type": "code",
   "execution_count": 40,
   "metadata": {},
   "outputs": [
    {
     "data": {
      "text/plain": [
       "[{'n_neighbors': 77},\n",
       " {'n_neighbors': 93},\n",
       " {'n_neighbors': 89},\n",
       " {'n_neighbors': 21},\n",
       " {'n_neighbors': 93}]"
      ]
     },
     "execution_count": 40,
     "metadata": {},
     "output_type": "execute_result"
    }
   ],
   "source": [
    "roc_auc_best_params_knn"
   ]
  },
  {
   "cell_type": "code",
   "execution_count": 41,
   "metadata": {},
   "outputs": [
    {
     "data": {
      "text/plain": [
       "[{'n_neighbors': 13},\n",
       " {'n_neighbors': 9},\n",
       " {'n_neighbors': 9},\n",
       " {'n_neighbors': 9},\n",
       " {'n_neighbors': 25}]"
      ]
     },
     "execution_count": 41,
     "metadata": {},
     "output_type": "execute_result"
    }
   ],
   "source": [
    "f1_best_params_knn"
   ]
  },
  {
   "cell_type": "code",
   "execution_count": 69,
   "metadata": {},
   "outputs": [],
   "source": [
    "#Now we need to loop across all models from each metric, train on entire sample, and then predict on test set\n",
    "accuracy_test_errors_knn = []\n",
    "accuracy_train_errors_knn = []\n",
    "for param in accuracy_best_params_knn:\n",
    "    \n",
    "    n_knn = 0\n",
    "    \n",
    "    knn_clf = KNeighborsClassifier(n_neighbors = param['n_neighbors'])\n",
    "    model = knn_clf.fit(X_training_sets_knn[n_knn], y_training_sets_knn[n_knn])\n",
    "    \n",
    "    y_pred_knn = model.predict(X_testing_sets_knn[n_knn])\n",
    "    accuracy_test_errors_knn.append(accuracy_score(y_testing_sets_knn[n_knn], y_pred_knn))\n",
    "    \n",
    "    y_pred_train_knn = model.predict(X_training_sets_knn[n_knn])\n",
    "    accuracy_train_errors_knn.append(accuracy_score(y_training_sets_knn[n_knn], y_pred_train_knn))\n",
    "    \n",
    "    n_knn += 1"
   ]
  },
  {
   "cell_type": "code",
   "execution_count": 70,
   "metadata": {},
   "outputs": [
    {
     "data": {
      "text/plain": [
       "[0.9738706305887818,\n",
       " 0.9744512832423644,\n",
       " 0.9744512832423644,\n",
       " 0.9744512832423644,\n",
       " 0.9727093252816166]"
      ]
     },
     "execution_count": 70,
     "metadata": {},
     "output_type": "execute_result"
    }
   ],
   "source": [
    "accuracy_test_errors_knn"
   ]
  },
  {
   "cell_type": "code",
   "execution_count": 71,
   "metadata": {},
   "outputs": [
    {
     "data": {
      "text/plain": [
       "[0.9762, 0.977, 0.977, 0.977, 0.9752]"
      ]
     },
     "execution_count": 71,
     "metadata": {},
     "output_type": "execute_result"
    }
   ],
   "source": [
    "accuracy_train_errors_knn"
   ]
  },
  {
   "cell_type": "code",
   "execution_count": 72,
   "metadata": {},
   "outputs": [],
   "source": [
    "roc_auc_test_errors_knn = []\n",
    "roc_auc_train_errors_knn = []\n",
    "for param in roc_auc_best_params_knn:\n",
    "    \n",
    "    n_knn = 0\n",
    "    \n",
    "    knn_clf2 = KNeighborsClassifier(n_neighbors = param['n_neighbors'])\n",
    "    model = knn_clf2.fit(X_training_sets_knn[n_knn], y_training_sets_knn[n_knn])\n",
    "    \n",
    "    y_pred_knn2 = model.predict(X_testing_sets_knn[n_knn])\n",
    "    roc_auc_test_errors_knn.append(roc_auc_score(y_testing_sets_knn[n_knn], y_pred_knn2))\n",
    "    \n",
    "    y_pred_train_knn2 = model.predict(X_training_sets_knn[n_knn])\n",
    "    roc_auc_train_errors_knn.append(roc_auc_score(y_training_sets_knn[n_knn], y_pred_train_knn2))\n",
    "    \n",
    "    n_knn += 1\n"
   ]
  },
  {
   "cell_type": "code",
   "execution_count": 73,
   "metadata": {},
   "outputs": [
    {
     "data": {
      "text/plain": [
       "[0.969880306449445,\n",
       " 0.969370863359658,\n",
       " 0.9698176463642187,\n",
       " 0.9743672093216875,\n",
       " 0.969370863359658]"
      ]
     },
     "execution_count": 73,
     "metadata": {},
     "output_type": "execute_result"
    }
   ],
   "source": [
    "roc_auc_test_errors_knn"
   ]
  },
  {
   "cell_type": "code",
   "execution_count": 74,
   "metadata": {},
   "outputs": [
    {
     "data": {
      "text/plain": [
       "[0.9716568104545675,\n",
       " 0.9709526418408289,\n",
       " 0.9715061473758843,\n",
       " 0.9770258947130956,\n",
       " 0.9709526418408289]"
      ]
     },
     "execution_count": 74,
     "metadata": {},
     "output_type": "execute_result"
    }
   ],
   "source": [
    "roc_auc_train_errors_knn "
   ]
  },
  {
   "cell_type": "code",
   "execution_count": 75,
   "metadata": {},
   "outputs": [],
   "source": [
    "f1_score_test_errors_knn = []\n",
    "f1_score_train_errors_knn = []\n",
    "for param in f1_best_params_knn:\n",
    "    \n",
    "    n_knn = 0\n",
    "    \n",
    "    knn_clf3 = KNeighborsClassifier(n_neighbors = param['n_neighbors'])\n",
    "    model = knn_clf3.fit(X_training_sets_knn[n_knn], y_training_sets_knn[n_knn])\n",
    "    \n",
    "    y_pred_knn3 = model.predict(X_testing_sets_knn[n_knn])\n",
    "    f1_score_test_errors_knn.append(f1_score(y_testing_sets_knn[n_knn], y_pred_knn3))\n",
    "    \n",
    "    y_pred_train_knn3 = model.predict(X_training_sets_knn[n_knn])\n",
    "    f1_score_train_errors_knn.append(f1_score(y_training_sets_knn[n_knn], y_pred_train_knn3))\n",
    "    \n",
    "    \n",
    "    n_knn += 1"
   ]
  },
  {
   "cell_type": "code",
   "execution_count": 76,
   "metadata": {},
   "outputs": [
    {
     "data": {
      "text/plain": [
       "[0.9713631156930125,\n",
       " 0.9719887955182073,\n",
       " 0.9719887955182073,\n",
       " 0.9719887955182073,\n",
       " 0.9701207883026064]"
      ]
     },
     "execution_count": 76,
     "metadata": {},
     "output_type": "execute_result"
    }
   ],
   "source": [
    "f1_score_test_errors_knn"
   ]
  },
  {
   "cell_type": "code",
   "execution_count": 77,
   "metadata": {},
   "outputs": [
    {
     "data": {
      "text/plain": [
       "[0.9742033383915022,\n",
       " 0.9750596399913251,\n",
       " 0.9750596399913251,\n",
       " 0.9750596399913251,\n",
       " 0.9731601731601732]"
      ]
     },
     "execution_count": 77,
     "metadata": {},
     "output_type": "execute_result"
    }
   ],
   "source": [
    "f1_score_train_errors_knn"
   ]
  },
  {
   "cell_type": "code",
   "execution_count": 48,
   "metadata": {},
   "outputs": [],
   "source": [
    "#Lists to save models and training/testing sets\n",
    "all_models_dt = []\n",
    "X_training_sets_dt = []\n",
    "y_training_sets_dt = []\n",
    "X_testing_sets_dt = []\n",
    "y_testing_sets_dt = []\n",
    "\n",
    "#lists to save best params\n",
    "accuracy_best_params_dt = []\n",
    "roc_auc_best_params_dt = []\n",
    "f1_best_params_dt = []\n",
    "\n",
    "#looping across each sample for each trial\n",
    "for sample in all_samples:\n",
    "    X_train_dt = sample.iloc[:, :-1]\n",
    "    y_train_dt = sample.iloc[:, -1]\n",
    "    X_training_sets_dt.append(X_train_dt)\n",
    "    y_training_sets_dt.append(y_train_dt)\n",
    "    \n",
    "    #Separating rows for the test set that were not in the sample\n",
    "    ix_dt = [i for i in scaled_bean_data.index if i not in sample.index]\n",
    "    test_set_dt = scaled_bean_data.loc[ix_dt]\n",
    "    X_test_dt = test_set_dt.iloc[:, :-1]\n",
    "    y_test_dt = test_set_dt.iloc[:, -1]\n",
    "    X_testing_sets_dt.append(X_test_dt)\n",
    "    y_testing_sets_dt.append(y_test_dt)\n",
    "    \n",
    "    #Initiating classifier\n",
    "    dt = DecisionTreeClassifier()\n",
    "    \n",
    "    grid_values = [{'criterion': ['gini', 'entropy'], 'max_depth':list(range(1,100,3)), 'min_samples_leaf': list(range(10,100,10))}]\n",
    "    \n",
    "    clf_dt = GridSearchCV(estimator = dt, param_grid = grid_values, cv = StratifiedKFold(n_splits=5),\n",
    "                      scoring = ['accuracy', 'roc_auc_ovr', 'f1_micro'], refit=False, verbose=0)\n",
    "    \n",
    "    model_dt = clf_dt.fit(X_train_dt, y_train_dt)\n",
    "    \n",
    "    accuracy_best_params_dt.append(model_dt.cv_results_['params'][np.argmin(model_dt.cv_results_['rank_test_accuracy'])])\n",
    "    roc_auc_best_params_dt.append(model_dt.cv_results_['params'][np.argmin(model_dt.cv_results_['rank_test_roc_auc_ovr'])])\n",
    "    f1_best_params_dt.append(model_dt.cv_results_['params'][np.argmin(model_dt.cv_results_['rank_test_f1_micro'])])\n",
    "    \n",
    "    all_models_dt.append(model_dt)"
   ]
  },
  {
   "cell_type": "code",
   "execution_count": 49,
   "metadata": {},
   "outputs": [
    {
     "data": {
      "text/plain": [
       "[{'criterion': 'entropy', 'max_depth': 22, 'min_samples_leaf': 10},\n",
       " {'criterion': 'entropy', 'max_depth': 7, 'min_samples_leaf': 10},\n",
       " {'criterion': 'entropy', 'max_depth': 7, 'min_samples_leaf': 10},\n",
       " {'criterion': 'entropy', 'max_depth': 16, 'min_samples_leaf': 10},\n",
       " {'criterion': 'gini', 'max_depth': 22, 'min_samples_leaf': 10}]"
      ]
     },
     "execution_count": 49,
     "metadata": {},
     "output_type": "execute_result"
    }
   ],
   "source": [
    "accuracy_best_params_dt"
   ]
  },
  {
   "cell_type": "code",
   "execution_count": 50,
   "metadata": {},
   "outputs": [
    {
     "data": {
      "text/plain": [
       "[{'criterion': 'entropy', 'max_depth': 64, 'min_samples_leaf': 40},\n",
       " {'criterion': 'entropy', 'max_depth': 10, 'min_samples_leaf': 30},\n",
       " {'criterion': 'gini', 'max_depth': 73, 'min_samples_leaf': 30},\n",
       " {'criterion': 'gini', 'max_depth': 37, 'min_samples_leaf': 30},\n",
       " {'criterion': 'gini', 'max_depth': 91, 'min_samples_leaf': 40}]"
      ]
     },
     "execution_count": 50,
     "metadata": {},
     "output_type": "execute_result"
    }
   ],
   "source": [
    "roc_auc_best_params_dt"
   ]
  },
  {
   "cell_type": "code",
   "execution_count": 51,
   "metadata": {},
   "outputs": [
    {
     "data": {
      "text/plain": [
       "[{'criterion': 'entropy', 'max_depth': 22, 'min_samples_leaf': 10},\n",
       " {'criterion': 'entropy', 'max_depth': 7, 'min_samples_leaf': 10},\n",
       " {'criterion': 'entropy', 'max_depth': 7, 'min_samples_leaf': 10},\n",
       " {'criterion': 'entropy', 'max_depth': 16, 'min_samples_leaf': 10},\n",
       " {'criterion': 'gini', 'max_depth': 22, 'min_samples_leaf': 10}]"
      ]
     },
     "execution_count": 51,
     "metadata": {},
     "output_type": "execute_result"
    }
   ],
   "source": [
    "f1_best_params_dt"
   ]
  },
  {
   "cell_type": "code",
   "execution_count": 78,
   "metadata": {},
   "outputs": [],
   "source": [
    "#Now we need to loop across all models from each metric, train on entire sample, and then predict on test set\n",
    "accuracy_test_errors_dt = []\n",
    "accuracy_train_errors_dt = []\n",
    "for param in accuracy_best_params_dt:\n",
    "    \n",
    "    n_dt = 0\n",
    "    \n",
    "    dt_clf = DecisionTreeClassifier(criterion = param['criterion'], max_depth = param['max_depth'],\n",
    "                                   min_samples_leaf = param['min_samples_leaf'])\n",
    "    model = dt_clf.fit(X_training_sets_dt[n_dt], y_training_sets_dt[n_dt])\n",
    "    \n",
    "    y_pred_dt = model.predict(X_testing_sets_dt[n_dt])\n",
    "    accuracy_test_errors_dt.append(accuracy_score(y_testing_sets_dt[n_dt], y_pred_dt))\n",
    "    \n",
    "    y_pred_train_dt = model.predict(X_training_sets_dt[n_dt])\n",
    "    accuracy_train_errors_dt.append(accuracy_score(y_training_sets_dt[n_dt], y_pred_train_dt))\n",
    "    \n",
    "    n_dt += 1"
   ]
  },
  {
   "cell_type": "code",
   "execution_count": 79,
   "metadata": {},
   "outputs": [
    {
     "data": {
      "text/plain": [
       "[0.9649285797236093,\n",
       " 0.965741493438625,\n",
       " 0.965741493438625,\n",
       " 0.9650447102543258,\n",
       " 0.9667866682150738]"
      ]
     },
     "execution_count": 79,
     "metadata": {},
     "output_type": "execute_result"
    }
   ],
   "source": [
    "accuracy_test_errors_dt "
   ]
  },
  {
   "cell_type": "code",
   "execution_count": 80,
   "metadata": {},
   "outputs": [
    {
     "data": {
      "text/plain": [
       "[0.9818, 0.979, 0.979, 0.9818, 0.9812]"
      ]
     },
     "execution_count": 80,
     "metadata": {},
     "output_type": "execute_result"
    }
   ],
   "source": [
    "accuracy_train_errors_dt "
   ]
  },
  {
   "cell_type": "code",
   "execution_count": 81,
   "metadata": {},
   "outputs": [],
   "source": [
    "roc_auc_test_errors_dt = []\n",
    "roc_auc_train_errors_dt = []\n",
    "for param in roc_auc_best_params_dt:\n",
    "    \n",
    "    n_dt = 0\n",
    "    \n",
    "    dt_clf2 = DecisionTreeClassifier(criterion = param['criterion'], max_depth = param['max_depth'],\n",
    "                                   min_samples_leaf = param['min_samples_leaf'])\n",
    "    model = dt_clf2.fit(X_training_sets_dt[n_dt], y_training_sets_dt[n_dt])\n",
    "    \n",
    "    y_pred_dt2 = model.predict(X_testing_sets_dt[n_dt])\n",
    "    roc_auc_test_errors_dt.append(roc_auc_score(y_testing_sets_dt[n_dt], y_pred_dt2))\n",
    "    \n",
    "    y_pred_train_dt2 = model.predict(X_training_sets_dt[n_dt])\n",
    "    roc_auc_train_errors_dt.append(roc_auc_score(y_training_sets_dt[n_dt], y_pred_train_dt2))\n",
    "    \n",
    "    n_dt += 1"
   ]
  },
  {
   "cell_type": "code",
   "execution_count": 82,
   "metadata": {},
   "outputs": [
    {
     "data": {
      "text/plain": [
       "[0.9643808883508033,\n",
       " 0.9641504124826556,\n",
       " 0.9627161316991271,\n",
       " 0.9625651490432393,\n",
       " 0.9586369320672787]"
      ]
     },
     "execution_count": 82,
     "metadata": {},
     "output_type": "execute_result"
    }
   ],
   "source": [
    "roc_auc_test_errors_dt "
   ]
  },
  {
   "cell_type": "code",
   "execution_count": 83,
   "metadata": {},
   "outputs": [
    {
     "data": {
      "text/plain": [
       "[0.970076056655763,\n",
       " 0.9721611692099454,\n",
       " 0.9694637361220774,\n",
       " 0.9694637361220774,\n",
       " 0.9641558839169176]"
      ]
     },
     "execution_count": 83,
     "metadata": {},
     "output_type": "execute_result"
    }
   ],
   "source": [
    "roc_auc_train_errors_dt"
   ]
  },
  {
   "cell_type": "code",
   "execution_count": 84,
   "metadata": {},
   "outputs": [],
   "source": [
    "f1_score_test_errors_dt = []\n",
    "f1_score_train_errors_dt = []\n",
    "for param in f1_best_params_dt:\n",
    "    \n",
    "    n_dt = 0\n",
    "    \n",
    "    dt_clf3 = DecisionTreeClassifier(criterion = param['criterion'], max_depth = param['max_depth'],\n",
    "                                   min_samples_leaf = param['min_samples_leaf'])\n",
    "    model = dt_clf3.fit(X_training_sets_dt[n_dt], y_training_sets_dt[n_dt])\n",
    "    \n",
    "    y_pred_dt3 = model.predict(X_testing_sets_dt[n_dt])\n",
    "    f1_score_test_errors_dt.append(f1_score(y_testing_sets_dt[n_dt], y_pred_dt3))\n",
    "    \n",
    "    y_pred_train_dt3 = model.predict(X_training_sets_dt[n_dt])\n",
    "    f1_score_train_errors_dt.append(f1_score(y_training_sets_dt[n_dt], y_pred_train_dt3))\n",
    "    \n",
    "    n_dt += 1"
   ]
  },
  {
   "cell_type": "code",
   "execution_count": 85,
   "metadata": {},
   "outputs": [
    {
     "data": {
      "text/plain": [
       "[0.9612762125305544,\n",
       " 0.9621524201853758,\n",
       " 0.9622860084953018,\n",
       " 0.9614197530864197,\n",
       " 0.9626875240415438]"
      ]
     },
     "execution_count": 85,
     "metadata": {},
     "output_type": "execute_result"
    }
   ],
   "source": [
    "f1_score_test_errors_dt"
   ]
  },
  {
   "cell_type": "code",
   "execution_count": 86,
   "metadata": {},
   "outputs": [
    {
     "data": {
      "text/plain": [
       "[0.980144010473489,\n",
       " 0.9770892428540258,\n",
       " 0.9770892428540258,\n",
       " 0.980144010473489,\n",
       " 0.9797957853573755]"
      ]
     },
     "execution_count": 86,
     "metadata": {},
     "output_type": "execute_result"
    }
   ],
   "source": [
    "f1_score_train_errors_dt"
   ]
  },
  {
   "cell_type": "code",
   "execution_count": null,
   "metadata": {},
   "outputs": [],
   "source": []
  }
 ],
 "metadata": {
  "kernelspec": {
   "display_name": "Python 3",
   "language": "python",
   "name": "python3"
  },
  "language_info": {
   "codemirror_mode": {
    "name": "ipython",
    "version": 3
   },
   "file_extension": ".py",
   "mimetype": "text/x-python",
   "name": "python",
   "nbconvert_exporter": "python",
   "pygments_lexer": "ipython3",
   "version": "3.8.5"
  }
 },
 "nbformat": 4,
 "nbformat_minor": 4
}
