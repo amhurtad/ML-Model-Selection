{
 "cells": [
  {
   "cell_type": "code",
   "execution_count": 49,
   "metadata": {},
   "outputs": [],
   "source": [
    "import pandas as pd\n",
    "import numpy as np\n",
    "import matplotlib.pyplot as plt\n",
    "import seaborn as sns\n",
    "from sklearn.neighbors import KNeighborsClassifier\n",
    "from sklearn.linear_model import LogisticRegression\n",
    "from sklearn.tree import DecisionTreeClassifier\n",
    "from sklearn.model_selection import train_test_split, cross_val_score, GridSearchCV, StratifiedKFold\n",
    "from sklearn.metrics import accuracy_score, precision_score, f1_score, roc_auc_score\n",
    "from sklearn.ensemble import RandomForestClassifier\n",
    "from sklearn.tree import DecisionTreeClassifier"
   ]
  },
  {
   "cell_type": "code",
   "execution_count": 2,
   "metadata": {},
   "outputs": [],
   "source": [
    "#First going to import three datasets \n",
    "occupancy_data1 = pd.read_csv('datatest.txt')\n",
    "occupancy_data2 = pd.read_csv('datatest2.txt')\n",
    "occupancy_data3 = pd.read_csv('datatraining.txt')"
   ]
  },
  {
   "cell_type": "code",
   "execution_count": 4,
   "metadata": {},
   "outputs": [
    {
     "data": {
      "text/html": [
       "<div>\n",
       "<style scoped>\n",
       "    .dataframe tbody tr th:only-of-type {\n",
       "        vertical-align: middle;\n",
       "    }\n",
       "\n",
       "    .dataframe tbody tr th {\n",
       "        vertical-align: top;\n",
       "    }\n",
       "\n",
       "    .dataframe thead th {\n",
       "        text-align: right;\n",
       "    }\n",
       "</style>\n",
       "<table border=\"1\" class=\"dataframe\">\n",
       "  <thead>\n",
       "    <tr style=\"text-align: right;\">\n",
       "      <th></th>\n",
       "      <th>date</th>\n",
       "      <th>Temperature</th>\n",
       "      <th>Humidity</th>\n",
       "      <th>Light</th>\n",
       "      <th>CO2</th>\n",
       "      <th>HumidityRatio</th>\n",
       "      <th>Occupancy</th>\n",
       "    </tr>\n",
       "  </thead>\n",
       "  <tbody>\n",
       "    <tr>\n",
       "      <th>140</th>\n",
       "      <td>2015-02-02 14:19:00</td>\n",
       "      <td>23.7000</td>\n",
       "      <td>26.272</td>\n",
       "      <td>585.200000</td>\n",
       "      <td>749.200000</td>\n",
       "      <td>0.004764</td>\n",
       "      <td>1</td>\n",
       "    </tr>\n",
       "    <tr>\n",
       "      <th>141</th>\n",
       "      <td>2015-02-02 14:19:59</td>\n",
       "      <td>23.7180</td>\n",
       "      <td>26.290</td>\n",
       "      <td>578.400000</td>\n",
       "      <td>760.400000</td>\n",
       "      <td>0.004773</td>\n",
       "      <td>1</td>\n",
       "    </tr>\n",
       "    <tr>\n",
       "      <th>142</th>\n",
       "      <td>2015-02-02 14:21:00</td>\n",
       "      <td>23.7300</td>\n",
       "      <td>26.230</td>\n",
       "      <td>572.666667</td>\n",
       "      <td>769.666667</td>\n",
       "      <td>0.004765</td>\n",
       "      <td>1</td>\n",
       "    </tr>\n",
       "    <tr>\n",
       "      <th>143</th>\n",
       "      <td>2015-02-02 14:22:00</td>\n",
       "      <td>23.7225</td>\n",
       "      <td>26.125</td>\n",
       "      <td>493.750000</td>\n",
       "      <td>774.750000</td>\n",
       "      <td>0.004744</td>\n",
       "      <td>1</td>\n",
       "    </tr>\n",
       "    <tr>\n",
       "      <th>144</th>\n",
       "      <td>2015-02-02 14:23:00</td>\n",
       "      <td>23.7540</td>\n",
       "      <td>26.200</td>\n",
       "      <td>488.600000</td>\n",
       "      <td>779.000000</td>\n",
       "      <td>0.004767</td>\n",
       "      <td>1</td>\n",
       "    </tr>\n",
       "  </tbody>\n",
       "</table>\n",
       "</div>"
      ],
      "text/plain": [
       "                    date  Temperature  Humidity       Light         CO2  \\\n",
       "140  2015-02-02 14:19:00      23.7000    26.272  585.200000  749.200000   \n",
       "141  2015-02-02 14:19:59      23.7180    26.290  578.400000  760.400000   \n",
       "142  2015-02-02 14:21:00      23.7300    26.230  572.666667  769.666667   \n",
       "143  2015-02-02 14:22:00      23.7225    26.125  493.750000  774.750000   \n",
       "144  2015-02-02 14:23:00      23.7540    26.200  488.600000  779.000000   \n",
       "\n",
       "     HumidityRatio  Occupancy  \n",
       "140       0.004764          1  \n",
       "141       0.004773          1  \n",
       "142       0.004765          1  \n",
       "143       0.004744          1  \n",
       "144       0.004767          1  "
      ]
     },
     "execution_count": 4,
     "metadata": {},
     "output_type": "execute_result"
    }
   ],
   "source": [
    "#Let's look at the head of each data\n",
    "occupancy_data1.head()"
   ]
  },
  {
   "cell_type": "code",
   "execution_count": 5,
   "metadata": {},
   "outputs": [
    {
     "data": {
      "text/html": [
       "<div>\n",
       "<style scoped>\n",
       "    .dataframe tbody tr th:only-of-type {\n",
       "        vertical-align: middle;\n",
       "    }\n",
       "\n",
       "    .dataframe tbody tr th {\n",
       "        vertical-align: top;\n",
       "    }\n",
       "\n",
       "    .dataframe thead th {\n",
       "        text-align: right;\n",
       "    }\n",
       "</style>\n",
       "<table border=\"1\" class=\"dataframe\">\n",
       "  <thead>\n",
       "    <tr style=\"text-align: right;\">\n",
       "      <th></th>\n",
       "      <th>date</th>\n",
       "      <th>Temperature</th>\n",
       "      <th>Humidity</th>\n",
       "      <th>Light</th>\n",
       "      <th>CO2</th>\n",
       "      <th>HumidityRatio</th>\n",
       "      <th>Occupancy</th>\n",
       "    </tr>\n",
       "  </thead>\n",
       "  <tbody>\n",
       "    <tr>\n",
       "      <th>1</th>\n",
       "      <td>2015-02-11 14:48:00</td>\n",
       "      <td>21.7600</td>\n",
       "      <td>31.133333</td>\n",
       "      <td>437.333333</td>\n",
       "      <td>1029.666667</td>\n",
       "      <td>0.005021</td>\n",
       "      <td>1</td>\n",
       "    </tr>\n",
       "    <tr>\n",
       "      <th>2</th>\n",
       "      <td>2015-02-11 14:49:00</td>\n",
       "      <td>21.7900</td>\n",
       "      <td>31.000000</td>\n",
       "      <td>437.333333</td>\n",
       "      <td>1000.000000</td>\n",
       "      <td>0.005009</td>\n",
       "      <td>1</td>\n",
       "    </tr>\n",
       "    <tr>\n",
       "      <th>3</th>\n",
       "      <td>2015-02-11 14:50:00</td>\n",
       "      <td>21.7675</td>\n",
       "      <td>31.122500</td>\n",
       "      <td>434.000000</td>\n",
       "      <td>1003.750000</td>\n",
       "      <td>0.005022</td>\n",
       "      <td>1</td>\n",
       "    </tr>\n",
       "    <tr>\n",
       "      <th>4</th>\n",
       "      <td>2015-02-11 14:51:00</td>\n",
       "      <td>21.7675</td>\n",
       "      <td>31.122500</td>\n",
       "      <td>439.000000</td>\n",
       "      <td>1009.500000</td>\n",
       "      <td>0.005022</td>\n",
       "      <td>1</td>\n",
       "    </tr>\n",
       "    <tr>\n",
       "      <th>5</th>\n",
       "      <td>2015-02-11 14:51:59</td>\n",
       "      <td>21.7900</td>\n",
       "      <td>31.133333</td>\n",
       "      <td>437.333333</td>\n",
       "      <td>1005.666667</td>\n",
       "      <td>0.005030</td>\n",
       "      <td>1</td>\n",
       "    </tr>\n",
       "  </tbody>\n",
       "</table>\n",
       "</div>"
      ],
      "text/plain": [
       "                  date  Temperature   Humidity       Light          CO2  \\\n",
       "1  2015-02-11 14:48:00      21.7600  31.133333  437.333333  1029.666667   \n",
       "2  2015-02-11 14:49:00      21.7900  31.000000  437.333333  1000.000000   \n",
       "3  2015-02-11 14:50:00      21.7675  31.122500  434.000000  1003.750000   \n",
       "4  2015-02-11 14:51:00      21.7675  31.122500  439.000000  1009.500000   \n",
       "5  2015-02-11 14:51:59      21.7900  31.133333  437.333333  1005.666667   \n",
       "\n",
       "   HumidityRatio  Occupancy  \n",
       "1       0.005021          1  \n",
       "2       0.005009          1  \n",
       "3       0.005022          1  \n",
       "4       0.005022          1  \n",
       "5       0.005030          1  "
      ]
     },
     "execution_count": 5,
     "metadata": {},
     "output_type": "execute_result"
    }
   ],
   "source": [
    "occupancy_data2.head()"
   ]
  },
  {
   "cell_type": "code",
   "execution_count": 6,
   "metadata": {},
   "outputs": [
    {
     "data": {
      "text/html": [
       "<div>\n",
       "<style scoped>\n",
       "    .dataframe tbody tr th:only-of-type {\n",
       "        vertical-align: middle;\n",
       "    }\n",
       "\n",
       "    .dataframe tbody tr th {\n",
       "        vertical-align: top;\n",
       "    }\n",
       "\n",
       "    .dataframe thead th {\n",
       "        text-align: right;\n",
       "    }\n",
       "</style>\n",
       "<table border=\"1\" class=\"dataframe\">\n",
       "  <thead>\n",
       "    <tr style=\"text-align: right;\">\n",
       "      <th></th>\n",
       "      <th>date</th>\n",
       "      <th>Temperature</th>\n",
       "      <th>Humidity</th>\n",
       "      <th>Light</th>\n",
       "      <th>CO2</th>\n",
       "      <th>HumidityRatio</th>\n",
       "      <th>Occupancy</th>\n",
       "    </tr>\n",
       "  </thead>\n",
       "  <tbody>\n",
       "    <tr>\n",
       "      <th>1</th>\n",
       "      <td>2015-02-04 17:51:00</td>\n",
       "      <td>23.18</td>\n",
       "      <td>27.2720</td>\n",
       "      <td>426.0</td>\n",
       "      <td>721.25</td>\n",
       "      <td>0.004793</td>\n",
       "      <td>1</td>\n",
       "    </tr>\n",
       "    <tr>\n",
       "      <th>2</th>\n",
       "      <td>2015-02-04 17:51:59</td>\n",
       "      <td>23.15</td>\n",
       "      <td>27.2675</td>\n",
       "      <td>429.5</td>\n",
       "      <td>714.00</td>\n",
       "      <td>0.004783</td>\n",
       "      <td>1</td>\n",
       "    </tr>\n",
       "    <tr>\n",
       "      <th>3</th>\n",
       "      <td>2015-02-04 17:53:00</td>\n",
       "      <td>23.15</td>\n",
       "      <td>27.2450</td>\n",
       "      <td>426.0</td>\n",
       "      <td>713.50</td>\n",
       "      <td>0.004779</td>\n",
       "      <td>1</td>\n",
       "    </tr>\n",
       "    <tr>\n",
       "      <th>4</th>\n",
       "      <td>2015-02-04 17:54:00</td>\n",
       "      <td>23.15</td>\n",
       "      <td>27.2000</td>\n",
       "      <td>426.0</td>\n",
       "      <td>708.25</td>\n",
       "      <td>0.004772</td>\n",
       "      <td>1</td>\n",
       "    </tr>\n",
       "    <tr>\n",
       "      <th>5</th>\n",
       "      <td>2015-02-04 17:55:00</td>\n",
       "      <td>23.10</td>\n",
       "      <td>27.2000</td>\n",
       "      <td>426.0</td>\n",
       "      <td>704.50</td>\n",
       "      <td>0.004757</td>\n",
       "      <td>1</td>\n",
       "    </tr>\n",
       "  </tbody>\n",
       "</table>\n",
       "</div>"
      ],
      "text/plain": [
       "                  date  Temperature  Humidity  Light     CO2  HumidityRatio  \\\n",
       "1  2015-02-04 17:51:00        23.18   27.2720  426.0  721.25       0.004793   \n",
       "2  2015-02-04 17:51:59        23.15   27.2675  429.5  714.00       0.004783   \n",
       "3  2015-02-04 17:53:00        23.15   27.2450  426.0  713.50       0.004779   \n",
       "4  2015-02-04 17:54:00        23.15   27.2000  426.0  708.25       0.004772   \n",
       "5  2015-02-04 17:55:00        23.10   27.2000  426.0  704.50       0.004757   \n",
       "\n",
       "   Occupancy  \n",
       "1          1  \n",
       "2          1  \n",
       "3          1  \n",
       "4          1  \n",
       "5          1  "
      ]
     },
     "execution_count": 6,
     "metadata": {},
     "output_type": "execute_result"
    }
   ],
   "source": [
    "occupancy_data3.head()"
   ]
  },
  {
   "cell_type": "code",
   "execution_count": 7,
   "metadata": {},
   "outputs": [],
   "source": [
    "#Creating list of three dataframes so I can merge into one dataframe\n",
    "dataframes = [occupancy_data1, occupancy_data2, occupancy_data3]"
   ]
  },
  {
   "cell_type": "code",
   "execution_count": 8,
   "metadata": {},
   "outputs": [
    {
     "data": {
      "text/html": [
       "<div>\n",
       "<style scoped>\n",
       "    .dataframe tbody tr th:only-of-type {\n",
       "        vertical-align: middle;\n",
       "    }\n",
       "\n",
       "    .dataframe tbody tr th {\n",
       "        vertical-align: top;\n",
       "    }\n",
       "\n",
       "    .dataframe thead th {\n",
       "        text-align: right;\n",
       "    }\n",
       "</style>\n",
       "<table border=\"1\" class=\"dataframe\">\n",
       "  <thead>\n",
       "    <tr style=\"text-align: right;\">\n",
       "      <th></th>\n",
       "      <th>index</th>\n",
       "      <th>date</th>\n",
       "      <th>Temperature</th>\n",
       "      <th>Humidity</th>\n",
       "      <th>Light</th>\n",
       "      <th>CO2</th>\n",
       "      <th>HumidityRatio</th>\n",
       "      <th>Occupancy</th>\n",
       "    </tr>\n",
       "  </thead>\n",
       "  <tbody>\n",
       "    <tr>\n",
       "      <th>0</th>\n",
       "      <td>140</td>\n",
       "      <td>2015-02-02 14:19:00</td>\n",
       "      <td>23.7000</td>\n",
       "      <td>26.272</td>\n",
       "      <td>585.200000</td>\n",
       "      <td>749.200000</td>\n",
       "      <td>0.004764</td>\n",
       "      <td>1</td>\n",
       "    </tr>\n",
       "    <tr>\n",
       "      <th>1</th>\n",
       "      <td>141</td>\n",
       "      <td>2015-02-02 14:19:59</td>\n",
       "      <td>23.7180</td>\n",
       "      <td>26.290</td>\n",
       "      <td>578.400000</td>\n",
       "      <td>760.400000</td>\n",
       "      <td>0.004773</td>\n",
       "      <td>1</td>\n",
       "    </tr>\n",
       "    <tr>\n",
       "      <th>2</th>\n",
       "      <td>142</td>\n",
       "      <td>2015-02-02 14:21:00</td>\n",
       "      <td>23.7300</td>\n",
       "      <td>26.230</td>\n",
       "      <td>572.666667</td>\n",
       "      <td>769.666667</td>\n",
       "      <td>0.004765</td>\n",
       "      <td>1</td>\n",
       "    </tr>\n",
       "    <tr>\n",
       "      <th>3</th>\n",
       "      <td>143</td>\n",
       "      <td>2015-02-02 14:22:00</td>\n",
       "      <td>23.7225</td>\n",
       "      <td>26.125</td>\n",
       "      <td>493.750000</td>\n",
       "      <td>774.750000</td>\n",
       "      <td>0.004744</td>\n",
       "      <td>1</td>\n",
       "    </tr>\n",
       "    <tr>\n",
       "      <th>4</th>\n",
       "      <td>144</td>\n",
       "      <td>2015-02-02 14:23:00</td>\n",
       "      <td>23.7540</td>\n",
       "      <td>26.200</td>\n",
       "      <td>488.600000</td>\n",
       "      <td>779.000000</td>\n",
       "      <td>0.004767</td>\n",
       "      <td>1</td>\n",
       "    </tr>\n",
       "  </tbody>\n",
       "</table>\n",
       "</div>"
      ],
      "text/plain": [
       "   index                 date  Temperature  Humidity       Light         CO2  \\\n",
       "0    140  2015-02-02 14:19:00      23.7000    26.272  585.200000  749.200000   \n",
       "1    141  2015-02-02 14:19:59      23.7180    26.290  578.400000  760.400000   \n",
       "2    142  2015-02-02 14:21:00      23.7300    26.230  572.666667  769.666667   \n",
       "3    143  2015-02-02 14:22:00      23.7225    26.125  493.750000  774.750000   \n",
       "4    144  2015-02-02 14:23:00      23.7540    26.200  488.600000  779.000000   \n",
       "\n",
       "   HumidityRatio  Occupancy  \n",
       "0       0.004764          1  \n",
       "1       0.004773          1  \n",
       "2       0.004765          1  \n",
       "3       0.004744          1  \n",
       "4       0.004767          1  "
      ]
     },
     "execution_count": 8,
     "metadata": {},
     "output_type": "execute_result"
    }
   ],
   "source": [
    "occupancy_data = pd.concat(dataframes).reset_index()\n",
    "occupancy_data.head()"
   ]
  },
  {
   "cell_type": "code",
   "execution_count": 9,
   "metadata": {},
   "outputs": [
    {
     "data": {
      "text/html": [
       "<div>\n",
       "<style scoped>\n",
       "    .dataframe tbody tr th:only-of-type {\n",
       "        vertical-align: middle;\n",
       "    }\n",
       "\n",
       "    .dataframe tbody tr th {\n",
       "        vertical-align: top;\n",
       "    }\n",
       "\n",
       "    .dataframe thead th {\n",
       "        text-align: right;\n",
       "    }\n",
       "</style>\n",
       "<table border=\"1\" class=\"dataframe\">\n",
       "  <thead>\n",
       "    <tr style=\"text-align: right;\">\n",
       "      <th></th>\n",
       "      <th>date</th>\n",
       "      <th>Temperature</th>\n",
       "      <th>Humidity</th>\n",
       "      <th>Light</th>\n",
       "      <th>CO2</th>\n",
       "      <th>HumidityRatio</th>\n",
       "      <th>Occupancy</th>\n",
       "    </tr>\n",
       "  </thead>\n",
       "  <tbody>\n",
       "    <tr>\n",
       "      <th>0</th>\n",
       "      <td>2015-02-02 14:19:00</td>\n",
       "      <td>23.7000</td>\n",
       "      <td>26.272</td>\n",
       "      <td>585.200000</td>\n",
       "      <td>749.200000</td>\n",
       "      <td>0.004764</td>\n",
       "      <td>1</td>\n",
       "    </tr>\n",
       "    <tr>\n",
       "      <th>1</th>\n",
       "      <td>2015-02-02 14:19:59</td>\n",
       "      <td>23.7180</td>\n",
       "      <td>26.290</td>\n",
       "      <td>578.400000</td>\n",
       "      <td>760.400000</td>\n",
       "      <td>0.004773</td>\n",
       "      <td>1</td>\n",
       "    </tr>\n",
       "    <tr>\n",
       "      <th>2</th>\n",
       "      <td>2015-02-02 14:21:00</td>\n",
       "      <td>23.7300</td>\n",
       "      <td>26.230</td>\n",
       "      <td>572.666667</td>\n",
       "      <td>769.666667</td>\n",
       "      <td>0.004765</td>\n",
       "      <td>1</td>\n",
       "    </tr>\n",
       "    <tr>\n",
       "      <th>3</th>\n",
       "      <td>2015-02-02 14:22:00</td>\n",
       "      <td>23.7225</td>\n",
       "      <td>26.125</td>\n",
       "      <td>493.750000</td>\n",
       "      <td>774.750000</td>\n",
       "      <td>0.004744</td>\n",
       "      <td>1</td>\n",
       "    </tr>\n",
       "    <tr>\n",
       "      <th>4</th>\n",
       "      <td>2015-02-02 14:23:00</td>\n",
       "      <td>23.7540</td>\n",
       "      <td>26.200</td>\n",
       "      <td>488.600000</td>\n",
       "      <td>779.000000</td>\n",
       "      <td>0.004767</td>\n",
       "      <td>1</td>\n",
       "    </tr>\n",
       "  </tbody>\n",
       "</table>\n",
       "</div>"
      ],
      "text/plain": [
       "                  date  Temperature  Humidity       Light         CO2  \\\n",
       "0  2015-02-02 14:19:00      23.7000    26.272  585.200000  749.200000   \n",
       "1  2015-02-02 14:19:59      23.7180    26.290  578.400000  760.400000   \n",
       "2  2015-02-02 14:21:00      23.7300    26.230  572.666667  769.666667   \n",
       "3  2015-02-02 14:22:00      23.7225    26.125  493.750000  774.750000   \n",
       "4  2015-02-02 14:23:00      23.7540    26.200  488.600000  779.000000   \n",
       "\n",
       "   HumidityRatio  Occupancy  \n",
       "0       0.004764          1  \n",
       "1       0.004773          1  \n",
       "2       0.004765          1  \n",
       "3       0.004744          1  \n",
       "4       0.004767          1  "
      ]
     },
     "execution_count": 9,
     "metadata": {},
     "output_type": "execute_result"
    }
   ],
   "source": [
    "#Dropping index column and returning top 5 rows of new dataset\n",
    "occupancy_data = occupancy_data.drop(columns='index')\n",
    "occupancy_data.head()"
   ]
  },
  {
   "cell_type": "code",
   "execution_count": 10,
   "metadata": {},
   "outputs": [
    {
     "data": {
      "text/plain": [
       "-1    15810\n",
       " 1     4750\n",
       "Name: Occupancy, dtype: int64"
      ]
     },
     "execution_count": 10,
     "metadata": {},
     "output_type": "execute_result"
    }
   ],
   "source": [
    "#Turning all '0' values of 'Occupancy' to -1 \n",
    "occupancy_data['Occupancy'] = np.where((occupancy_data['Occupancy'] == 0), -1, occupancy_data['Occupancy'])\n",
    "occupancy_data['Occupancy'].value_counts()"
   ]
  },
  {
   "cell_type": "code",
   "execution_count": 15,
   "metadata": {},
   "outputs": [],
   "source": [
    "#Now have to standardize the numerical columns excluding 'date' and 'occupancy'\n",
    "from sklearn.preprocessing import StandardScaler\n",
    "scaler = StandardScaler()\n",
    "\n",
    "def scale_columns(dataset, cols_to_scale):\n",
    "    for col in cols_to_scale:\n",
    "        dataset[col] = pd.DataFrame(scaler.fit_transform(pd.DataFrame(occupancy_data[col])), columns =[col])\n",
    "    return dataset"
   ]
  },
  {
   "cell_type": "code",
   "execution_count": 16,
   "metadata": {},
   "outputs": [
    {
     "data": {
      "text/html": [
       "<div>\n",
       "<style scoped>\n",
       "    .dataframe tbody tr th:only-of-type {\n",
       "        vertical-align: middle;\n",
       "    }\n",
       "\n",
       "    .dataframe tbody tr th {\n",
       "        vertical-align: top;\n",
       "    }\n",
       "\n",
       "    .dataframe thead th {\n",
       "        text-align: right;\n",
       "    }\n",
       "</style>\n",
       "<table border=\"1\" class=\"dataframe\">\n",
       "  <thead>\n",
       "    <tr style=\"text-align: right;\">\n",
       "      <th></th>\n",
       "      <th>date</th>\n",
       "      <th>Temperature</th>\n",
       "      <th>Humidity</th>\n",
       "      <th>Light</th>\n",
       "      <th>CO2</th>\n",
       "      <th>HumidityRatio</th>\n",
       "      <th>Occupancy</th>\n",
       "    </tr>\n",
       "  </thead>\n",
       "  <tbody>\n",
       "    <tr>\n",
       "      <th>0</th>\n",
       "      <td>2015-02-02 14:19:00</td>\n",
       "      <td>2.647415</td>\n",
       "      <td>-0.277783</td>\n",
       "      <td>2.159638</td>\n",
       "      <td>0.188457</td>\n",
       "      <td>0.697856</td>\n",
       "      <td>1</td>\n",
       "    </tr>\n",
       "    <tr>\n",
       "      <th>1</th>\n",
       "      <td>2015-02-02 14:19:59</td>\n",
       "      <td>2.664472</td>\n",
       "      <td>-0.274170</td>\n",
       "      <td>2.127322</td>\n",
       "      <td>0.224448</td>\n",
       "      <td>0.708923</td>\n",
       "      <td>1</td>\n",
       "    </tr>\n",
       "    <tr>\n",
       "      <th>2</th>\n",
       "      <td>2015-02-02 14:21:00</td>\n",
       "      <td>2.675843</td>\n",
       "      <td>-0.286213</td>\n",
       "      <td>2.100076</td>\n",
       "      <td>0.254226</td>\n",
       "      <td>0.699145</td>\n",
       "      <td>1</td>\n",
       "    </tr>\n",
       "    <tr>\n",
       "      <th>3</th>\n",
       "      <td>2015-02-02 14:22:00</td>\n",
       "      <td>2.668736</td>\n",
       "      <td>-0.307289</td>\n",
       "      <td>1.725043</td>\n",
       "      <td>0.270560</td>\n",
       "      <td>0.671302</td>\n",
       "      <td>1</td>\n",
       "    </tr>\n",
       "    <tr>\n",
       "      <th>4</th>\n",
       "      <td>2015-02-02 14:23:00</td>\n",
       "      <td>2.698586</td>\n",
       "      <td>-0.292235</td>\n",
       "      <td>1.700568</td>\n",
       "      <td>0.284218</td>\n",
       "      <td>0.701022</td>\n",
       "      <td>1</td>\n",
       "    </tr>\n",
       "  </tbody>\n",
       "</table>\n",
       "</div>"
      ],
      "text/plain": [
       "                  date  Temperature  Humidity     Light       CO2  \\\n",
       "0  2015-02-02 14:19:00     2.647415 -0.277783  2.159638  0.188457   \n",
       "1  2015-02-02 14:19:59     2.664472 -0.274170  2.127322  0.224448   \n",
       "2  2015-02-02 14:21:00     2.675843 -0.286213  2.100076  0.254226   \n",
       "3  2015-02-02 14:22:00     2.668736 -0.307289  1.725043  0.270560   \n",
       "4  2015-02-02 14:23:00     2.698586 -0.292235  1.700568  0.284218   \n",
       "\n",
       "   HumidityRatio  Occupancy  \n",
       "0       0.697856          1  \n",
       "1       0.708923          1  \n",
       "2       0.699145          1  \n",
       "3       0.671302          1  \n",
       "4       0.701022          1  "
      ]
     },
     "execution_count": 16,
     "metadata": {},
     "output_type": "execute_result"
    }
   ],
   "source": [
    "scaled_occupancy_data = scale_columns(occupancy_data, [i for i in list(occupancy_data.columns) if i not in ['date', 'Occupancy']])\n",
    "scaled_occupancy_data.head()"
   ]
  },
  {
   "cell_type": "code",
   "execution_count": 17,
   "metadata": {},
   "outputs": [
    {
     "data": {
      "text/html": [
       "<div>\n",
       "<style scoped>\n",
       "    .dataframe tbody tr th:only-of-type {\n",
       "        vertical-align: middle;\n",
       "    }\n",
       "\n",
       "    .dataframe tbody tr th {\n",
       "        vertical-align: top;\n",
       "    }\n",
       "\n",
       "    .dataframe thead th {\n",
       "        text-align: right;\n",
       "    }\n",
       "</style>\n",
       "<table border=\"1\" class=\"dataframe\">\n",
       "  <thead>\n",
       "    <tr style=\"text-align: right;\">\n",
       "      <th></th>\n",
       "      <th>date</th>\n",
       "      <th>Temperature</th>\n",
       "      <th>Humidity</th>\n",
       "      <th>Light</th>\n",
       "      <th>CO2</th>\n",
       "      <th>HumidityRatio</th>\n",
       "      <th>Occupancy</th>\n",
       "    </tr>\n",
       "  </thead>\n",
       "  <tbody>\n",
       "    <tr>\n",
       "      <th>0</th>\n",
       "      <td>0</td>\n",
       "      <td>2.647415</td>\n",
       "      <td>-0.277783</td>\n",
       "      <td>2.159638</td>\n",
       "      <td>0.188457</td>\n",
       "      <td>0.697856</td>\n",
       "      <td>1</td>\n",
       "    </tr>\n",
       "    <tr>\n",
       "      <th>1</th>\n",
       "      <td>0</td>\n",
       "      <td>2.664472</td>\n",
       "      <td>-0.274170</td>\n",
       "      <td>2.127322</td>\n",
       "      <td>0.224448</td>\n",
       "      <td>0.708923</td>\n",
       "      <td>1</td>\n",
       "    </tr>\n",
       "    <tr>\n",
       "      <th>2</th>\n",
       "      <td>0</td>\n",
       "      <td>2.675843</td>\n",
       "      <td>-0.286213</td>\n",
       "      <td>2.100076</td>\n",
       "      <td>0.254226</td>\n",
       "      <td>0.699145</td>\n",
       "      <td>1</td>\n",
       "    </tr>\n",
       "    <tr>\n",
       "      <th>3</th>\n",
       "      <td>0</td>\n",
       "      <td>2.668736</td>\n",
       "      <td>-0.307289</td>\n",
       "      <td>1.725043</td>\n",
       "      <td>0.270560</td>\n",
       "      <td>0.671302</td>\n",
       "      <td>1</td>\n",
       "    </tr>\n",
       "    <tr>\n",
       "      <th>4</th>\n",
       "      <td>0</td>\n",
       "      <td>2.698586</td>\n",
       "      <td>-0.292235</td>\n",
       "      <td>1.700568</td>\n",
       "      <td>0.284218</td>\n",
       "      <td>0.701022</td>\n",
       "      <td>1</td>\n",
       "    </tr>\n",
       "  </tbody>\n",
       "</table>\n",
       "</div>"
      ],
      "text/plain": [
       "   date  Temperature  Humidity     Light       CO2  HumidityRatio  Occupancy\n",
       "0     0     2.647415 -0.277783  2.159638  0.188457       0.697856          1\n",
       "1     0     2.664472 -0.274170  2.127322  0.224448       0.708923          1\n",
       "2     0     2.675843 -0.286213  2.100076  0.254226       0.699145          1\n",
       "3     0     2.668736 -0.307289  1.725043  0.270560       0.671302          1\n",
       "4     0     2.698586 -0.292235  1.700568  0.284218       0.701022          1"
      ]
     },
     "execution_count": 17,
     "metadata": {},
     "output_type": "execute_result"
    }
   ],
   "source": [
    "#changing date column so it only reflects number of day of the week\n",
    "scaled_occupancy_data['date'] = pd.to_datetime(scaled_occupancy_data['date']).dt.dayofweek\n",
    "scaled_occupancy_data.head()"
   ]
  },
  {
   "cell_type": "code",
   "execution_count": 19,
   "metadata": {},
   "outputs": [],
   "source": [
    "#Collecting all the samples we will need for each algorithm\n",
    "all_samples = []\n",
    "\n",
    "for sample in range(0,5):\n",
    "    all_samples.append(scaled_occupancy_data.sample(n=5000, replace=False))"
   ]
  },
  {
   "cell_type": "code",
   "execution_count": 20,
   "metadata": {},
   "outputs": [
    {
     "data": {
      "text/plain": [
       "5"
      ]
     },
     "execution_count": 20,
     "metadata": {},
     "output_type": "execute_result"
    }
   ],
   "source": [
    "len(all_samples)"
   ]
  },
  {
   "cell_type": "code",
   "execution_count": 61,
   "metadata": {},
   "outputs": [
    {
     "data": {
      "text/plain": [
       "20560"
      ]
     },
     "execution_count": 61,
     "metadata": {},
     "output_type": "execute_result"
    }
   ],
   "source": [
    "len(scaled_occupancy_data)"
   ]
  },
  {
   "cell_type": "code",
   "execution_count": 62,
   "metadata": {},
   "outputs": [
    {
     "data": {
      "text/plain": [
       "-1    15810\n",
       " 1     4750\n",
       "Name: Occupancy, dtype: int64"
      ]
     },
     "execution_count": 62,
     "metadata": {},
     "output_type": "execute_result"
    }
   ],
   "source": [
    "scaled_occupancy_data['Occupancy'].value_counts()"
   ]
  },
  {
   "cell_type": "markdown",
   "metadata": {},
   "source": [
    "# Logistic Regression"
   ]
  },
  {
   "cell_type": "code",
   "execution_count": 21,
   "metadata": {},
   "outputs": [],
   "source": [
    "\n",
    "#Lists to save models and training/testing sets\n",
    "all_models = []\n",
    "X_training_sets = []\n",
    "y_training_sets = []\n",
    "X_testing_sets = []\n",
    "y_testing_sets = []\n",
    "\n",
    "#lists to save best params\n",
    "accuracy_best_params = []\n",
    "roc_auc_best_params = []\n",
    "f1_best_params = []\n",
    "\n",
    "#looping across each sample for each trial\n",
    "for sample in all_samples:\n",
    "    X_train = sample.iloc[:, :-1]\n",
    "    y_train = sample.iloc[:, -1]\n",
    "    X_training_sets.append(X_train)\n",
    "    y_training_sets.append(y_train)\n",
    "    \n",
    "    #Separating rows for the test set that were not in the sample\n",
    "    ix = [i for i in scaled_occupancy_data.index if i not in sample.index]\n",
    "    test_set = scaled_occupancy_data.loc[ix]\n",
    "    X_test = test_set.iloc[:, :-1]\n",
    "    y_test = test_set.iloc[:, -1]\n",
    "    X_testing_sets.append(X_test)\n",
    "    y_testing_sets.append(y_test)\n",
    "    \n",
    "    #Initiating classifier\n",
    "    log_reg = LogisticRegression(max_iter=10000)\n",
    "    \n",
    "    grid_values = [{'solver':['saga'],\n",
    "                   'penalty': ['l1', 'l2'],\n",
    "                   'C': [.00000001, .0000001, .000001, .00001, .0001, .001, .01, .1, 1, 10, 100, 1000, 10000]},\n",
    "                   {'solver':['lbfgs'],\n",
    "                   'penalty': ['l2'],\n",
    "                   'C': [.00000001, .0000001, .000001, .00001, .0001, .001, .01, .1, 1, 10, 100, 1000, 10000]},\n",
    "                   {'solver':['lbfgs', 'saga'],\n",
    "                   'penalty': ['none'],}\n",
    "                   ]\n",
    "    clf = GridSearchCV(estimator = log_reg, param_grid = grid_values, cv = StratifiedKFold(n_splits=5),\n",
    "                      scoring = ['accuracy', 'roc_auc_ovr', 'f1_micro'], refit=False, verbose=0)\n",
    "    \n",
    "    model = clf.fit(X_train, y_train)\n",
    "    \n",
    "    accuracy_best_params.append(model.cv_results_['params'][np.argmin(model.cv_results_['rank_test_accuracy'])])\n",
    "    roc_auc_best_params.append(model.cv_results_['params'][np.argmin(model.cv_results_['rank_test_roc_auc_ovr'])])\n",
    "    f1_best_params.append(model.cv_results_['params'][np.argmin(model.cv_results_['rank_test_f1_micro'])])\n",
    "    \n",
    "    all_models.append(model)\n",
    "    "
   ]
  },
  {
   "cell_type": "code",
   "execution_count": 22,
   "metadata": {},
   "outputs": [
    {
     "data": {
      "text/plain": [
       "[{'C': 0.01, 'penalty': 'l1', 'solver': 'saga'},\n",
       " {'C': 0.01, 'penalty': 'l1', 'solver': 'saga'},\n",
       " {'C': 0.01, 'penalty': 'l1', 'solver': 'saga'},\n",
       " {'C': 0.01, 'penalty': 'l1', 'solver': 'saga'},\n",
       " {'C': 0.01, 'penalty': 'l1', 'solver': 'saga'}]"
      ]
     },
     "execution_count": 22,
     "metadata": {},
     "output_type": "execute_result"
    }
   ],
   "source": [
    "accuracy_best_params"
   ]
  },
  {
   "cell_type": "code",
   "execution_count": 23,
   "metadata": {},
   "outputs": [
    {
     "data": {
      "text/plain": [
       "[{'C': 0.01, 'penalty': 'l2', 'solver': 'saga'},\n",
       " {'C': 1000, 'penalty': 'l2', 'solver': 'lbfgs'},\n",
       " {'C': 0.01, 'penalty': 'l2', 'solver': 'lbfgs'},\n",
       " {'C': 100, 'penalty': 'l1', 'solver': 'saga'},\n",
       " {'C': 10000, 'penalty': 'l2', 'solver': 'lbfgs'}]"
      ]
     },
     "execution_count": 23,
     "metadata": {},
     "output_type": "execute_result"
    }
   ],
   "source": [
    "roc_auc_best_params"
   ]
  },
  {
   "cell_type": "code",
   "execution_count": 24,
   "metadata": {},
   "outputs": [
    {
     "data": {
      "text/plain": [
       "[{'C': 0.01, 'penalty': 'l1', 'solver': 'saga'},\n",
       " {'C': 0.01, 'penalty': 'l1', 'solver': 'saga'},\n",
       " {'C': 0.01, 'penalty': 'l1', 'solver': 'saga'},\n",
       " {'C': 0.01, 'penalty': 'l1', 'solver': 'saga'},\n",
       " {'C': 0.01, 'penalty': 'l1', 'solver': 'saga'}]"
      ]
     },
     "execution_count": 24,
     "metadata": {},
     "output_type": "execute_result"
    }
   ],
   "source": [
    "f1_best_params"
   ]
  },
  {
   "cell_type": "code",
   "execution_count": 65,
   "metadata": {},
   "outputs": [],
   "source": [
    "#Now we need to loop across all models from each metric, train on entire sample, and then predict on test set\n",
    "accuracy_test_errors = []\n",
    "accuracy_train_errors = []\n",
    "for param in accuracy_best_params:\n",
    "    \n",
    "    n = 0\n",
    "    if 'C' in param:\n",
    "        \n",
    "        logreg_clf = LogisticRegression(penalty = param['penalty'], solver = param['solver'], C = param['C'], max_iter = 10000)\n",
    "        model = logreg_clf.fit(X_training_sets[n], y_training_sets[n])\n",
    "    else:\n",
    "        \n",
    "        logreg_clf = LogisticRegression(penalty = param['penalty'], solver = param['solver'],  max_iter = 10000)\n",
    "        model = logreg_clf.fit(X_training_sets[n], y_training_sets[n])\n",
    "    \n",
    "    y_pred = model.predict(X_testing_sets[n])\n",
    "    accuracy_test_errors.append(accuracy_score(y_testing_sets[n], y_pred))\n",
    "    \n",
    "    y_pred_train = model.predict(X_training_sets[n])\n",
    "    accuracy_train_errors.append(accuracy_score(y_training_sets[n], y_pred_train))\n",
    "    \n",
    "    n += 1"
   ]
  },
  {
   "cell_type": "code",
   "execution_count": 66,
   "metadata": {},
   "outputs": [
    {
     "data": {
      "text/plain": [
       "[0.9900385604113111,\n",
       " 0.9900385604113111,\n",
       " 0.9900385604113111,\n",
       " 0.9900385604113111,\n",
       " 0.9900385604113111]"
      ]
     },
     "execution_count": 66,
     "metadata": {},
     "output_type": "execute_result"
    }
   ],
   "source": [
    "accuracy_test_errors"
   ]
  },
  {
   "cell_type": "code",
   "execution_count": 67,
   "metadata": {},
   "outputs": [
    {
     "data": {
      "text/plain": [
       "[0.9886, 0.9886, 0.9886, 0.9886, 0.9886]"
      ]
     },
     "execution_count": 67,
     "metadata": {},
     "output_type": "execute_result"
    }
   ],
   "source": [
    "accuracy_train_errors"
   ]
  },
  {
   "cell_type": "code",
   "execution_count": 68,
   "metadata": {},
   "outputs": [],
   "source": [
    "roc_auc_test_errors = []\n",
    "roc_auc_train_errors = []\n",
    "for param in roc_auc_best_params:\n",
    "    \n",
    "    n = 0\n",
    "    \n",
    "    if 'C' in param:\n",
    "        \n",
    "        logreg_clf = LogisticRegression(penalty = param['penalty'], solver = param['solver'], C = param['C'], max_iter = 10000)\n",
    "        model = logreg_clf.fit(X_training_sets[n], y_training_sets[n])\n",
    "    else:\n",
    "        \n",
    "        logreg_clf = LogisticRegression(penalty = param['penalty'], solver = param['solver'],  max_iter = 10000)\n",
    "        model = logreg_clf.fit(X_training_sets[n], y_training_sets[n])\n",
    "    \n",
    "    y_pred2 = model.predict(X_testing_sets[n])\n",
    "    roc_auc_test_errors.append(roc_auc_score(y_testing_sets[n], y_pred2))\n",
    "    \n",
    "    y_pred_train2 = model.predict(X_training_sets[n])\n",
    "    roc_auc_train_errors.append(roc_auc_score(y_training_sets[n], y_pred_train2))\n",
    "    \n",
    "    n += 1"
   ]
  },
  {
   "cell_type": "code",
   "execution_count": 69,
   "metadata": {},
   "outputs": [
    {
     "data": {
      "text/plain": [
       "[0.9871554100374157,\n",
       " 0.9914761210575027,\n",
       " 0.9871554100374157,\n",
       " 0.9914761210575027,\n",
       " 0.9914761210575027]"
      ]
     },
     "execution_count": 69,
     "metadata": {},
     "output_type": "execute_result"
    }
   ],
   "source": [
    "roc_auc_test_errors"
   ]
  },
  {
   "cell_type": "code",
   "execution_count": 70,
   "metadata": {},
   "outputs": [
    {
     "data": {
      "text/plain": [
       "[0.9881614048627007,\n",
       " 0.9920316969735197,\n",
       " 0.9881614048627007,\n",
       " 0.9920316969735197,\n",
       " 0.9921601656271681]"
      ]
     },
     "execution_count": 70,
     "metadata": {},
     "output_type": "execute_result"
    }
   ],
   "source": [
    "roc_auc_train_errors"
   ]
  },
  {
   "cell_type": "code",
   "execution_count": 71,
   "metadata": {},
   "outputs": [],
   "source": [
    "f1_score_test_errors = []\n",
    "f1_score_train_errors = []\n",
    "for param in f1_best_params:\n",
    "    \n",
    "    n = 0\n",
    "    \n",
    "    if 'C' in param:\n",
    "        \n",
    "        logreg_clf = LogisticRegression(penalty = param['penalty'], solver = param['solver'], C = param['C'], max_iter = 10000)\n",
    "        model = logreg_clf.fit(X_training_sets[n], y_training_sets[n])\n",
    "    else:\n",
    "        \n",
    "        logreg_clf = LogisticRegression(penalty = param['penalty'], solver = param['solver'],  max_iter = 10000)\n",
    "        model = logreg_clf.fit(X_training_sets[n], y_training_sets[n])\n",
    "    \n",
    "    y_pred3 = model.predict(X_testing_sets[n])\n",
    "    f1_score_test_errors.append(f1_score(y_testing_sets[n], y_pred3))\n",
    "    \n",
    "    y_pred_train3 = model.predict(X_training_sets[n])\n",
    "    f1_score_train_errors.append(f1_score(y_training_sets[n], y_pred_train3))\n",
    "    \n",
    "    \n",
    "    n += 1"
   ]
  },
  {
   "cell_type": "code",
   "execution_count": 72,
   "metadata": {},
   "outputs": [
    {
     "data": {
      "text/plain": [
       "[0.9790907864562256,\n",
       " 0.9790907864562256,\n",
       " 0.9790907864562256,\n",
       " 0.9790907864562256,\n",
       " 0.9790907864562256]"
      ]
     },
     "execution_count": 72,
     "metadata": {},
     "output_type": "execute_result"
    }
   ],
   "source": [
    "f1_score_test_errors"
   ]
  },
  {
   "cell_type": "code",
   "execution_count": 73,
   "metadata": {},
   "outputs": [
    {
     "data": {
      "text/plain": [
       "[0.9748344370860927,\n",
       " 0.9748344370860927,\n",
       " 0.9748344370860927,\n",
       " 0.9748344370860927,\n",
       " 0.9748344370860927]"
      ]
     },
     "execution_count": 73,
     "metadata": {},
     "output_type": "execute_result"
    }
   ],
   "source": [
    "f1_score_train_errors"
   ]
  },
  {
   "cell_type": "markdown",
   "metadata": {},
   "source": [
    "# KNN"
   ]
  },
  {
   "cell_type": "code",
   "execution_count": 36,
   "metadata": {},
   "outputs": [],
   "source": [
    "\n",
    "#Lists to save models and training/testing sets\n",
    "all_models_knn = []\n",
    "X_training_sets_knn = []\n",
    "y_training_sets_knn = []\n",
    "X_testing_sets_knn = []\n",
    "y_testing_sets_knn = []\n",
    "\n",
    "#lists to save best params\n",
    "accuracy_best_params_knn = []\n",
    "roc_auc_best_params_knn = []\n",
    "f1_best_params_knn = []\n",
    "\n",
    "#looping across each sample for each trial\n",
    "for sample in all_samples:\n",
    "    X_train_knn = sample.iloc[:, :-1]\n",
    "    y_train_knn = sample.iloc[:, -1]\n",
    "    X_training_sets_knn.append(X_train_knn)\n",
    "    y_training_sets_knn.append(y_train_knn)\n",
    "    \n",
    "    #Separating rows for the test set that were not in the sample\n",
    "    ix_knn = [i for i in scaled_occupancy_data.index if i not in sample.index]\n",
    "    test_set_knn = scaled_occupancy_data.loc[ix]\n",
    "    X_test_knn = test_set_knn.iloc[:, :-1]\n",
    "    y_test_knn = test_set_knn.iloc[:, -1]\n",
    "    X_testing_sets_knn.append(X_test_knn)\n",
    "    y_testing_sets_knn.append(y_test_knn)\n",
    "    \n",
    "    #Initiating classifier\n",
    "    knn = KNeighborsClassifier()\n",
    "    \n",
    "    grid_values = {'n_neighbors' : list(range(1,105,4))}\n",
    "    \n",
    "    clf_knn = GridSearchCV(estimator = knn, param_grid = grid_values, cv = StratifiedKFold(n_splits=5),\n",
    "                      scoring = ['accuracy', 'roc_auc_ovr', 'f1_micro'], refit=False, verbose=0)\n",
    "    \n",
    "    model_knn = clf_knn.fit(X_train_knn, y_train_knn)\n",
    "    \n",
    "    accuracy_best_params_knn.append(model_knn.cv_results_['params'][np.argmin(model_knn.cv_results_['rank_test_accuracy'])])\n",
    "    roc_auc_best_params_knn.append(model_knn.cv_results_['params'][np.argmin(model_knn.cv_results_['rank_test_roc_auc_ovr'])])\n",
    "    f1_best_params_knn.append(model_knn.cv_results_['params'][np.argmin(model_knn.cv_results_['rank_test_f1_micro'])])\n",
    "    \n",
    "    all_models_knn.append(model_knn)\n",
    "    "
   ]
  },
  {
   "cell_type": "code",
   "execution_count": 37,
   "metadata": {},
   "outputs": [
    {
     "data": {
      "text/plain": [
       "[{'n_neighbors': 5},\n",
       " {'n_neighbors': 1},\n",
       " {'n_neighbors': 5},\n",
       " {'n_neighbors': 13},\n",
       " {'n_neighbors': 5}]"
      ]
     },
     "execution_count": 37,
     "metadata": {},
     "output_type": "execute_result"
    }
   ],
   "source": [
    "accuracy_best_params_knn"
   ]
  },
  {
   "cell_type": "code",
   "execution_count": 38,
   "metadata": {},
   "outputs": [
    {
     "data": {
      "text/plain": [
       "[{'n_neighbors': 9},\n",
       " {'n_neighbors': 9},\n",
       " {'n_neighbors': 41},\n",
       " {'n_neighbors': 17},\n",
       " {'n_neighbors': 9}]"
      ]
     },
     "execution_count": 38,
     "metadata": {},
     "output_type": "execute_result"
    }
   ],
   "source": [
    "roc_auc_best_params_knn"
   ]
  },
  {
   "cell_type": "code",
   "execution_count": 40,
   "metadata": {},
   "outputs": [
    {
     "data": {
      "text/plain": [
       "[{'n_neighbors': 5},\n",
       " {'n_neighbors': 1},\n",
       " {'n_neighbors': 5},\n",
       " {'n_neighbors': 13},\n",
       " {'n_neighbors': 5}]"
      ]
     },
     "execution_count": 40,
     "metadata": {},
     "output_type": "execute_result"
    }
   ],
   "source": [
    "f1_best_params_knn"
   ]
  },
  {
   "cell_type": "code",
   "execution_count": 74,
   "metadata": {},
   "outputs": [],
   "source": [
    "#Now we need to loop across all models from each metric, train on entire sample, and then predict on test set\n",
    "accuracy_test_errors_knn = []\n",
    "accuracy_train_errors_knn = []\n",
    "for param in accuracy_best_params_knn:\n",
    "    \n",
    "    n_knn = 0\n",
    "    \n",
    "    knn_clf = KNeighborsClassifier(n_neighbors = param['n_neighbors'])\n",
    "    model = knn_clf.fit(X_training_sets_knn[n_knn], y_training_sets_knn[n_knn])\n",
    "    \n",
    "    y_pred_knn = model.predict(X_testing_sets_knn[n_knn])\n",
    "    accuracy_test_errors_knn.append(accuracy_score(y_testing_sets_knn[n_knn], y_pred_knn))\n",
    "    \n",
    "    y_pred_train_knn = model.predict(X_training_sets_knn[n_knn])\n",
    "    accuracy_train_errors_knn.append(accuracy_score(y_training_sets_knn[n_knn], y_pred_train_knn))\n",
    "    \n",
    "    n_knn += 1"
   ]
  },
  {
   "cell_type": "code",
   "execution_count": 75,
   "metadata": {},
   "outputs": [
    {
     "data": {
      "text/plain": [
       "[0.990681233933162,\n",
       " 0.991452442159383,\n",
       " 0.990681233933162,\n",
       " 0.9902313624678664,\n",
       " 0.990681233933162]"
      ]
     },
     "execution_count": 75,
     "metadata": {},
     "output_type": "execute_result"
    }
   ],
   "source": [
    "accuracy_test_errors_knn"
   ]
  },
  {
   "cell_type": "code",
   "execution_count": 76,
   "metadata": {},
   "outputs": [
    {
     "data": {
      "text/plain": [
       "[0.992, 1.0, 0.992, 0.9902, 0.992]"
      ]
     },
     "execution_count": 76,
     "metadata": {},
     "output_type": "execute_result"
    }
   ],
   "source": [
    "accuracy_train_errors_knn"
   ]
  },
  {
   "cell_type": "code",
   "execution_count": 77,
   "metadata": {},
   "outputs": [],
   "source": [
    "roc_auc_test_errors_knn = []\n",
    "roc_auc_train_errors_knn = []\n",
    "for param in roc_auc_best_params_knn:\n",
    "    \n",
    "    n_knn = 0\n",
    "    \n",
    "    knn_clf2 = KNeighborsClassifier(n_neighbors = param['n_neighbors'])\n",
    "    model = knn_clf2.fit(X_training_sets_knn[n_knn], y_training_sets_knn[n_knn])\n",
    "    \n",
    "    y_pred_knn2 = model.predict(X_testing_sets_knn[n_knn])\n",
    "    roc_auc_test_errors_knn.append(roc_auc_score(y_testing_sets_knn[n_knn], y_pred_knn2))\n",
    "    \n",
    "    y_pred_train_knn2 = model.predict(X_training_sets_knn[n_knn])\n",
    "    roc_auc_train_errors_knn.append(roc_auc_score(y_training_sets_knn[n_knn], y_pred_train_knn2))\n",
    "    \n",
    "    n_knn += 1"
   ]
  },
  {
   "cell_type": "code",
   "execution_count": 78,
   "metadata": {},
   "outputs": [
    {
     "data": {
      "text/plain": [
       "[0.9903330916025821,\n",
       " 0.9903330916025821,\n",
       " 0.9918264963834647,\n",
       " 0.9906374606142785,\n",
       " 0.9903330916025821]"
      ]
     },
     "execution_count": 78,
     "metadata": {},
     "output_type": "execute_result"
    }
   ],
   "source": [
    "roc_auc_test_errors_knn"
   ]
  },
  {
   "cell_type": "code",
   "execution_count": 79,
   "metadata": {},
   "outputs": [
    {
     "data": {
      "text/plain": [
       "[0.9929903421254744,\n",
       " 0.9929903421254744,\n",
       " 0.9917089020892621,\n",
       " 0.9917682666656773,\n",
       " 0.9929903421254744]"
      ]
     },
     "execution_count": 79,
     "metadata": {},
     "output_type": "execute_result"
    }
   ],
   "source": [
    "roc_auc_train_errors_knn"
   ]
  },
  {
   "cell_type": "code",
   "execution_count": 80,
   "metadata": {},
   "outputs": [],
   "source": [
    "f1_score_test_errors_knn = []\n",
    "f1_score_train_errors_knn = []\n",
    "for param in f1_best_params_knn:\n",
    "    \n",
    "    n_knn = 0\n",
    "    \n",
    "    knn_clf3 = KNeighborsClassifier(n_neighbors = param['n_neighbors'])\n",
    "    model = knn_clf3.fit(X_training_sets_knn[n_knn], y_training_sets_knn[n_knn])\n",
    "    \n",
    "    y_pred_knn3 = model.predict(X_testing_sets_knn[n_knn])\n",
    "    f1_score_test_errors_knn.append(f1_score(y_testing_sets_knn[n_knn], y_pred_knn3))\n",
    "    \n",
    "    y_pred_train_knn3 = model.predict(X_training_sets_knn[n_knn])\n",
    "    f1_score_train_errors_knn.append(f1_score(y_training_sets_knn[n_knn], y_pred_train_knn3))\n",
    "    \n",
    "    \n",
    "    n_knn += 1"
   ]
  },
  {
   "cell_type": "code",
   "execution_count": 81,
   "metadata": {},
   "outputs": [
    {
     "data": {
      "text/plain": [
       "[0.980013783597519,\n",
       " 0.981401202629003,\n",
       " 0.980013783597519,\n",
       " 0.9791552386176632,\n",
       " 0.980013783597519]"
      ]
     },
     "execution_count": 81,
     "metadata": {},
     "output_type": "execute_result"
    }
   ],
   "source": [
    "f1_score_test_errors_knn"
   ]
  },
  {
   "cell_type": "code",
   "execution_count": 82,
   "metadata": {},
   "outputs": [
    {
     "data": {
      "text/plain": [
       "[0.9821268990169795,\n",
       " 1.0,\n",
       " 0.9821268990169795,\n",
       " 0.9782512205947627,\n",
       " 0.9821268990169795]"
      ]
     },
     "execution_count": 82,
     "metadata": {},
     "output_type": "execute_result"
    }
   ],
   "source": [
    "f1_score_train_errors_knn"
   ]
  },
  {
   "cell_type": "markdown",
   "metadata": {},
   "source": [
    "# Decision Tree"
   ]
  },
  {
   "cell_type": "code",
   "execution_count": 50,
   "metadata": {},
   "outputs": [],
   "source": [
    "#Lists to save models and training/testing sets\n",
    "all_models_dt = []\n",
    "X_training_sets_dt = []\n",
    "y_training_sets_dt = []\n",
    "X_testing_sets_dt = []\n",
    "y_testing_sets_dt = []\n",
    "\n",
    "#lists to save best params\n",
    "accuracy_best_params_dt = []\n",
    "roc_auc_best_params_dt = []\n",
    "f1_best_params_dt = []\n",
    "\n",
    "#looping across each sample for each trial\n",
    "for sample in all_samples:\n",
    "    X_train_dt = sample.iloc[:, :-1]\n",
    "    y_train_dt = sample.iloc[:, -1]\n",
    "    X_training_sets_dt.append(X_train_dt)\n",
    "    y_training_sets_dt.append(y_train_dt)\n",
    "    \n",
    "    #Separating rows for the test set that were not in the sample\n",
    "    ix_dt = [i for i in scaled_occupancy_data.index if i not in sample.index]\n",
    "    test_set_dt = scaled_occupancy_data.loc[ix_dt]\n",
    "    X_test_dt = test_set_dt.iloc[:, :-1]\n",
    "    y_test_dt = test_set_dt.iloc[:, -1]\n",
    "    X_testing_sets_dt.append(X_test_dt)\n",
    "    y_testing_sets_dt.append(y_test_dt)\n",
    "    \n",
    "    #Initiating classifier\n",
    "    dt = DecisionTreeClassifier()\n",
    "    \n",
    "    grid_values = [{'criterion': ['gini', 'entropy'], 'max_depth':list(range(1,100,3)), 'min_samples_leaf': list(range(10,100,10))}]\n",
    "    \n",
    "    clf_dt = GridSearchCV(estimator = dt, param_grid = grid_values, cv = StratifiedKFold(n_splits=5),\n",
    "                      scoring = ['accuracy', 'roc_auc_ovr', 'f1_micro'], refit=False, verbose=0)\n",
    "    \n",
    "    model_dt = clf_dt.fit(X_train_dt, y_train_dt)\n",
    "    \n",
    "    accuracy_best_params_dt.append(model_dt.cv_results_['params'][np.argmin(model_dt.cv_results_['rank_test_accuracy'])])\n",
    "    roc_auc_best_params_dt.append(model_dt.cv_results_['params'][np.argmin(model_dt.cv_results_['rank_test_roc_auc_ovr'])])\n",
    "    f1_best_params_dt.append(model_dt.cv_results_['params'][np.argmin(model_dt.cv_results_['rank_test_f1_micro'])])\n",
    "    \n",
    "    all_models_dt.append(model_dt)"
   ]
  },
  {
   "cell_type": "code",
   "execution_count": 51,
   "metadata": {},
   "outputs": [
    {
     "data": {
      "text/plain": [
       "[{'criterion': 'gini', 'max_depth': 1, 'min_samples_leaf': 10},\n",
       " {'criterion': 'entropy', 'max_depth': 7, 'min_samples_leaf': 10},\n",
       " {'criterion': 'gini', 'max_depth': 7, 'min_samples_leaf': 30},\n",
       " {'criterion': 'entropy', 'max_depth': 16, 'min_samples_leaf': 10},\n",
       " {'criterion': 'entropy', 'max_depth': 7, 'min_samples_leaf': 10}]"
      ]
     },
     "execution_count": 51,
     "metadata": {},
     "output_type": "execute_result"
    }
   ],
   "source": [
    "accuracy_best_params_dt"
   ]
  },
  {
   "cell_type": "code",
   "execution_count": 52,
   "metadata": {},
   "outputs": [
    {
     "data": {
      "text/plain": [
       "[{'criterion': 'entropy', 'max_depth': 4, 'min_samples_leaf': 90},\n",
       " {'criterion': 'gini', 'max_depth': 55, 'min_samples_leaf': 50},\n",
       " {'criterion': 'gini', 'max_depth': 7, 'min_samples_leaf': 20},\n",
       " {'criterion': 'entropy', 'max_depth': 55, 'min_samples_leaf': 30},\n",
       " {'criterion': 'gini', 'max_depth': 97, 'min_samples_leaf': 20}]"
      ]
     },
     "execution_count": 52,
     "metadata": {},
     "output_type": "execute_result"
    }
   ],
   "source": [
    "roc_auc_best_params_dt"
   ]
  },
  {
   "cell_type": "code",
   "execution_count": 53,
   "metadata": {},
   "outputs": [
    {
     "data": {
      "text/plain": [
       "[{'criterion': 'gini', 'max_depth': 1, 'min_samples_leaf': 10},\n",
       " {'criterion': 'entropy', 'max_depth': 7, 'min_samples_leaf': 10},\n",
       " {'criterion': 'gini', 'max_depth': 7, 'min_samples_leaf': 30},\n",
       " {'criterion': 'entropy', 'max_depth': 16, 'min_samples_leaf': 10},\n",
       " {'criterion': 'entropy', 'max_depth': 7, 'min_samples_leaf': 10}]"
      ]
     },
     "execution_count": 53,
     "metadata": {},
     "output_type": "execute_result"
    }
   ],
   "source": [
    "f1_best_params_dt"
   ]
  },
  {
   "cell_type": "code",
   "execution_count": 83,
   "metadata": {},
   "outputs": [],
   "source": [
    "#Now we need to loop across all models from each metric, train on entire sample, and then predict on test set\n",
    "accuracy_test_errors_dt = []\n",
    "accuracy_train_errors_dt = []\n",
    "for param in accuracy_best_params_dt:\n",
    "    \n",
    "    n_dt = 0\n",
    "    \n",
    "    dt_clf = DecisionTreeClassifier(criterion = param['criterion'], max_depth = param['max_depth'],\n",
    "                                   min_samples_leaf = param['min_samples_leaf'])\n",
    "    model = dt_clf.fit(X_training_sets_dt[n_dt], y_training_sets_dt[n_dt])\n",
    "    \n",
    "    y_pred_dt = model.predict(X_testing_sets_dt[n_dt])\n",
    "    accuracy_test_errors_dt.append(accuracy_score(y_testing_sets_dt[n_dt], y_pred_dt))\n",
    "    \n",
    "    y_pred_train_dt = model.predict(X_training_sets_dt[n_dt])\n",
    "    accuracy_train_errors_dt.append(accuracy_score(y_training_sets_dt[n_dt], y_pred_train_dt))\n",
    "    \n",
    "    n_dt += 1"
   ]
  },
  {
   "cell_type": "code",
   "execution_count": 84,
   "metadata": {},
   "outputs": [
    {
     "data": {
      "text/plain": [
       "[0.9897172236503856,\n",
       " 0.9865681233933162,\n",
       " 0.9897172236503856,\n",
       " 0.9857969151670951,\n",
       " 0.9865681233933162]"
      ]
     },
     "execution_count": 84,
     "metadata": {},
     "output_type": "execute_result"
    }
   ],
   "source": [
    "accuracy_test_errors_dt"
   ]
  },
  {
   "cell_type": "code",
   "execution_count": 85,
   "metadata": {},
   "outputs": [
    {
     "data": {
      "text/plain": [
       "[0.9878, 0.99, 0.9878, 0.991, 0.99]"
      ]
     },
     "execution_count": 85,
     "metadata": {},
     "output_type": "execute_result"
    }
   ],
   "source": [
    "accuracy_train_errors_dt"
   ]
  },
  {
   "cell_type": "code",
   "execution_count": 86,
   "metadata": {},
   "outputs": [],
   "source": [
    "roc_auc_test_errors_dt = []\n",
    "roc_auc_train_errors_dt = []\n",
    "for param in roc_auc_best_params_dt:\n",
    "    \n",
    "    n_dt = 0\n",
    "    \n",
    "    dt_clf2 = DecisionTreeClassifier(criterion = param['criterion'], max_depth = param['max_depth'],\n",
    "                                   min_samples_leaf = param['min_samples_leaf'])\n",
    "    model = dt_clf2.fit(X_training_sets_dt[n_dt], y_training_sets_dt[n_dt])\n",
    "    \n",
    "    y_pred_dt2 = model.predict(X_testing_sets_dt[n_dt])\n",
    "    roc_auc_test_errors_dt.append(roc_auc_score(y_testing_sets_dt[n_dt], y_pred_dt2))\n",
    "    \n",
    "    y_pred_train_dt2 = model.predict(X_training_sets_dt[n_dt])\n",
    "    roc_auc_train_errors_dt.append(roc_auc_score(y_training_sets_dt[n_dt], y_pred_train_dt2))\n",
    "    \n",
    "    n_dt += 1"
   ]
  },
  {
   "cell_type": "code",
   "execution_count": 87,
   "metadata": {},
   "outputs": [
    {
     "data": {
      "text/plain": [
       "[0.9915714549144581,\n",
       " 0.9915714549144581,\n",
       " 0.9915714549144581,\n",
       " 0.9816946093012116,\n",
       " 0.9915714549144581]"
      ]
     },
     "execution_count": 87,
     "metadata": {},
     "output_type": "execute_result"
    }
   ],
   "source": [
    "roc_auc_test_errors_dt"
   ]
  },
  {
   "cell_type": "code",
   "execution_count": 88,
   "metadata": {},
   "outputs": [
    {
     "data": {
      "text/plain": [
       "[0.9899038479376374,\n",
       " 0.9899038479376374,\n",
       " 0.9899038479376374,\n",
       " 0.9857701255189762,\n",
       " 0.9899038479376374]"
      ]
     },
     "execution_count": 88,
     "metadata": {},
     "output_type": "execute_result"
    }
   ],
   "source": [
    "roc_auc_train_errors_dt"
   ]
  },
  {
   "cell_type": "code",
   "execution_count": 89,
   "metadata": {},
   "outputs": [],
   "source": [
    "f1_score_test_errors_dt = []\n",
    "f1_score_train_errors_dt = []\n",
    "for param in f1_best_params_dt:\n",
    "    \n",
    "    n_dt = 0\n",
    "    \n",
    "    dt_clf3 = DecisionTreeClassifier(criterion = param['criterion'], max_depth = param['max_depth'],\n",
    "                                   min_samples_leaf = param['min_samples_leaf'])\n",
    "    model = dt_clf3.fit(X_training_sets_dt[n_dt], y_training_sets_dt[n_dt])\n",
    "    \n",
    "    y_pred_dt3 = model.predict(X_testing_sets_dt[n_dt])\n",
    "    f1_score_test_errors_dt.append(f1_score(y_testing_sets_dt[n_dt], y_pred_dt3))\n",
    "    \n",
    "    y_pred_train_dt3 = model.predict(X_training_sets_dt[n_dt])\n",
    "    f1_score_train_errors_dt.append(f1_score(y_training_sets_dt[n_dt], y_pred_train_dt3))\n",
    "    \n",
    "    n_dt += 1"
   ]
  },
  {
   "cell_type": "code",
   "execution_count": 90,
   "metadata": {},
   "outputs": [
    {
     "data": {
      "text/plain": [
       "[0.9784017278617712,\n",
       " 0.9713030344638198,\n",
       " 0.9784017278617712,\n",
       " 0.9692031487363625,\n",
       " 0.9713030344638198]"
      ]
     },
     "execution_count": 90,
     "metadata": {},
     "output_type": "execute_result"
    }
   ],
   "source": [
    "f1_score_test_errors_dt"
   ]
  },
  {
   "cell_type": "code",
   "execution_count": 91,
   "metadata": {},
   "outputs": [
    {
     "data": {
      "text/plain": [
       "[0.9730446310207688,\n",
       " 0.9776785714285714,\n",
       " 0.9730446310207688,\n",
       " 0.9797205948625508,\n",
       " 0.9776785714285714]"
      ]
     },
     "execution_count": 91,
     "metadata": {},
     "output_type": "execute_result"
    }
   ],
   "source": [
    "f1_score_train_errors_dt"
   ]
  },
  {
   "cell_type": "code",
   "execution_count": null,
   "metadata": {},
   "outputs": [],
   "source": []
  }
 ],
 "metadata": {
  "kernelspec": {
   "display_name": "Python 3",
   "language": "python",
   "name": "python3"
  },
  "language_info": {
   "codemirror_mode": {
    "name": "ipython",
    "version": 3
   },
   "file_extension": ".py",
   "mimetype": "text/x-python",
   "name": "python",
   "nbconvert_exporter": "python",
   "pygments_lexer": "ipython3",
   "version": "3.8.5"
  }
 },
 "nbformat": 4,
 "nbformat_minor": 4
}
