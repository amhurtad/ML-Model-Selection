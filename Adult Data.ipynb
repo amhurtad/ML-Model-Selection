{
 "cells": [
  {
   "cell_type": "code",
   "execution_count": 1,
   "metadata": {},
   "outputs": [],
   "source": [
    "import pandas as pd\n",
    "import numpy as np\n",
    "import matplotlib.pyplot as plt\n",
    "import seaborn as sns\n",
    "from sklearn.neighbors import KNeighborsClassifier\n",
    "from sklearn.linear_model import LogisticRegression\n",
    "from sklearn.tree import DecisionTreeClassifier\n",
    "from sklearn.model_selection import train_test_split, cross_val_score, GridSearchCV, StratifiedKFold\n",
    "from sklearn.metrics import accuracy_score, precision_score, f1_score, roc_auc_score\n",
    "from sklearn.ensemble import RandomForestClassifier\n",
    "from sklearn.tree import DecisionTreeClassifier"
   ]
  },
  {
   "cell_type": "code",
   "execution_count": 2,
   "metadata": {},
   "outputs": [
    {
     "data": {
      "text/html": [
       "<div>\n",
       "<style scoped>\n",
       "    .dataframe tbody tr th:only-of-type {\n",
       "        vertical-align: middle;\n",
       "    }\n",
       "\n",
       "    .dataframe tbody tr th {\n",
       "        vertical-align: top;\n",
       "    }\n",
       "\n",
       "    .dataframe thead th {\n",
       "        text-align: right;\n",
       "    }\n",
       "</style>\n",
       "<table border=\"1\" class=\"dataframe\">\n",
       "  <thead>\n",
       "    <tr style=\"text-align: right;\">\n",
       "      <th></th>\n",
       "      <th>39</th>\n",
       "      <th>State-gov</th>\n",
       "      <th>77516</th>\n",
       "      <th>Bachelors</th>\n",
       "      <th>13</th>\n",
       "      <th>Never-married</th>\n",
       "      <th>Adm-clerical</th>\n",
       "      <th>Not-in-family</th>\n",
       "      <th>White</th>\n",
       "      <th>Male</th>\n",
       "      <th>2174</th>\n",
       "      <th>0</th>\n",
       "      <th>40</th>\n",
       "      <th>United-States</th>\n",
       "      <th>&lt;=50K</th>\n",
       "    </tr>\n",
       "  </thead>\n",
       "  <tbody>\n",
       "    <tr>\n",
       "      <th>0</th>\n",
       "      <td>50</td>\n",
       "      <td>Self-emp-not-inc</td>\n",
       "      <td>83311</td>\n",
       "      <td>Bachelors</td>\n",
       "      <td>13</td>\n",
       "      <td>Married-civ-spouse</td>\n",
       "      <td>Exec-managerial</td>\n",
       "      <td>Husband</td>\n",
       "      <td>White</td>\n",
       "      <td>Male</td>\n",
       "      <td>0</td>\n",
       "      <td>0</td>\n",
       "      <td>13</td>\n",
       "      <td>United-States</td>\n",
       "      <td>&lt;=50K</td>\n",
       "    </tr>\n",
       "    <tr>\n",
       "      <th>1</th>\n",
       "      <td>38</td>\n",
       "      <td>Private</td>\n",
       "      <td>215646</td>\n",
       "      <td>HS-grad</td>\n",
       "      <td>9</td>\n",
       "      <td>Divorced</td>\n",
       "      <td>Handlers-cleaners</td>\n",
       "      <td>Not-in-family</td>\n",
       "      <td>White</td>\n",
       "      <td>Male</td>\n",
       "      <td>0</td>\n",
       "      <td>0</td>\n",
       "      <td>40</td>\n",
       "      <td>United-States</td>\n",
       "      <td>&lt;=50K</td>\n",
       "    </tr>\n",
       "    <tr>\n",
       "      <th>2</th>\n",
       "      <td>53</td>\n",
       "      <td>Private</td>\n",
       "      <td>234721</td>\n",
       "      <td>11th</td>\n",
       "      <td>7</td>\n",
       "      <td>Married-civ-spouse</td>\n",
       "      <td>Handlers-cleaners</td>\n",
       "      <td>Husband</td>\n",
       "      <td>Black</td>\n",
       "      <td>Male</td>\n",
       "      <td>0</td>\n",
       "      <td>0</td>\n",
       "      <td>40</td>\n",
       "      <td>United-States</td>\n",
       "      <td>&lt;=50K</td>\n",
       "    </tr>\n",
       "    <tr>\n",
       "      <th>3</th>\n",
       "      <td>28</td>\n",
       "      <td>Private</td>\n",
       "      <td>338409</td>\n",
       "      <td>Bachelors</td>\n",
       "      <td>13</td>\n",
       "      <td>Married-civ-spouse</td>\n",
       "      <td>Prof-specialty</td>\n",
       "      <td>Wife</td>\n",
       "      <td>Black</td>\n",
       "      <td>Female</td>\n",
       "      <td>0</td>\n",
       "      <td>0</td>\n",
       "      <td>40</td>\n",
       "      <td>Cuba</td>\n",
       "      <td>&lt;=50K</td>\n",
       "    </tr>\n",
       "    <tr>\n",
       "      <th>4</th>\n",
       "      <td>37</td>\n",
       "      <td>Private</td>\n",
       "      <td>284582</td>\n",
       "      <td>Masters</td>\n",
       "      <td>14</td>\n",
       "      <td>Married-civ-spouse</td>\n",
       "      <td>Exec-managerial</td>\n",
       "      <td>Wife</td>\n",
       "      <td>White</td>\n",
       "      <td>Female</td>\n",
       "      <td>0</td>\n",
       "      <td>0</td>\n",
       "      <td>40</td>\n",
       "      <td>United-States</td>\n",
       "      <td>&lt;=50K</td>\n",
       "    </tr>\n",
       "  </tbody>\n",
       "</table>\n",
       "</div>"
      ],
      "text/plain": [
       "   39          State-gov   77516   Bachelors   13        Never-married  \\\n",
       "0  50   Self-emp-not-inc   83311   Bachelors   13   Married-civ-spouse   \n",
       "1  38            Private  215646     HS-grad    9             Divorced   \n",
       "2  53            Private  234721        11th    7   Married-civ-spouse   \n",
       "3  28            Private  338409   Bachelors   13   Married-civ-spouse   \n",
       "4  37            Private  284582     Masters   14   Married-civ-spouse   \n",
       "\n",
       "         Adm-clerical   Not-in-family   White     Male   2174   0   40  \\\n",
       "0     Exec-managerial         Husband   White     Male      0   0   13   \n",
       "1   Handlers-cleaners   Not-in-family   White     Male      0   0   40   \n",
       "2   Handlers-cleaners         Husband   Black     Male      0   0   40   \n",
       "3      Prof-specialty            Wife   Black   Female      0   0   40   \n",
       "4     Exec-managerial            Wife   White   Female      0   0   40   \n",
       "\n",
       "    United-States   <=50K  \n",
       "0   United-States   <=50K  \n",
       "1   United-States   <=50K  \n",
       "2   United-States   <=50K  \n",
       "3            Cuba   <=50K  \n",
       "4   United-States   <=50K  "
      ]
     },
     "execution_count": 2,
     "metadata": {},
     "output_type": "execute_result"
    }
   ],
   "source": [
    "adult_data = pd.read_csv('adult.data')\n",
    "adult_data.head()"
   ]
  },
  {
   "cell_type": "code",
   "execution_count": 3,
   "metadata": {},
   "outputs": [
    {
     "data": {
      "text/html": [
       "<div>\n",
       "<style scoped>\n",
       "    .dataframe tbody tr th:only-of-type {\n",
       "        vertical-align: middle;\n",
       "    }\n",
       "\n",
       "    .dataframe tbody tr th {\n",
       "        vertical-align: top;\n",
       "    }\n",
       "\n",
       "    .dataframe thead th {\n",
       "        text-align: right;\n",
       "    }\n",
       "</style>\n",
       "<table border=\"1\" class=\"dataframe\">\n",
       "  <thead>\n",
       "    <tr style=\"text-align: right;\">\n",
       "      <th></th>\n",
       "      <th>Age</th>\n",
       "      <th>Work-class</th>\n",
       "      <th>fnlwgt</th>\n",
       "      <th>Education</th>\n",
       "      <th>Education-num</th>\n",
       "      <th>Marital-status</th>\n",
       "      <th>Occupation</th>\n",
       "      <th>Relationship</th>\n",
       "      <th>Race</th>\n",
       "      <th>Sex</th>\n",
       "      <th>Capital-gain</th>\n",
       "      <th>Capital-loss</th>\n",
       "      <th>Hours-per-week</th>\n",
       "      <th>Country</th>\n",
       "      <th>Salary&gt;50K</th>\n",
       "    </tr>\n",
       "  </thead>\n",
       "  <tbody>\n",
       "    <tr>\n",
       "      <th>0</th>\n",
       "      <td>50</td>\n",
       "      <td>Self-emp-not-inc</td>\n",
       "      <td>83311</td>\n",
       "      <td>Bachelors</td>\n",
       "      <td>13</td>\n",
       "      <td>Married-civ-spouse</td>\n",
       "      <td>Exec-managerial</td>\n",
       "      <td>Husband</td>\n",
       "      <td>White</td>\n",
       "      <td>Male</td>\n",
       "      <td>0</td>\n",
       "      <td>0</td>\n",
       "      <td>13</td>\n",
       "      <td>United-States</td>\n",
       "      <td>&lt;=50K</td>\n",
       "    </tr>\n",
       "    <tr>\n",
       "      <th>1</th>\n",
       "      <td>38</td>\n",
       "      <td>Private</td>\n",
       "      <td>215646</td>\n",
       "      <td>HS-grad</td>\n",
       "      <td>9</td>\n",
       "      <td>Divorced</td>\n",
       "      <td>Handlers-cleaners</td>\n",
       "      <td>Not-in-family</td>\n",
       "      <td>White</td>\n",
       "      <td>Male</td>\n",
       "      <td>0</td>\n",
       "      <td>0</td>\n",
       "      <td>40</td>\n",
       "      <td>United-States</td>\n",
       "      <td>&lt;=50K</td>\n",
       "    </tr>\n",
       "    <tr>\n",
       "      <th>2</th>\n",
       "      <td>53</td>\n",
       "      <td>Private</td>\n",
       "      <td>234721</td>\n",
       "      <td>11th</td>\n",
       "      <td>7</td>\n",
       "      <td>Married-civ-spouse</td>\n",
       "      <td>Handlers-cleaners</td>\n",
       "      <td>Husband</td>\n",
       "      <td>Black</td>\n",
       "      <td>Male</td>\n",
       "      <td>0</td>\n",
       "      <td>0</td>\n",
       "      <td>40</td>\n",
       "      <td>United-States</td>\n",
       "      <td>&lt;=50K</td>\n",
       "    </tr>\n",
       "    <tr>\n",
       "      <th>3</th>\n",
       "      <td>28</td>\n",
       "      <td>Private</td>\n",
       "      <td>338409</td>\n",
       "      <td>Bachelors</td>\n",
       "      <td>13</td>\n",
       "      <td>Married-civ-spouse</td>\n",
       "      <td>Prof-specialty</td>\n",
       "      <td>Wife</td>\n",
       "      <td>Black</td>\n",
       "      <td>Female</td>\n",
       "      <td>0</td>\n",
       "      <td>0</td>\n",
       "      <td>40</td>\n",
       "      <td>Cuba</td>\n",
       "      <td>&lt;=50K</td>\n",
       "    </tr>\n",
       "    <tr>\n",
       "      <th>4</th>\n",
       "      <td>37</td>\n",
       "      <td>Private</td>\n",
       "      <td>284582</td>\n",
       "      <td>Masters</td>\n",
       "      <td>14</td>\n",
       "      <td>Married-civ-spouse</td>\n",
       "      <td>Exec-managerial</td>\n",
       "      <td>Wife</td>\n",
       "      <td>White</td>\n",
       "      <td>Female</td>\n",
       "      <td>0</td>\n",
       "      <td>0</td>\n",
       "      <td>40</td>\n",
       "      <td>United-States</td>\n",
       "      <td>&lt;=50K</td>\n",
       "    </tr>\n",
       "  </tbody>\n",
       "</table>\n",
       "</div>"
      ],
      "text/plain": [
       "   Age         Work-class  fnlwgt   Education  Education-num  \\\n",
       "0   50   Self-emp-not-inc   83311   Bachelors             13   \n",
       "1   38            Private  215646     HS-grad              9   \n",
       "2   53            Private  234721        11th              7   \n",
       "3   28            Private  338409   Bachelors             13   \n",
       "4   37            Private  284582     Masters             14   \n",
       "\n",
       "        Marital-status          Occupation    Relationship    Race      Sex  \\\n",
       "0   Married-civ-spouse     Exec-managerial         Husband   White     Male   \n",
       "1             Divorced   Handlers-cleaners   Not-in-family   White     Male   \n",
       "2   Married-civ-spouse   Handlers-cleaners         Husband   Black     Male   \n",
       "3   Married-civ-spouse      Prof-specialty            Wife   Black   Female   \n",
       "4   Married-civ-spouse     Exec-managerial            Wife   White   Female   \n",
       "\n",
       "   Capital-gain  Capital-loss  Hours-per-week         Country Salary>50K  \n",
       "0             0             0              13   United-States      <=50K  \n",
       "1             0             0              40   United-States      <=50K  \n",
       "2             0             0              40   United-States      <=50K  \n",
       "3             0             0              40            Cuba      <=50K  \n",
       "4             0             0              40   United-States      <=50K  "
      ]
     },
     "execution_count": 3,
     "metadata": {},
     "output_type": "execute_result"
    }
   ],
   "source": [
    "#Going to rename all the columns to correct labels\n",
    "adult_data.rename(columns={'39':'Age', ' State-gov':'Work-class', ' 77516': 'fnlwgt', ' Bachelors': 'Education',\n",
    "                          ' 13': 'Education-num', ' Never-married': 'Marital-status', ' Adm-clerical': 'Occupation',\n",
    "                           ' Not-in-family':'Relationship', ' White': 'Race', ' Male': 'Sex', ' 2174': 'Capital-gain',\n",
    "                           ' 0' : 'Capital-loss', ' 40':'Hours-per-week',' United-States':'Country',' <=50K' : 'Salary>50K'}, inplace=True)\n",
    "adult_data.head()"
   ]
  },
  {
   "cell_type": "code",
   "execution_count": 4,
   "metadata": {},
   "outputs": [
    {
     "data": {
      "text/plain": [
       "32560"
      ]
     },
     "execution_count": 4,
     "metadata": {},
     "output_type": "execute_result"
    }
   ],
   "source": [
    "len(adult_data)"
   ]
  },
  {
   "cell_type": "code",
   "execution_count": 5,
   "metadata": {},
   "outputs": [
    {
     "data": {
      "text/plain": [
       " Private             22696\n",
       " Self-emp-not-inc     2541\n",
       " Local-gov            2093\n",
       " ?                    1836\n",
       " State-gov            1297\n",
       " Self-emp-inc         1116\n",
       " Federal-gov           960\n",
       " Without-pay            14\n",
       " Never-worked            7\n",
       "Name: Work-class, dtype: int64"
      ]
     },
     "execution_count": 5,
     "metadata": {},
     "output_type": "execute_result"
    }
   ],
   "source": [
    "#Seeing what values can be excluded from data based on their frequency of values in dataframe\n",
    "adult_data['Work-class'].value_counts()"
   ]
  },
  {
   "cell_type": "code",
   "execution_count": 6,
   "metadata": {},
   "outputs": [
    {
     "data": {
      "text/plain": [
       " HS-grad         10501\n",
       " Some-college     7291\n",
       " Bachelors        5354\n",
       " Masters          1723\n",
       " Assoc-voc        1382\n",
       " 11th             1175\n",
       " Assoc-acdm       1067\n",
       " 10th              933\n",
       " 7th-8th           646\n",
       " Prof-school       576\n",
       " 9th               514\n",
       " 12th              433\n",
       " Doctorate         413\n",
       " 5th-6th           333\n",
       " 1st-4th           168\n",
       " Preschool          51\n",
       "Name: Education, dtype: int64"
      ]
     },
     "execution_count": 6,
     "metadata": {},
     "output_type": "execute_result"
    }
   ],
   "source": [
    "adult_data['Education'].value_counts()"
   ]
  },
  {
   "cell_type": "code",
   "execution_count": 7,
   "metadata": {},
   "outputs": [
    {
     "data": {
      "text/plain": [
       " Married-civ-spouse       14976\n",
       " Never-married            10682\n",
       " Divorced                  4443\n",
       " Separated                 1025\n",
       " Widowed                    993\n",
       " Married-spouse-absent      418\n",
       " Married-AF-spouse           23\n",
       "Name: Marital-status, dtype: int64"
      ]
     },
     "execution_count": 7,
     "metadata": {},
     "output_type": "execute_result"
    }
   ],
   "source": [
    "adult_data['Marital-status'].value_counts()"
   ]
  },
  {
   "cell_type": "code",
   "execution_count": 8,
   "metadata": {},
   "outputs": [
    {
     "data": {
      "text/plain": [
       " Prof-specialty       4140\n",
       " Craft-repair         4099\n",
       " Exec-managerial      4066\n",
       " Adm-clerical         3769\n",
       " Sales                3650\n",
       " Other-service        3295\n",
       " Machine-op-inspct    2002\n",
       " ?                    1843\n",
       " Transport-moving     1597\n",
       " Handlers-cleaners    1370\n",
       " Farming-fishing       994\n",
       " Tech-support          928\n",
       " Protective-serv       649\n",
       " Priv-house-serv       149\n",
       " Armed-Forces            9\n",
       "Name: Occupation, dtype: int64"
      ]
     },
     "execution_count": 8,
     "metadata": {},
     "output_type": "execute_result"
    }
   ],
   "source": [
    "adult_data['Occupation'].value_counts()"
   ]
  },
  {
   "cell_type": "code",
   "execution_count": 9,
   "metadata": {},
   "outputs": [
    {
     "data": {
      "text/plain": [
       " Husband           13193\n",
       " Not-in-family      8304\n",
       " Own-child          5068\n",
       " Unmarried          3446\n",
       " Wife               1568\n",
       " Other-relative      981\n",
       "Name: Relationship, dtype: int64"
      ]
     },
     "execution_count": 9,
     "metadata": {},
     "output_type": "execute_result"
    }
   ],
   "source": [
    "adult_data['Relationship'].value_counts()"
   ]
  },
  {
   "cell_type": "code",
   "execution_count": 10,
   "metadata": {},
   "outputs": [
    {
     "data": {
      "text/plain": [
       " White                 27815\n",
       " Black                  3124\n",
       " Asian-Pac-Islander     1039\n",
       " Amer-Indian-Eskimo      311\n",
       " Other                   271\n",
       "Name: Race, dtype: int64"
      ]
     },
     "execution_count": 10,
     "metadata": {},
     "output_type": "execute_result"
    }
   ],
   "source": [
    "adult_data['Race'].value_counts()"
   ]
  },
  {
   "cell_type": "code",
   "execution_count": 12,
   "metadata": {},
   "outputs": [
    {
     "data": {
      "text/plain": [
       " United-States                 29169\n",
       " Mexico                          643\n",
       " ?                               583\n",
       " Philippines                     198\n",
       " Germany                         137\n",
       " Canada                          121\n",
       " Puerto-Rico                     114\n",
       " El-Salvador                     106\n",
       " India                           100\n",
       " Cuba                             95\n",
       " England                          90\n",
       " Jamaica                          81\n",
       " South                            80\n",
       " China                            75\n",
       " Italy                            73\n",
       " Dominican-Republic               70\n",
       " Vietnam                          67\n",
       " Guatemala                        64\n",
       " Japan                            62\n",
       " Poland                           60\n",
       " Columbia                         59\n",
       " Taiwan                           51\n",
       " Haiti                            44\n",
       " Iran                             43\n",
       " Portugal                         37\n",
       " Nicaragua                        34\n",
       " Peru                             31\n",
       " Greece                           29\n",
       " France                           29\n",
       " Ecuador                          28\n",
       " Ireland                          24\n",
       " Hong                             20\n",
       " Trinadad&Tobago                  19\n",
       " Cambodia                         19\n",
       " Thailand                         18\n",
       " Laos                             18\n",
       " Yugoslavia                       16\n",
       " Outlying-US(Guam-USVI-etc)       14\n",
       " Honduras                         13\n",
       " Hungary                          13\n",
       " Scotland                         12\n",
       " Holand-Netherlands                1\n",
       "Name: Country, dtype: int64"
      ]
     },
     "execution_count": 12,
     "metadata": {},
     "output_type": "execute_result"
    }
   ],
   "source": [
    "adult_data['Country'].value_counts()"
   ]
  },
  {
   "cell_type": "code",
   "execution_count": 13,
   "metadata": {},
   "outputs": [],
   "source": [
    "#Dropping all rows with Work class value of ?\n",
    "adult_data = adult_data.drop(adult_data.loc[adult_data['Work-class'] == ' ?'].index)"
   ]
  },
  {
   "cell_type": "code",
   "execution_count": 14,
   "metadata": {},
   "outputs": [],
   "source": [
    "#Dropping all rows where 'without-pay' in work class column because it is only there 14 times\n",
    "adult_data = adult_data.drop(adult_data.loc[adult_data['Work-class'] == ' Without-pay'].index)"
   ]
  },
  {
   "cell_type": "code",
   "execution_count": 15,
   "metadata": {},
   "outputs": [],
   "source": [
    "#Dropping all the rows with value 'Never-worked' in work class column because it is only there 7 times\n",
    "adult_data = adult_data.drop(adult_data.loc[adult_data['Work-class'] == 'Never-worked'].index)"
   ]
  },
  {
   "cell_type": "code",
   "execution_count": 16,
   "metadata": {},
   "outputs": [],
   "source": [
    "#only keeping rows where Education column value is seen more than 500 times\n",
    "counts = adult_data['Education'].value_counts()\n",
    "adult_data = adult_data[adult_data['Education'].isin(counts[counts > 500].index)]"
   ]
  },
  {
   "cell_type": "code",
   "execution_count": 17,
   "metadata": {},
   "outputs": [],
   "source": [
    "#only keeping rows where Marital status column value is seen more than 500 times\n",
    "counts2 = adult_data['Marital-status'].value_counts()\n",
    "adult_data = adult_data[adult_data['Marital-status'].isin(counts2[counts2 > 500].index)]"
   ]
  },
  {
   "cell_type": "code",
   "execution_count": 18,
   "metadata": {},
   "outputs": [],
   "source": [
    "#only keeping rows where Occupation column value is seen more than 700 times\n",
    "counts3 = adult_data['Occupation'].value_counts()\n",
    "adult_data = adult_data[adult_data['Occupation'].isin(counts3[counts3 > 500].index)]"
   ]
  },
  {
   "cell_type": "code",
   "execution_count": 19,
   "metadata": {},
   "outputs": [],
   "source": [
    "#Keeping only the 'United States' label because it holds the vast majority amount of rows\n",
    "adult_data = adult_data.drop(adult_data.loc[adult_data['Country'] != ' United-States'].index)"
   ]
  },
  {
   "cell_type": "code",
   "execution_count": 20,
   "metadata": {},
   "outputs": [],
   "source": [
    "#Because all the values in Country are United-states, we will drop this column completely\n",
    "adult_data = adult_data.drop(columns = 'Country')"
   ]
  },
  {
   "cell_type": "code",
   "execution_count": 21,
   "metadata": {},
   "outputs": [
    {
     "data": {
      "text/html": [
       "<div>\n",
       "<style scoped>\n",
       "    .dataframe tbody tr th:only-of-type {\n",
       "        vertical-align: middle;\n",
       "    }\n",
       "\n",
       "    .dataframe tbody tr th {\n",
       "        vertical-align: top;\n",
       "    }\n",
       "\n",
       "    .dataframe thead th {\n",
       "        text-align: right;\n",
       "    }\n",
       "</style>\n",
       "<table border=\"1\" class=\"dataframe\">\n",
       "  <thead>\n",
       "    <tr style=\"text-align: right;\">\n",
       "      <th></th>\n",
       "      <th>Age</th>\n",
       "      <th>Work-class</th>\n",
       "      <th>fnlwgt</th>\n",
       "      <th>Education</th>\n",
       "      <th>Education-num</th>\n",
       "      <th>Marital-status</th>\n",
       "      <th>Occupation</th>\n",
       "      <th>Relationship</th>\n",
       "      <th>Race</th>\n",
       "      <th>Sex</th>\n",
       "      <th>Capital-gain</th>\n",
       "      <th>Capital-loss</th>\n",
       "      <th>Hours-per-week</th>\n",
       "      <th>Salary&gt;50K</th>\n",
       "    </tr>\n",
       "  </thead>\n",
       "  <tbody>\n",
       "    <tr>\n",
       "      <th>0</th>\n",
       "      <td>50</td>\n",
       "      <td>Self-emp-not-inc</td>\n",
       "      <td>83311</td>\n",
       "      <td>Bachelors</td>\n",
       "      <td>13</td>\n",
       "      <td>Married-civ-spouse</td>\n",
       "      <td>Exec-managerial</td>\n",
       "      <td>Husband</td>\n",
       "      <td>White</td>\n",
       "      <td>Male</td>\n",
       "      <td>0</td>\n",
       "      <td>0</td>\n",
       "      <td>13</td>\n",
       "      <td>&lt;=50K</td>\n",
       "    </tr>\n",
       "    <tr>\n",
       "      <th>1</th>\n",
       "      <td>38</td>\n",
       "      <td>Private</td>\n",
       "      <td>215646</td>\n",
       "      <td>HS-grad</td>\n",
       "      <td>9</td>\n",
       "      <td>Divorced</td>\n",
       "      <td>Handlers-cleaners</td>\n",
       "      <td>Not-in-family</td>\n",
       "      <td>White</td>\n",
       "      <td>Male</td>\n",
       "      <td>0</td>\n",
       "      <td>0</td>\n",
       "      <td>40</td>\n",
       "      <td>&lt;=50K</td>\n",
       "    </tr>\n",
       "    <tr>\n",
       "      <th>2</th>\n",
       "      <td>53</td>\n",
       "      <td>Private</td>\n",
       "      <td>234721</td>\n",
       "      <td>11th</td>\n",
       "      <td>7</td>\n",
       "      <td>Married-civ-spouse</td>\n",
       "      <td>Handlers-cleaners</td>\n",
       "      <td>Husband</td>\n",
       "      <td>Black</td>\n",
       "      <td>Male</td>\n",
       "      <td>0</td>\n",
       "      <td>0</td>\n",
       "      <td>40</td>\n",
       "      <td>&lt;=50K</td>\n",
       "    </tr>\n",
       "    <tr>\n",
       "      <th>4</th>\n",
       "      <td>37</td>\n",
       "      <td>Private</td>\n",
       "      <td>284582</td>\n",
       "      <td>Masters</td>\n",
       "      <td>14</td>\n",
       "      <td>Married-civ-spouse</td>\n",
       "      <td>Exec-managerial</td>\n",
       "      <td>Wife</td>\n",
       "      <td>White</td>\n",
       "      <td>Female</td>\n",
       "      <td>0</td>\n",
       "      <td>0</td>\n",
       "      <td>40</td>\n",
       "      <td>&lt;=50K</td>\n",
       "    </tr>\n",
       "    <tr>\n",
       "      <th>6</th>\n",
       "      <td>52</td>\n",
       "      <td>Self-emp-not-inc</td>\n",
       "      <td>209642</td>\n",
       "      <td>HS-grad</td>\n",
       "      <td>9</td>\n",
       "      <td>Married-civ-spouse</td>\n",
       "      <td>Exec-managerial</td>\n",
       "      <td>Husband</td>\n",
       "      <td>White</td>\n",
       "      <td>Male</td>\n",
       "      <td>0</td>\n",
       "      <td>0</td>\n",
       "      <td>45</td>\n",
       "      <td>&gt;50K</td>\n",
       "    </tr>\n",
       "  </tbody>\n",
       "</table>\n",
       "</div>"
      ],
      "text/plain": [
       "   Age         Work-class  fnlwgt   Education  Education-num  \\\n",
       "0   50   Self-emp-not-inc   83311   Bachelors             13   \n",
       "1   38            Private  215646     HS-grad              9   \n",
       "2   53            Private  234721        11th              7   \n",
       "4   37            Private  284582     Masters             14   \n",
       "6   52   Self-emp-not-inc  209642     HS-grad              9   \n",
       "\n",
       "        Marital-status          Occupation    Relationship    Race      Sex  \\\n",
       "0   Married-civ-spouse     Exec-managerial         Husband   White     Male   \n",
       "1             Divorced   Handlers-cleaners   Not-in-family   White     Male   \n",
       "2   Married-civ-spouse   Handlers-cleaners         Husband   Black     Male   \n",
       "4   Married-civ-spouse     Exec-managerial            Wife   White   Female   \n",
       "6   Married-civ-spouse     Exec-managerial         Husband   White     Male   \n",
       "\n",
       "   Capital-gain  Capital-loss  Hours-per-week Salary>50K  \n",
       "0             0             0              13      <=50K  \n",
       "1             0             0              40      <=50K  \n",
       "2             0             0              40      <=50K  \n",
       "4             0             0              40      <=50K  \n",
       "6             0             0              45       >50K  "
      ]
     },
     "execution_count": 21,
     "metadata": {},
     "output_type": "execute_result"
    }
   ],
   "source": [
    "adult_data.head()"
   ]
  },
  {
   "cell_type": "code",
   "execution_count": 22,
   "metadata": {},
   "outputs": [
    {
     "data": {
      "text/plain": [
       "26039"
      ]
     },
     "execution_count": 22,
     "metadata": {},
     "output_type": "execute_result"
    }
   ],
   "source": [
    "len(adult_data)"
   ]
  },
  {
   "cell_type": "code",
   "execution_count": 26,
   "metadata": {},
   "outputs": [],
   "source": [
    "#Now we have to standard scale all numerical data\n",
    "from sklearn.preprocessing import StandardScaler\n",
    "scaler= StandardScaler()\n",
    "\n",
    "def scale_columns(dataset, cols_scale):\n",
    "    for col in cols_scale:\n",
    "        dataset[col] = pd.DataFrame(scaler.fit_transform(pd.DataFrame(adult_data[col])), columns=[col])\n",
    "    return dataset"
   ]
  },
  {
   "cell_type": "code",
   "execution_count": 27,
   "metadata": {},
   "outputs": [
    {
     "data": {
      "text/html": [
       "<div>\n",
       "<style scoped>\n",
       "    .dataframe tbody tr th:only-of-type {\n",
       "        vertical-align: middle;\n",
       "    }\n",
       "\n",
       "    .dataframe tbody tr th {\n",
       "        vertical-align: top;\n",
       "    }\n",
       "\n",
       "    .dataframe thead th {\n",
       "        text-align: right;\n",
       "    }\n",
       "</style>\n",
       "<table border=\"1\" class=\"dataframe\">\n",
       "  <thead>\n",
       "    <tr style=\"text-align: right;\">\n",
       "      <th></th>\n",
       "      <th>Age</th>\n",
       "      <th>Work-class</th>\n",
       "      <th>fnlwgt</th>\n",
       "      <th>Education</th>\n",
       "      <th>Education-num</th>\n",
       "      <th>Marital-status</th>\n",
       "      <th>Occupation</th>\n",
       "      <th>Relationship</th>\n",
       "      <th>Race</th>\n",
       "      <th>Sex</th>\n",
       "      <th>Capital-gain</th>\n",
       "      <th>Capital-loss</th>\n",
       "      <th>Hours-per-week</th>\n",
       "      <th>Salary&gt;50K</th>\n",
       "    </tr>\n",
       "  </thead>\n",
       "  <tbody>\n",
       "    <tr>\n",
       "      <th>0</th>\n",
       "      <td>50</td>\n",
       "      <td>Self-emp-not-inc</td>\n",
       "      <td>-0.994489</td>\n",
       "      <td>Bachelors</td>\n",
       "      <td>1.238847</td>\n",
       "      <td>Married-civ-spouse</td>\n",
       "      <td>Exec-managerial</td>\n",
       "      <td>Husband</td>\n",
       "      <td>White</td>\n",
       "      <td>Male</td>\n",
       "      <td>-0.149470</td>\n",
       "      <td>-0.220853</td>\n",
       "      <td>-2.353724</td>\n",
       "      <td>&lt;=50K</td>\n",
       "    </tr>\n",
       "    <tr>\n",
       "      <th>1</th>\n",
       "      <td>38</td>\n",
       "      <td>Private</td>\n",
       "      <td>0.275282</td>\n",
       "      <td>HS-grad</td>\n",
       "      <td>-0.593128</td>\n",
       "      <td>Divorced</td>\n",
       "      <td>Handlers-cleaners</td>\n",
       "      <td>Not-in-family</td>\n",
       "      <td>White</td>\n",
       "      <td>Male</td>\n",
       "      <td>-0.149470</td>\n",
       "      <td>-0.220853</td>\n",
       "      <td>-0.088287</td>\n",
       "      <td>&lt;=50K</td>\n",
       "    </tr>\n",
       "    <tr>\n",
       "      <th>2</th>\n",
       "      <td>53</td>\n",
       "      <td>Private</td>\n",
       "      <td>0.458309</td>\n",
       "      <td>11th</td>\n",
       "      <td>-1.509116</td>\n",
       "      <td>Married-civ-spouse</td>\n",
       "      <td>Handlers-cleaners</td>\n",
       "      <td>Husband</td>\n",
       "      <td>Black</td>\n",
       "      <td>Male</td>\n",
       "      <td>-0.149470</td>\n",
       "      <td>-0.220853</td>\n",
       "      <td>-0.088287</td>\n",
       "      <td>&lt;=50K</td>\n",
       "    </tr>\n",
       "    <tr>\n",
       "      <th>4</th>\n",
       "      <td>37</td>\n",
       "      <td>Private</td>\n",
       "      <td>0.217673</td>\n",
       "      <td>Masters</td>\n",
       "      <td>-0.593128</td>\n",
       "      <td>Married-civ-spouse</td>\n",
       "      <td>Exec-managerial</td>\n",
       "      <td>Wife</td>\n",
       "      <td>White</td>\n",
       "      <td>Female</td>\n",
       "      <td>-0.149470</td>\n",
       "      <td>-0.220853</td>\n",
       "      <td>0.331238</td>\n",
       "      <td>&lt;=50K</td>\n",
       "    </tr>\n",
       "    <tr>\n",
       "      <th>6</th>\n",
       "      <td>52</td>\n",
       "      <td>Self-emp-not-inc</td>\n",
       "      <td>-0.263935</td>\n",
       "      <td>HS-grad</td>\n",
       "      <td>1.238847</td>\n",
       "      <td>Married-civ-spouse</td>\n",
       "      <td>Exec-managerial</td>\n",
       "      <td>Husband</td>\n",
       "      <td>White</td>\n",
       "      <td>Male</td>\n",
       "      <td>0.555969</td>\n",
       "      <td>-0.220853</td>\n",
       "      <td>-0.088287</td>\n",
       "      <td>&gt;50K</td>\n",
       "    </tr>\n",
       "    <tr>\n",
       "      <th>...</th>\n",
       "      <td>...</td>\n",
       "      <td>...</td>\n",
       "      <td>...</td>\n",
       "      <td>...</td>\n",
       "      <td>...</td>\n",
       "      <td>...</td>\n",
       "      <td>...</td>\n",
       "      <td>...</td>\n",
       "      <td>...</td>\n",
       "      <td>...</td>\n",
       "      <td>...</td>\n",
       "      <td>...</td>\n",
       "      <td>...</td>\n",
       "      <td>...</td>\n",
       "    </tr>\n",
       "    <tr>\n",
       "      <th>32555</th>\n",
       "      <td>27</td>\n",
       "      <td>Private</td>\n",
       "      <td>NaN</td>\n",
       "      <td>Assoc-acdm</td>\n",
       "      <td>NaN</td>\n",
       "      <td>Married-civ-spouse</td>\n",
       "      <td>Tech-support</td>\n",
       "      <td>Wife</td>\n",
       "      <td>White</td>\n",
       "      <td>Female</td>\n",
       "      <td>NaN</td>\n",
       "      <td>NaN</td>\n",
       "      <td>NaN</td>\n",
       "      <td>&lt;=50K</td>\n",
       "    </tr>\n",
       "    <tr>\n",
       "      <th>32556</th>\n",
       "      <td>40</td>\n",
       "      <td>Private</td>\n",
       "      <td>NaN</td>\n",
       "      <td>HS-grad</td>\n",
       "      <td>NaN</td>\n",
       "      <td>Married-civ-spouse</td>\n",
       "      <td>Machine-op-inspct</td>\n",
       "      <td>Husband</td>\n",
       "      <td>White</td>\n",
       "      <td>Male</td>\n",
       "      <td>NaN</td>\n",
       "      <td>NaN</td>\n",
       "      <td>NaN</td>\n",
       "      <td>&gt;50K</td>\n",
       "    </tr>\n",
       "    <tr>\n",
       "      <th>32557</th>\n",
       "      <td>58</td>\n",
       "      <td>Private</td>\n",
       "      <td>NaN</td>\n",
       "      <td>HS-grad</td>\n",
       "      <td>NaN</td>\n",
       "      <td>Widowed</td>\n",
       "      <td>Adm-clerical</td>\n",
       "      <td>Unmarried</td>\n",
       "      <td>White</td>\n",
       "      <td>Female</td>\n",
       "      <td>NaN</td>\n",
       "      <td>NaN</td>\n",
       "      <td>NaN</td>\n",
       "      <td>&lt;=50K</td>\n",
       "    </tr>\n",
       "    <tr>\n",
       "      <th>32558</th>\n",
       "      <td>22</td>\n",
       "      <td>Private</td>\n",
       "      <td>NaN</td>\n",
       "      <td>HS-grad</td>\n",
       "      <td>NaN</td>\n",
       "      <td>Never-married</td>\n",
       "      <td>Adm-clerical</td>\n",
       "      <td>Own-child</td>\n",
       "      <td>White</td>\n",
       "      <td>Male</td>\n",
       "      <td>NaN</td>\n",
       "      <td>NaN</td>\n",
       "      <td>NaN</td>\n",
       "      <td>&lt;=50K</td>\n",
       "    </tr>\n",
       "    <tr>\n",
       "      <th>32559</th>\n",
       "      <td>52</td>\n",
       "      <td>Self-emp-inc</td>\n",
       "      <td>NaN</td>\n",
       "      <td>HS-grad</td>\n",
       "      <td>NaN</td>\n",
       "      <td>Married-civ-spouse</td>\n",
       "      <td>Exec-managerial</td>\n",
       "      <td>Wife</td>\n",
       "      <td>White</td>\n",
       "      <td>Female</td>\n",
       "      <td>NaN</td>\n",
       "      <td>NaN</td>\n",
       "      <td>NaN</td>\n",
       "      <td>&gt;50K</td>\n",
       "    </tr>\n",
       "  </tbody>\n",
       "</table>\n",
       "<p>26039 rows × 14 columns</p>\n",
       "</div>"
      ],
      "text/plain": [
       "       Age         Work-class    fnlwgt    Education  Education-num  \\\n",
       "0       50   Self-emp-not-inc -0.994489    Bachelors       1.238847   \n",
       "1       38            Private  0.275282      HS-grad      -0.593128   \n",
       "2       53            Private  0.458309         11th      -1.509116   \n",
       "4       37            Private  0.217673      Masters      -0.593128   \n",
       "6       52   Self-emp-not-inc -0.263935      HS-grad       1.238847   \n",
       "...    ...                ...       ...          ...            ...   \n",
       "32555   27            Private       NaN   Assoc-acdm            NaN   \n",
       "32556   40            Private       NaN      HS-grad            NaN   \n",
       "32557   58            Private       NaN      HS-grad            NaN   \n",
       "32558   22            Private       NaN      HS-grad            NaN   \n",
       "32559   52       Self-emp-inc       NaN      HS-grad            NaN   \n",
       "\n",
       "            Marital-status          Occupation    Relationship    Race  \\\n",
       "0       Married-civ-spouse     Exec-managerial         Husband   White   \n",
       "1                 Divorced   Handlers-cleaners   Not-in-family   White   \n",
       "2       Married-civ-spouse   Handlers-cleaners         Husband   Black   \n",
       "4       Married-civ-spouse     Exec-managerial            Wife   White   \n",
       "6       Married-civ-spouse     Exec-managerial         Husband   White   \n",
       "...                    ...                 ...             ...     ...   \n",
       "32555   Married-civ-spouse        Tech-support            Wife   White   \n",
       "32556   Married-civ-spouse   Machine-op-inspct         Husband   White   \n",
       "32557              Widowed        Adm-clerical       Unmarried   White   \n",
       "32558        Never-married        Adm-clerical       Own-child   White   \n",
       "32559   Married-civ-spouse     Exec-managerial            Wife   White   \n",
       "\n",
       "           Sex  Capital-gain  Capital-loss  Hours-per-week Salary>50K  \n",
       "0         Male     -0.149470     -0.220853       -2.353724      <=50K  \n",
       "1         Male     -0.149470     -0.220853       -0.088287      <=50K  \n",
       "2         Male     -0.149470     -0.220853       -0.088287      <=50K  \n",
       "4       Female     -0.149470     -0.220853        0.331238      <=50K  \n",
       "6         Male      0.555969     -0.220853       -0.088287       >50K  \n",
       "...        ...           ...           ...             ...        ...  \n",
       "32555   Female           NaN           NaN             NaN      <=50K  \n",
       "32556     Male           NaN           NaN             NaN       >50K  \n",
       "32557   Female           NaN           NaN             NaN      <=50K  \n",
       "32558     Male           NaN           NaN             NaN      <=50K  \n",
       "32559   Female           NaN           NaN             NaN       >50K  \n",
       "\n",
       "[26039 rows x 14 columns]"
      ]
     },
     "execution_count": 27,
     "metadata": {},
     "output_type": "execute_result"
    }
   ],
   "source": [
    "scaled_adult_data = scale_columns(adult_data, ['fnlwgt', 'Education-num', 'Capital-gain', 'Capital-loss', 'Hours-per-week'])\n",
    "scaled_adult_data"
   ]
  },
  {
   "cell_type": "code",
   "execution_count": 28,
   "metadata": {},
   "outputs": [],
   "source": [
    "#Have to change salary columns to only be values 1 and -1\n",
    "adult_data['Salary>50K'] = np.where((adult_data['Salary>50K'] == ' <=50K'), -1, adult_data['Salary>50K'])\n",
    "adult_data['Salary>50K'] = np.where((adult_data['Salary>50K'] == ' >50K'), 1, adult_data['Salary>50K'])"
   ]
  },
  {
   "cell_type": "code",
   "execution_count": 29,
   "metadata": {},
   "outputs": [
    {
     "data": {
      "text/html": [
       "<div>\n",
       "<style scoped>\n",
       "    .dataframe tbody tr th:only-of-type {\n",
       "        vertical-align: middle;\n",
       "    }\n",
       "\n",
       "    .dataframe tbody tr th {\n",
       "        vertical-align: top;\n",
       "    }\n",
       "\n",
       "    .dataframe thead th {\n",
       "        text-align: right;\n",
       "    }\n",
       "</style>\n",
       "<table border=\"1\" class=\"dataframe\">\n",
       "  <thead>\n",
       "    <tr style=\"text-align: right;\">\n",
       "      <th></th>\n",
       "      <th>Age</th>\n",
       "      <th>Work-class</th>\n",
       "      <th>fnlwgt</th>\n",
       "      <th>Education</th>\n",
       "      <th>Education-num</th>\n",
       "      <th>Marital-status</th>\n",
       "      <th>Occupation</th>\n",
       "      <th>Relationship</th>\n",
       "      <th>Race</th>\n",
       "      <th>Sex</th>\n",
       "      <th>Capital-gain</th>\n",
       "      <th>Capital-loss</th>\n",
       "      <th>Hours-per-week</th>\n",
       "      <th>Salary&gt;50K</th>\n",
       "    </tr>\n",
       "  </thead>\n",
       "  <tbody>\n",
       "    <tr>\n",
       "      <th>0</th>\n",
       "      <td>50</td>\n",
       "      <td>Self-emp-not-inc</td>\n",
       "      <td>-0.994489</td>\n",
       "      <td>Bachelors</td>\n",
       "      <td>1.238847</td>\n",
       "      <td>Married-civ-spouse</td>\n",
       "      <td>Exec-managerial</td>\n",
       "      <td>Husband</td>\n",
       "      <td>White</td>\n",
       "      <td>Male</td>\n",
       "      <td>-0.149470</td>\n",
       "      <td>-0.220853</td>\n",
       "      <td>-2.353724</td>\n",
       "      <td>-1</td>\n",
       "    </tr>\n",
       "    <tr>\n",
       "      <th>1</th>\n",
       "      <td>38</td>\n",
       "      <td>Private</td>\n",
       "      <td>0.275282</td>\n",
       "      <td>HS-grad</td>\n",
       "      <td>-0.593128</td>\n",
       "      <td>Divorced</td>\n",
       "      <td>Handlers-cleaners</td>\n",
       "      <td>Not-in-family</td>\n",
       "      <td>White</td>\n",
       "      <td>Male</td>\n",
       "      <td>-0.149470</td>\n",
       "      <td>-0.220853</td>\n",
       "      <td>-0.088287</td>\n",
       "      <td>-1</td>\n",
       "    </tr>\n",
       "    <tr>\n",
       "      <th>2</th>\n",
       "      <td>53</td>\n",
       "      <td>Private</td>\n",
       "      <td>0.458309</td>\n",
       "      <td>11th</td>\n",
       "      <td>-1.509116</td>\n",
       "      <td>Married-civ-spouse</td>\n",
       "      <td>Handlers-cleaners</td>\n",
       "      <td>Husband</td>\n",
       "      <td>Black</td>\n",
       "      <td>Male</td>\n",
       "      <td>-0.149470</td>\n",
       "      <td>-0.220853</td>\n",
       "      <td>-0.088287</td>\n",
       "      <td>-1</td>\n",
       "    </tr>\n",
       "    <tr>\n",
       "      <th>4</th>\n",
       "      <td>37</td>\n",
       "      <td>Private</td>\n",
       "      <td>0.217673</td>\n",
       "      <td>Masters</td>\n",
       "      <td>-0.593128</td>\n",
       "      <td>Married-civ-spouse</td>\n",
       "      <td>Exec-managerial</td>\n",
       "      <td>Wife</td>\n",
       "      <td>White</td>\n",
       "      <td>Female</td>\n",
       "      <td>-0.149470</td>\n",
       "      <td>-0.220853</td>\n",
       "      <td>0.331238</td>\n",
       "      <td>-1</td>\n",
       "    </tr>\n",
       "    <tr>\n",
       "      <th>6</th>\n",
       "      <td>52</td>\n",
       "      <td>Self-emp-not-inc</td>\n",
       "      <td>-0.263935</td>\n",
       "      <td>HS-grad</td>\n",
       "      <td>1.238847</td>\n",
       "      <td>Married-civ-spouse</td>\n",
       "      <td>Exec-managerial</td>\n",
       "      <td>Husband</td>\n",
       "      <td>White</td>\n",
       "      <td>Male</td>\n",
       "      <td>0.555969</td>\n",
       "      <td>-0.220853</td>\n",
       "      <td>-0.088287</td>\n",
       "      <td>1</td>\n",
       "    </tr>\n",
       "  </tbody>\n",
       "</table>\n",
       "</div>"
      ],
      "text/plain": [
       "   Age         Work-class    fnlwgt   Education  Education-num  \\\n",
       "0   50   Self-emp-not-inc -0.994489   Bachelors       1.238847   \n",
       "1   38            Private  0.275282     HS-grad      -0.593128   \n",
       "2   53            Private  0.458309        11th      -1.509116   \n",
       "4   37            Private  0.217673     Masters      -0.593128   \n",
       "6   52   Self-emp-not-inc -0.263935     HS-grad       1.238847   \n",
       "\n",
       "        Marital-status          Occupation    Relationship    Race      Sex  \\\n",
       "0   Married-civ-spouse     Exec-managerial         Husband   White     Male   \n",
       "1             Divorced   Handlers-cleaners   Not-in-family   White     Male   \n",
       "2   Married-civ-spouse   Handlers-cleaners         Husband   Black     Male   \n",
       "4   Married-civ-spouse     Exec-managerial            Wife   White   Female   \n",
       "6   Married-civ-spouse     Exec-managerial         Husband   White     Male   \n",
       "\n",
       "   Capital-gain  Capital-loss  Hours-per-week Salary>50K  \n",
       "0     -0.149470     -0.220853       -2.353724         -1  \n",
       "1     -0.149470     -0.220853       -0.088287         -1  \n",
       "2     -0.149470     -0.220853       -0.088287         -1  \n",
       "4     -0.149470     -0.220853        0.331238         -1  \n",
       "6      0.555969     -0.220853       -0.088287          1  "
      ]
     },
     "execution_count": 29,
     "metadata": {},
     "output_type": "execute_result"
    }
   ],
   "source": [
    "adult_data.head()"
   ]
  },
  {
   "cell_type": "code",
   "execution_count": 31,
   "metadata": {},
   "outputs": [],
   "source": [
    "#Now I want to hot encode all categorical variables\n",
    "work_class = pd.get_dummies(scaled_adult_data['Work-class'])\n",
    "education = pd.get_dummies(scaled_adult_data['Education'])\n",
    "marital_status = pd.get_dummies(scaled_adult_data['Marital-status'])\n",
    "occupation = pd.get_dummies(scaled_adult_data['Occupation'])\n",
    "relationship = pd.get_dummies(scaled_adult_data['Relationship'])\n",
    "race = pd.get_dummies(scaled_adult_data['Race'])\n",
    "sex = pd.get_dummies(scaled_adult_data['Sex'])"
   ]
  },
  {
   "cell_type": "code",
   "execution_count": 33,
   "metadata": {},
   "outputs": [],
   "source": [
    "scaled_adult_data = scaled_adult_data.drop(columns = ['Work-class', 'Education', 'Marital-status', 'Occupation', 'Relationship', 'Race', 'Sex'],axis=1)"
   ]
  },
  {
   "cell_type": "code",
   "execution_count": 34,
   "metadata": {},
   "outputs": [
    {
     "data": {
      "text/html": [
       "<div>\n",
       "<style scoped>\n",
       "    .dataframe tbody tr th:only-of-type {\n",
       "        vertical-align: middle;\n",
       "    }\n",
       "\n",
       "    .dataframe tbody tr th {\n",
       "        vertical-align: top;\n",
       "    }\n",
       "\n",
       "    .dataframe thead th {\n",
       "        text-align: right;\n",
       "    }\n",
       "</style>\n",
       "<table border=\"1\" class=\"dataframe\">\n",
       "  <thead>\n",
       "    <tr style=\"text-align: right;\">\n",
       "      <th></th>\n",
       "      <th>Age</th>\n",
       "      <th>fnlwgt</th>\n",
       "      <th>Education-num</th>\n",
       "      <th>Capital-gain</th>\n",
       "      <th>Capital-loss</th>\n",
       "      <th>Hours-per-week</th>\n",
       "      <th>Salary&gt;50K</th>\n",
       "    </tr>\n",
       "  </thead>\n",
       "  <tbody>\n",
       "    <tr>\n",
       "      <th>0</th>\n",
       "      <td>50</td>\n",
       "      <td>-0.994489</td>\n",
       "      <td>1.238847</td>\n",
       "      <td>-0.149470</td>\n",
       "      <td>-0.220853</td>\n",
       "      <td>-2.353724</td>\n",
       "      <td>-1</td>\n",
       "    </tr>\n",
       "    <tr>\n",
       "      <th>1</th>\n",
       "      <td>38</td>\n",
       "      <td>0.275282</td>\n",
       "      <td>-0.593128</td>\n",
       "      <td>-0.149470</td>\n",
       "      <td>-0.220853</td>\n",
       "      <td>-0.088287</td>\n",
       "      <td>-1</td>\n",
       "    </tr>\n",
       "    <tr>\n",
       "      <th>2</th>\n",
       "      <td>53</td>\n",
       "      <td>0.458309</td>\n",
       "      <td>-1.509116</td>\n",
       "      <td>-0.149470</td>\n",
       "      <td>-0.220853</td>\n",
       "      <td>-0.088287</td>\n",
       "      <td>-1</td>\n",
       "    </tr>\n",
       "    <tr>\n",
       "      <th>4</th>\n",
       "      <td>37</td>\n",
       "      <td>0.217673</td>\n",
       "      <td>-0.593128</td>\n",
       "      <td>-0.149470</td>\n",
       "      <td>-0.220853</td>\n",
       "      <td>0.331238</td>\n",
       "      <td>-1</td>\n",
       "    </tr>\n",
       "    <tr>\n",
       "      <th>6</th>\n",
       "      <td>52</td>\n",
       "      <td>-0.263935</td>\n",
       "      <td>1.238847</td>\n",
       "      <td>0.555969</td>\n",
       "      <td>-0.220853</td>\n",
       "      <td>-0.088287</td>\n",
       "      <td>1</td>\n",
       "    </tr>\n",
       "  </tbody>\n",
       "</table>\n",
       "</div>"
      ],
      "text/plain": [
       "   Age    fnlwgt  Education-num  Capital-gain  Capital-loss  Hours-per-week  \\\n",
       "0   50 -0.994489       1.238847     -0.149470     -0.220853       -2.353724   \n",
       "1   38  0.275282      -0.593128     -0.149470     -0.220853       -0.088287   \n",
       "2   53  0.458309      -1.509116     -0.149470     -0.220853       -0.088287   \n",
       "4   37  0.217673      -0.593128     -0.149470     -0.220853        0.331238   \n",
       "6   52 -0.263935       1.238847      0.555969     -0.220853       -0.088287   \n",
       "\n",
       "  Salary>50K  \n",
       "0         -1  \n",
       "1         -1  \n",
       "2         -1  \n",
       "4         -1  \n",
       "6          1  "
      ]
     },
     "execution_count": 34,
     "metadata": {},
     "output_type": "execute_result"
    }
   ],
   "source": [
    "scaled_adult_data.head()"
   ]
  },
  {
   "cell_type": "code",
   "execution_count": 35,
   "metadata": {},
   "outputs": [],
   "source": [
    "new_adult_data = pd.concat([scaled_adult_data , work_class, education, marital_status, occupation, relationship, race, sex], axis=1)"
   ]
  },
  {
   "cell_type": "code",
   "execution_count": 36,
   "metadata": {},
   "outputs": [
    {
     "data": {
      "text/html": [
       "<div>\n",
       "<style scoped>\n",
       "    .dataframe tbody tr th:only-of-type {\n",
       "        vertical-align: middle;\n",
       "    }\n",
       "\n",
       "    .dataframe tbody tr th {\n",
       "        vertical-align: top;\n",
       "    }\n",
       "\n",
       "    .dataframe thead th {\n",
       "        text-align: right;\n",
       "    }\n",
       "</style>\n",
       "<table border=\"1\" class=\"dataframe\">\n",
       "  <thead>\n",
       "    <tr style=\"text-align: right;\">\n",
       "      <th></th>\n",
       "      <th>Age</th>\n",
       "      <th>fnlwgt</th>\n",
       "      <th>Education-num</th>\n",
       "      <th>Capital-gain</th>\n",
       "      <th>Capital-loss</th>\n",
       "      <th>Hours-per-week</th>\n",
       "      <th>Salary&gt;50K</th>\n",
       "      <th>Federal-gov</th>\n",
       "      <th>Local-gov</th>\n",
       "      <th>Private</th>\n",
       "      <th>...</th>\n",
       "      <th>Own-child</th>\n",
       "      <th>Unmarried</th>\n",
       "      <th>Wife</th>\n",
       "      <th>Amer-Indian-Eskimo</th>\n",
       "      <th>Asian-Pac-Islander</th>\n",
       "      <th>Black</th>\n",
       "      <th>Other</th>\n",
       "      <th>White</th>\n",
       "      <th>Female</th>\n",
       "      <th>Male</th>\n",
       "    </tr>\n",
       "  </thead>\n",
       "  <tbody>\n",
       "    <tr>\n",
       "      <th>0</th>\n",
       "      <td>50</td>\n",
       "      <td>-0.994489</td>\n",
       "      <td>1.238847</td>\n",
       "      <td>-0.149470</td>\n",
       "      <td>-0.220853</td>\n",
       "      <td>-2.353724</td>\n",
       "      <td>-1</td>\n",
       "      <td>0</td>\n",
       "      <td>0</td>\n",
       "      <td>0</td>\n",
       "      <td>...</td>\n",
       "      <td>0</td>\n",
       "      <td>0</td>\n",
       "      <td>0</td>\n",
       "      <td>0</td>\n",
       "      <td>0</td>\n",
       "      <td>0</td>\n",
       "      <td>0</td>\n",
       "      <td>1</td>\n",
       "      <td>0</td>\n",
       "      <td>1</td>\n",
       "    </tr>\n",
       "    <tr>\n",
       "      <th>1</th>\n",
       "      <td>38</td>\n",
       "      <td>0.275282</td>\n",
       "      <td>-0.593128</td>\n",
       "      <td>-0.149470</td>\n",
       "      <td>-0.220853</td>\n",
       "      <td>-0.088287</td>\n",
       "      <td>-1</td>\n",
       "      <td>0</td>\n",
       "      <td>0</td>\n",
       "      <td>1</td>\n",
       "      <td>...</td>\n",
       "      <td>0</td>\n",
       "      <td>0</td>\n",
       "      <td>0</td>\n",
       "      <td>0</td>\n",
       "      <td>0</td>\n",
       "      <td>0</td>\n",
       "      <td>0</td>\n",
       "      <td>1</td>\n",
       "      <td>0</td>\n",
       "      <td>1</td>\n",
       "    </tr>\n",
       "    <tr>\n",
       "      <th>2</th>\n",
       "      <td>53</td>\n",
       "      <td>0.458309</td>\n",
       "      <td>-1.509116</td>\n",
       "      <td>-0.149470</td>\n",
       "      <td>-0.220853</td>\n",
       "      <td>-0.088287</td>\n",
       "      <td>-1</td>\n",
       "      <td>0</td>\n",
       "      <td>0</td>\n",
       "      <td>1</td>\n",
       "      <td>...</td>\n",
       "      <td>0</td>\n",
       "      <td>0</td>\n",
       "      <td>0</td>\n",
       "      <td>0</td>\n",
       "      <td>0</td>\n",
       "      <td>1</td>\n",
       "      <td>0</td>\n",
       "      <td>0</td>\n",
       "      <td>0</td>\n",
       "      <td>1</td>\n",
       "    </tr>\n",
       "    <tr>\n",
       "      <th>4</th>\n",
       "      <td>37</td>\n",
       "      <td>0.217673</td>\n",
       "      <td>-0.593128</td>\n",
       "      <td>-0.149470</td>\n",
       "      <td>-0.220853</td>\n",
       "      <td>0.331238</td>\n",
       "      <td>-1</td>\n",
       "      <td>0</td>\n",
       "      <td>0</td>\n",
       "      <td>1</td>\n",
       "      <td>...</td>\n",
       "      <td>0</td>\n",
       "      <td>0</td>\n",
       "      <td>1</td>\n",
       "      <td>0</td>\n",
       "      <td>0</td>\n",
       "      <td>0</td>\n",
       "      <td>0</td>\n",
       "      <td>1</td>\n",
       "      <td>1</td>\n",
       "      <td>0</td>\n",
       "    </tr>\n",
       "    <tr>\n",
       "      <th>6</th>\n",
       "      <td>52</td>\n",
       "      <td>-0.263935</td>\n",
       "      <td>1.238847</td>\n",
       "      <td>0.555969</td>\n",
       "      <td>-0.220853</td>\n",
       "      <td>-0.088287</td>\n",
       "      <td>1</td>\n",
       "      <td>0</td>\n",
       "      <td>0</td>\n",
       "      <td>0</td>\n",
       "      <td>...</td>\n",
       "      <td>0</td>\n",
       "      <td>0</td>\n",
       "      <td>0</td>\n",
       "      <td>0</td>\n",
       "      <td>0</td>\n",
       "      <td>0</td>\n",
       "      <td>0</td>\n",
       "      <td>1</td>\n",
       "      <td>0</td>\n",
       "      <td>1</td>\n",
       "    </tr>\n",
       "  </tbody>\n",
       "</table>\n",
       "<p>5 rows × 53 columns</p>\n",
       "</div>"
      ],
      "text/plain": [
       "   Age    fnlwgt  Education-num  Capital-gain  Capital-loss  Hours-per-week  \\\n",
       "0   50 -0.994489       1.238847     -0.149470     -0.220853       -2.353724   \n",
       "1   38  0.275282      -0.593128     -0.149470     -0.220853       -0.088287   \n",
       "2   53  0.458309      -1.509116     -0.149470     -0.220853       -0.088287   \n",
       "4   37  0.217673      -0.593128     -0.149470     -0.220853        0.331238   \n",
       "6   52 -0.263935       1.238847      0.555969     -0.220853       -0.088287   \n",
       "\n",
       "  Salary>50K   Federal-gov   Local-gov   Private  ...   Own-child   Unmarried  \\\n",
       "0         -1             0           0         0  ...           0           0   \n",
       "1         -1             0           0         1  ...           0           0   \n",
       "2         -1             0           0         1  ...           0           0   \n",
       "4         -1             0           0         1  ...           0           0   \n",
       "6          1             0           0         0  ...           0           0   \n",
       "\n",
       "    Wife   Amer-Indian-Eskimo   Asian-Pac-Islander   Black   Other   White  \\\n",
       "0      0                    0                    0       0       0       1   \n",
       "1      0                    0                    0       0       0       1   \n",
       "2      0                    0                    0       1       0       0   \n",
       "4      1                    0                    0       0       0       1   \n",
       "6      0                    0                    0       0       0       1   \n",
       "\n",
       "    Female   Male  \n",
       "0        0      1  \n",
       "1        0      1  \n",
       "2        0      1  \n",
       "4        1      0  \n",
       "6        0      1  \n",
       "\n",
       "[5 rows x 53 columns]"
      ]
     },
     "execution_count": 36,
     "metadata": {},
     "output_type": "execute_result"
    }
   ],
   "source": [
    "new_adult_data.head()"
   ]
  },
  {
   "cell_type": "code",
   "execution_count": 37,
   "metadata": {},
   "outputs": [
    {
     "data": {
      "text/html": [
       "<div>\n",
       "<style scoped>\n",
       "    .dataframe tbody tr th:only-of-type {\n",
       "        vertical-align: middle;\n",
       "    }\n",
       "\n",
       "    .dataframe tbody tr th {\n",
       "        vertical-align: top;\n",
       "    }\n",
       "\n",
       "    .dataframe thead th {\n",
       "        text-align: right;\n",
       "    }\n",
       "</style>\n",
       "<table border=\"1\" class=\"dataframe\">\n",
       "  <thead>\n",
       "    <tr style=\"text-align: right;\">\n",
       "      <th></th>\n",
       "      <th>Age</th>\n",
       "      <th>fnlwgt</th>\n",
       "      <th>Education-num</th>\n",
       "      <th>Capital-gain</th>\n",
       "      <th>Capital-loss</th>\n",
       "      <th>Hours-per-week</th>\n",
       "      <th>Federal-gov</th>\n",
       "      <th>Local-gov</th>\n",
       "      <th>Private</th>\n",
       "      <th>Self-emp-inc</th>\n",
       "      <th>...</th>\n",
       "      <th>Unmarried</th>\n",
       "      <th>Wife</th>\n",
       "      <th>Amer-Indian-Eskimo</th>\n",
       "      <th>Asian-Pac-Islander</th>\n",
       "      <th>Black</th>\n",
       "      <th>Other</th>\n",
       "      <th>White</th>\n",
       "      <th>Female</th>\n",
       "      <th>Male</th>\n",
       "      <th>Salary&gt;50K</th>\n",
       "    </tr>\n",
       "  </thead>\n",
       "  <tbody>\n",
       "    <tr>\n",
       "      <th>0</th>\n",
       "      <td>50</td>\n",
       "      <td>-0.994489</td>\n",
       "      <td>1.238847</td>\n",
       "      <td>-0.149470</td>\n",
       "      <td>-0.220853</td>\n",
       "      <td>-2.353724</td>\n",
       "      <td>0</td>\n",
       "      <td>0</td>\n",
       "      <td>0</td>\n",
       "      <td>0</td>\n",
       "      <td>...</td>\n",
       "      <td>0</td>\n",
       "      <td>0</td>\n",
       "      <td>0</td>\n",
       "      <td>0</td>\n",
       "      <td>0</td>\n",
       "      <td>0</td>\n",
       "      <td>1</td>\n",
       "      <td>0</td>\n",
       "      <td>1</td>\n",
       "      <td>-1</td>\n",
       "    </tr>\n",
       "    <tr>\n",
       "      <th>1</th>\n",
       "      <td>38</td>\n",
       "      <td>0.275282</td>\n",
       "      <td>-0.593128</td>\n",
       "      <td>-0.149470</td>\n",
       "      <td>-0.220853</td>\n",
       "      <td>-0.088287</td>\n",
       "      <td>0</td>\n",
       "      <td>0</td>\n",
       "      <td>1</td>\n",
       "      <td>0</td>\n",
       "      <td>...</td>\n",
       "      <td>0</td>\n",
       "      <td>0</td>\n",
       "      <td>0</td>\n",
       "      <td>0</td>\n",
       "      <td>0</td>\n",
       "      <td>0</td>\n",
       "      <td>1</td>\n",
       "      <td>0</td>\n",
       "      <td>1</td>\n",
       "      <td>-1</td>\n",
       "    </tr>\n",
       "    <tr>\n",
       "      <th>2</th>\n",
       "      <td>53</td>\n",
       "      <td>0.458309</td>\n",
       "      <td>-1.509116</td>\n",
       "      <td>-0.149470</td>\n",
       "      <td>-0.220853</td>\n",
       "      <td>-0.088287</td>\n",
       "      <td>0</td>\n",
       "      <td>0</td>\n",
       "      <td>1</td>\n",
       "      <td>0</td>\n",
       "      <td>...</td>\n",
       "      <td>0</td>\n",
       "      <td>0</td>\n",
       "      <td>0</td>\n",
       "      <td>0</td>\n",
       "      <td>1</td>\n",
       "      <td>0</td>\n",
       "      <td>0</td>\n",
       "      <td>0</td>\n",
       "      <td>1</td>\n",
       "      <td>-1</td>\n",
       "    </tr>\n",
       "    <tr>\n",
       "      <th>4</th>\n",
       "      <td>37</td>\n",
       "      <td>0.217673</td>\n",
       "      <td>-0.593128</td>\n",
       "      <td>-0.149470</td>\n",
       "      <td>-0.220853</td>\n",
       "      <td>0.331238</td>\n",
       "      <td>0</td>\n",
       "      <td>0</td>\n",
       "      <td>1</td>\n",
       "      <td>0</td>\n",
       "      <td>...</td>\n",
       "      <td>0</td>\n",
       "      <td>1</td>\n",
       "      <td>0</td>\n",
       "      <td>0</td>\n",
       "      <td>0</td>\n",
       "      <td>0</td>\n",
       "      <td>1</td>\n",
       "      <td>1</td>\n",
       "      <td>0</td>\n",
       "      <td>-1</td>\n",
       "    </tr>\n",
       "    <tr>\n",
       "      <th>6</th>\n",
       "      <td>52</td>\n",
       "      <td>-0.263935</td>\n",
       "      <td>1.238847</td>\n",
       "      <td>0.555969</td>\n",
       "      <td>-0.220853</td>\n",
       "      <td>-0.088287</td>\n",
       "      <td>0</td>\n",
       "      <td>0</td>\n",
       "      <td>0</td>\n",
       "      <td>0</td>\n",
       "      <td>...</td>\n",
       "      <td>0</td>\n",
       "      <td>0</td>\n",
       "      <td>0</td>\n",
       "      <td>0</td>\n",
       "      <td>0</td>\n",
       "      <td>0</td>\n",
       "      <td>1</td>\n",
       "      <td>0</td>\n",
       "      <td>1</td>\n",
       "      <td>1</td>\n",
       "    </tr>\n",
       "  </tbody>\n",
       "</table>\n",
       "<p>5 rows × 53 columns</p>\n",
       "</div>"
      ],
      "text/plain": [
       "   Age    fnlwgt  Education-num  Capital-gain  Capital-loss  Hours-per-week  \\\n",
       "0   50 -0.994489       1.238847     -0.149470     -0.220853       -2.353724   \n",
       "1   38  0.275282      -0.593128     -0.149470     -0.220853       -0.088287   \n",
       "2   53  0.458309      -1.509116     -0.149470     -0.220853       -0.088287   \n",
       "4   37  0.217673      -0.593128     -0.149470     -0.220853        0.331238   \n",
       "6   52 -0.263935       1.238847      0.555969     -0.220853       -0.088287   \n",
       "\n",
       "    Federal-gov   Local-gov   Private   Self-emp-inc  ...   Unmarried   Wife  \\\n",
       "0             0           0         0              0  ...           0      0   \n",
       "1             0           0         1              0  ...           0      0   \n",
       "2             0           0         1              0  ...           0      0   \n",
       "4             0           0         1              0  ...           0      1   \n",
       "6             0           0         0              0  ...           0      0   \n",
       "\n",
       "    Amer-Indian-Eskimo   Asian-Pac-Islander   Black   Other   White   Female  \\\n",
       "0                    0                    0       0       0       1        0   \n",
       "1                    0                    0       0       0       1        0   \n",
       "2                    0                    0       1       0       0        0   \n",
       "4                    0                    0       0       0       1        1   \n",
       "6                    0                    0       0       0       1        0   \n",
       "\n",
       "    Male  Salary>50K  \n",
       "0      1          -1  \n",
       "1      1          -1  \n",
       "2      1          -1  \n",
       "4      0          -1  \n",
       "6      1           1  \n",
       "\n",
       "[5 rows x 53 columns]"
      ]
     },
     "execution_count": 37,
     "metadata": {},
     "output_type": "execute_result"
    }
   ],
   "source": [
    "#Now I want to move the dependent variable of salary to the end \n",
    "salary = new_adult_data.pop('Salary>50K')\n",
    "\n",
    "new_adult_data['Salary>50K'] = salary\n",
    "\n",
    "new_adult_data.head()"
   ]
  },
  {
   "cell_type": "code",
   "execution_count": 38,
   "metadata": {},
   "outputs": [
    {
     "data": {
      "text/html": [
       "<div>\n",
       "<style scoped>\n",
       "    .dataframe tbody tr th:only-of-type {\n",
       "        vertical-align: middle;\n",
       "    }\n",
       "\n",
       "    .dataframe tbody tr th {\n",
       "        vertical-align: top;\n",
       "    }\n",
       "\n",
       "    .dataframe thead th {\n",
       "        text-align: right;\n",
       "    }\n",
       "</style>\n",
       "<table border=\"1\" class=\"dataframe\">\n",
       "  <thead>\n",
       "    <tr style=\"text-align: right;\">\n",
       "      <th></th>\n",
       "      <th>Age</th>\n",
       "      <th>fnlwgt</th>\n",
       "      <th>Education-num</th>\n",
       "      <th>Capital-gain</th>\n",
       "      <th>Capital-loss</th>\n",
       "      <th>Hours-per-week</th>\n",
       "      <th>Federal-gov</th>\n",
       "      <th>Local-gov</th>\n",
       "      <th>Private</th>\n",
       "      <th>Self-emp-inc</th>\n",
       "      <th>...</th>\n",
       "      <th>Unmarried</th>\n",
       "      <th>Wife</th>\n",
       "      <th>Amer-Indian-Eskimo</th>\n",
       "      <th>Asian-Pac-Islander</th>\n",
       "      <th>Black</th>\n",
       "      <th>Other</th>\n",
       "      <th>White</th>\n",
       "      <th>Female</th>\n",
       "      <th>Male</th>\n",
       "      <th>Salary&gt;50K</th>\n",
       "    </tr>\n",
       "  </thead>\n",
       "  <tbody>\n",
       "    <tr>\n",
       "      <th>0</th>\n",
       "      <td>50</td>\n",
       "      <td>-0.994489</td>\n",
       "      <td>1.238847</td>\n",
       "      <td>-0.149470</td>\n",
       "      <td>-0.220853</td>\n",
       "      <td>-2.353724</td>\n",
       "      <td>0</td>\n",
       "      <td>0</td>\n",
       "      <td>0</td>\n",
       "      <td>0</td>\n",
       "      <td>...</td>\n",
       "      <td>0</td>\n",
       "      <td>0</td>\n",
       "      <td>0</td>\n",
       "      <td>0</td>\n",
       "      <td>0</td>\n",
       "      <td>0</td>\n",
       "      <td>1</td>\n",
       "      <td>0</td>\n",
       "      <td>1</td>\n",
       "      <td>-1</td>\n",
       "    </tr>\n",
       "    <tr>\n",
       "      <th>1</th>\n",
       "      <td>38</td>\n",
       "      <td>0.275282</td>\n",
       "      <td>-0.593128</td>\n",
       "      <td>-0.149470</td>\n",
       "      <td>-0.220853</td>\n",
       "      <td>-0.088287</td>\n",
       "      <td>0</td>\n",
       "      <td>0</td>\n",
       "      <td>1</td>\n",
       "      <td>0</td>\n",
       "      <td>...</td>\n",
       "      <td>0</td>\n",
       "      <td>0</td>\n",
       "      <td>0</td>\n",
       "      <td>0</td>\n",
       "      <td>0</td>\n",
       "      <td>0</td>\n",
       "      <td>1</td>\n",
       "      <td>0</td>\n",
       "      <td>1</td>\n",
       "      <td>-1</td>\n",
       "    </tr>\n",
       "    <tr>\n",
       "      <th>2</th>\n",
       "      <td>53</td>\n",
       "      <td>0.458309</td>\n",
       "      <td>-1.509116</td>\n",
       "      <td>-0.149470</td>\n",
       "      <td>-0.220853</td>\n",
       "      <td>-0.088287</td>\n",
       "      <td>0</td>\n",
       "      <td>0</td>\n",
       "      <td>1</td>\n",
       "      <td>0</td>\n",
       "      <td>...</td>\n",
       "      <td>0</td>\n",
       "      <td>0</td>\n",
       "      <td>0</td>\n",
       "      <td>0</td>\n",
       "      <td>1</td>\n",
       "      <td>0</td>\n",
       "      <td>0</td>\n",
       "      <td>0</td>\n",
       "      <td>1</td>\n",
       "      <td>-1</td>\n",
       "    </tr>\n",
       "    <tr>\n",
       "      <th>4</th>\n",
       "      <td>37</td>\n",
       "      <td>0.217673</td>\n",
       "      <td>-0.593128</td>\n",
       "      <td>-0.149470</td>\n",
       "      <td>-0.220853</td>\n",
       "      <td>0.331238</td>\n",
       "      <td>0</td>\n",
       "      <td>0</td>\n",
       "      <td>1</td>\n",
       "      <td>0</td>\n",
       "      <td>...</td>\n",
       "      <td>0</td>\n",
       "      <td>1</td>\n",
       "      <td>0</td>\n",
       "      <td>0</td>\n",
       "      <td>0</td>\n",
       "      <td>0</td>\n",
       "      <td>1</td>\n",
       "      <td>1</td>\n",
       "      <td>0</td>\n",
       "      <td>-1</td>\n",
       "    </tr>\n",
       "    <tr>\n",
       "      <th>6</th>\n",
       "      <td>52</td>\n",
       "      <td>-0.263935</td>\n",
       "      <td>1.238847</td>\n",
       "      <td>0.555969</td>\n",
       "      <td>-0.220853</td>\n",
       "      <td>-0.088287</td>\n",
       "      <td>0</td>\n",
       "      <td>0</td>\n",
       "      <td>0</td>\n",
       "      <td>0</td>\n",
       "      <td>...</td>\n",
       "      <td>0</td>\n",
       "      <td>0</td>\n",
       "      <td>0</td>\n",
       "      <td>0</td>\n",
       "      <td>0</td>\n",
       "      <td>0</td>\n",
       "      <td>1</td>\n",
       "      <td>0</td>\n",
       "      <td>1</td>\n",
       "      <td>1</td>\n",
       "    </tr>\n",
       "  </tbody>\n",
       "</table>\n",
       "<p>5 rows × 53 columns</p>\n",
       "</div>"
      ],
      "text/plain": [
       "   Age    fnlwgt  Education-num  Capital-gain  Capital-loss  Hours-per-week  \\\n",
       "0   50 -0.994489       1.238847     -0.149470     -0.220853       -2.353724   \n",
       "1   38  0.275282      -0.593128     -0.149470     -0.220853       -0.088287   \n",
       "2   53  0.458309      -1.509116     -0.149470     -0.220853       -0.088287   \n",
       "4   37  0.217673      -0.593128     -0.149470     -0.220853        0.331238   \n",
       "6   52 -0.263935       1.238847      0.555969     -0.220853       -0.088287   \n",
       "\n",
       "    Federal-gov   Local-gov   Private   Self-emp-inc  ...   Unmarried   Wife  \\\n",
       "0             0           0         0              0  ...           0      0   \n",
       "1             0           0         1              0  ...           0      0   \n",
       "2             0           0         1              0  ...           0      0   \n",
       "4             0           0         1              0  ...           0      1   \n",
       "6             0           0         0              0  ...           0      0   \n",
       "\n",
       "    Amer-Indian-Eskimo   Asian-Pac-Islander   Black   Other   White   Female  \\\n",
       "0                    0                    0       0       0       1        0   \n",
       "1                    0                    0       0       0       1        0   \n",
       "2                    0                    0       1       0       0        0   \n",
       "4                    0                    0       0       0       1        1   \n",
       "6                    0                    0       0       0       1        0   \n",
       "\n",
       "    Male  Salary>50K  \n",
       "0      1          -1  \n",
       "1      1          -1  \n",
       "2      1          -1  \n",
       "4      0          -1  \n",
       "6      1           1  \n",
       "\n",
       "[5 rows x 53 columns]"
      ]
     },
     "execution_count": 38,
     "metadata": {},
     "output_type": "execute_result"
    }
   ],
   "source": [
    "new_adult_data['Salary>50K'] = pd.to_numeric(new_adult_data['Salary>50K'])\n",
    "new_adult_data = new_adult_data.dropna()\n",
    "new_adult_data.head()"
   ]
  },
  {
   "cell_type": "code",
   "execution_count": 39,
   "metadata": {},
   "outputs": [
    {
     "data": {
      "text/plain": [
       "20853"
      ]
     },
     "execution_count": 39,
     "metadata": {},
     "output_type": "execute_result"
    }
   ],
   "source": [
    "len(new_adult_data)"
   ]
  },
  {
   "cell_type": "code",
   "execution_count": 75,
   "metadata": {},
   "outputs": [
    {
     "data": {
      "text/plain": [
       "-1    15543\n",
       " 1     5310\n",
       "Name: Salary>50K, dtype: int64"
      ]
     },
     "execution_count": 75,
     "metadata": {},
     "output_type": "execute_result"
    }
   ],
   "source": [
    "new_adult_data['Salary>50K'].value_counts()"
   ]
  },
  {
   "cell_type": "code",
   "execution_count": 41,
   "metadata": {},
   "outputs": [],
   "source": [
    "#Collecting all the samples we will need for each algorithm\n",
    "all_samples = []\n",
    "\n",
    "for sample in range(0,5):\n",
    "    all_samples.append(new_adult_data.sample(n=5000, replace=False))"
   ]
  },
  {
   "cell_type": "code",
   "execution_count": 42,
   "metadata": {},
   "outputs": [
    {
     "data": {
      "text/plain": [
       "5"
      ]
     },
     "execution_count": 42,
     "metadata": {},
     "output_type": "execute_result"
    }
   ],
   "source": [
    "len(all_samples)"
   ]
  },
  {
   "cell_type": "markdown",
   "metadata": {},
   "source": [
    "# Logistic Regression"
   ]
  },
  {
   "cell_type": "code",
   "execution_count": 43,
   "metadata": {},
   "outputs": [],
   "source": [
    "#Lists to save models and training/testing sets\n",
    "all_models = []\n",
    "X_training_sets = []\n",
    "y_training_sets = []\n",
    "X_testing_sets = []\n",
    "y_testing_sets = []\n",
    "\n",
    "#lists to save best params\n",
    "accuracy_best_params = []\n",
    "roc_auc_best_params = []\n",
    "f1_best_params = []\n",
    "\n",
    "#looping across each sample for each trial\n",
    "for sample in all_samples:\n",
    "    X_train = sample.iloc[:, :-1]\n",
    "    y_train = sample.iloc[:, -1]\n",
    "    X_training_sets.append(X_train)\n",
    "    y_training_sets.append(y_train)\n",
    "    \n",
    "    #Separating rows for the test set that were not in the sample\n",
    "    ix = [i for i in new_adult_data.index if i not in sample.index]\n",
    "    test_set = new_adult_data.loc[ix]\n",
    "    X_test = test_set.iloc[:, :-1]\n",
    "    y_test = test_set.iloc[:, -1]\n",
    "    X_testing_sets.append(X_test)\n",
    "    y_testing_sets.append(y_test)\n",
    "    \n",
    "    #Initiating classifier\n",
    "    log_reg = LogisticRegression(max_iter=10000)\n",
    "    \n",
    "    grid_values = [{'solver':['saga'],\n",
    "                   'penalty': ['l1', 'l2'],\n",
    "                   'C': [.00000001, .0000001, .000001, .00001, .0001, .001, .01, .1, 1, 10, 100, 1000, 10000]},\n",
    "                   {'solver':['lbfgs'],\n",
    "                   'penalty': ['l2'],\n",
    "                   'C': [.00000001, .0000001, .000001, .00001, .0001, .001, .01, .1, 1, 10, 100, 1000, 10000]},\n",
    "                   {'solver':['lbfgs', 'saga'],\n",
    "                   'penalty': ['none'],}\n",
    "                   ]\n",
    "    clf = GridSearchCV(estimator = log_reg, param_grid = grid_values, cv = StratifiedKFold(n_splits=5),\n",
    "                      scoring = ['accuracy', 'roc_auc_ovr', 'f1_micro'], refit=False, verbose=0)\n",
    "    \n",
    "    model = clf.fit(X_train, y_train)\n",
    "    \n",
    "    accuracy_best_params.append(model.cv_results_['params'][np.argmin(model.cv_results_['rank_test_accuracy'])])\n",
    "    roc_auc_best_params.append(model.cv_results_['params'][np.argmin(model.cv_results_['rank_test_roc_auc_ovr'])])\n",
    "    f1_best_params.append(model.cv_results_['params'][np.argmin(model.cv_results_['rank_test_f1_micro'])])\n",
    "    \n",
    "    all_models.append(model)"
   ]
  },
  {
   "cell_type": "code",
   "execution_count": 44,
   "metadata": {},
   "outputs": [
    {
     "data": {
      "text/plain": [
       "[{'C': 1, 'penalty': 'l1', 'solver': 'saga'},\n",
       " {'C': 10, 'penalty': 'l2', 'solver': 'saga'},\n",
       " {'C': 1, 'penalty': 'l2', 'solver': 'lbfgs'},\n",
       " {'C': 1, 'penalty': 'l1', 'solver': 'saga'},\n",
       " {'C': 1, 'penalty': 'l1', 'solver': 'saga'}]"
      ]
     },
     "execution_count": 44,
     "metadata": {},
     "output_type": "execute_result"
    }
   ],
   "source": [
    "accuracy_best_params"
   ]
  },
  {
   "cell_type": "code",
   "execution_count": 45,
   "metadata": {},
   "outputs": [
    {
     "data": {
      "text/plain": [
       "[{'C': 1, 'penalty': 'l1', 'solver': 'saga'},\n",
       " {'C': 1, 'penalty': 'l2', 'solver': 'lbfgs'},\n",
       " {'C': 1, 'penalty': 'l2', 'solver': 'saga'},\n",
       " {'C': 1, 'penalty': 'l2', 'solver': 'lbfgs'},\n",
       " {'C': 1, 'penalty': 'l2', 'solver': 'saga'}]"
      ]
     },
     "execution_count": 45,
     "metadata": {},
     "output_type": "execute_result"
    }
   ],
   "source": [
    "roc_auc_best_params"
   ]
  },
  {
   "cell_type": "code",
   "execution_count": 46,
   "metadata": {},
   "outputs": [
    {
     "data": {
      "text/plain": [
       "[{'C': 1, 'penalty': 'l1', 'solver': 'saga'},\n",
       " {'C': 10, 'penalty': 'l2', 'solver': 'saga'},\n",
       " {'C': 1, 'penalty': 'l2', 'solver': 'lbfgs'},\n",
       " {'C': 1, 'penalty': 'l1', 'solver': 'saga'},\n",
       " {'C': 1, 'penalty': 'l1', 'solver': 'saga'}]"
      ]
     },
     "execution_count": 46,
     "metadata": {},
     "output_type": "execute_result"
    }
   ],
   "source": [
    "f1_best_params"
   ]
  },
  {
   "cell_type": "code",
   "execution_count": 76,
   "metadata": {},
   "outputs": [],
   "source": [
    "accuracy_test_errors = []\n",
    "accuracy_train_errors = []\n",
    "for param in accuracy_best_params:\n",
    "    \n",
    "    n = 0\n",
    "    if 'C' in param:\n",
    "        \n",
    "        logreg_clf = LogisticRegression(penalty = param['penalty'], solver = param['solver'], C = param['C'], max_iter = 10000)\n",
    "        model = logreg_clf.fit(X_training_sets[n], y_training_sets[n])\n",
    "    else:\n",
    "        \n",
    "        logreg_clf = LogisticRegression(penalty = param['penalty'], solver = param['solver'],  max_iter = 10000)\n",
    "        model = logreg_clf.fit(X_training_sets[n], y_training_sets[n])\n",
    "    \n",
    "    y_pred = model.predict(X_testing_sets[n])\n",
    "    accuracy_test_errors.append(accuracy_score(y_testing_sets[n], y_pred))\n",
    "    \n",
    "    y_pred_train = model.predict(X_training_sets[n])\n",
    "    accuracy_train_errors.append(accuracy_score(y_training_sets[n], y_pred_train))\n",
    "    \n",
    "    n += 1"
   ]
  },
  {
   "cell_type": "code",
   "execution_count": 77,
   "metadata": {},
   "outputs": [
    {
     "data": {
      "text/plain": [
       "[0.8191509493471267,\n",
       " 0.8184570743707815,\n",
       " 0.8181416766542611,\n",
       " 0.8191509493471267,\n",
       " 0.8191509493471267]"
      ]
     },
     "execution_count": 77,
     "metadata": {},
     "output_type": "execute_result"
    }
   ],
   "source": [
    "accuracy_test_errors"
   ]
  },
  {
   "cell_type": "code",
   "execution_count": 78,
   "metadata": {},
   "outputs": [
    {
     "data": {
      "text/plain": [
       "[0.8222, 0.8222, 0.8216, 0.8222, 0.8222]"
      ]
     },
     "execution_count": 78,
     "metadata": {},
     "output_type": "execute_result"
    }
   ],
   "source": [
    "accuracy_train_errors"
   ]
  },
  {
   "cell_type": "code",
   "execution_count": 79,
   "metadata": {},
   "outputs": [],
   "source": [
    "roc_auc_test_errors = []\n",
    "roc_auc_train_errors = []\n",
    "for param in roc_auc_best_params:\n",
    "    \n",
    "    n = 0\n",
    "    \n",
    "    if 'C' in param:\n",
    "        \n",
    "        logreg_clf = LogisticRegression(penalty = param['penalty'], solver = param['solver'], C = param['C'], max_iter = 10000)\n",
    "        model = logreg_clf.fit(X_training_sets[n], y_training_sets[n])\n",
    "    else:\n",
    "        \n",
    "        logreg_clf = LogisticRegression(penalty = param['penalty'], solver = param['solver'],  max_iter = 10000)\n",
    "        model = logreg_clf.fit(X_training_sets[n], y_training_sets[n])\n",
    "    \n",
    "    y_pred2 = model.predict(X_testing_sets[n])\n",
    "    roc_auc_test_errors.append(roc_auc_score(y_testing_sets[n], y_pred2))\n",
    "    \n",
    "    y_pred_train2 = model.predict(X_training_sets[n])\n",
    "    roc_auc_train_errors.append(roc_auc_score(y_training_sets[n], y_pred_train2))\n",
    "    \n",
    "    n += 1"
   ]
  },
  {
   "cell_type": "code",
   "execution_count": 80,
   "metadata": {},
   "outputs": [
    {
     "data": {
      "text/plain": [
       "[0.731348065923895,\n",
       " 0.7303397857251025,\n",
       " 0.7307176419383227,\n",
       " 0.7303397857251025,\n",
       " 0.7307176419383227]"
      ]
     },
     "execution_count": 80,
     "metadata": {},
     "output_type": "execute_result"
    }
   ],
   "source": [
    "roc_auc_test_errors"
   ]
  },
  {
   "cell_type": "code",
   "execution_count": 81,
   "metadata": {},
   "outputs": [
    {
     "data": {
      "text/plain": [
       "[0.7420446474648844,\n",
       " 0.7406829457720823,\n",
       " 0.7392864989704205,\n",
       " 0.7406829457720823,\n",
       " 0.7392864989704205]"
      ]
     },
     "execution_count": 81,
     "metadata": {},
     "output_type": "execute_result"
    }
   ],
   "source": [
    "roc_auc_train_errors"
   ]
  },
  {
   "cell_type": "code",
   "execution_count": 82,
   "metadata": {},
   "outputs": [],
   "source": [
    "f1_score_test_errors = []\n",
    "f1_score_train_errors = []\n",
    "for param in f1_best_params:\n",
    "    \n",
    "    n = 0\n",
    "    \n",
    "    if 'C' in param:\n",
    "        \n",
    "        logreg_clf = LogisticRegression(penalty = param['penalty'], solver = param['solver'], C = param['C'], max_iter = 10000)\n",
    "        model = logreg_clf.fit(X_training_sets[n], y_training_sets[n])\n",
    "    else:\n",
    "        \n",
    "        logreg_clf = LogisticRegression(penalty = param['penalty'], solver = param['solver'],  max_iter = 10000)\n",
    "        model = logreg_clf.fit(X_training_sets[n], y_training_sets[n])\n",
    "    \n",
    "    y_pred3 = model.predict(X_testing_sets[n])\n",
    "    f1_score_test_errors.append(f1_score(y_testing_sets[n], y_pred3))\n",
    "    \n",
    "    y_pred_train3 = model.predict(X_training_sets[n])\n",
    "    f1_score_train_errors.append(f1_score(y_training_sets[n], y_pred_train3))\n",
    "    \n",
    "    \n",
    "    n += 1"
   ]
  },
  {
   "cell_type": "code",
   "execution_count": 83,
   "metadata": {},
   "outputs": [
    {
     "data": {
      "text/plain": [
       "[0.6062354072242824,\n",
       " 0.6064004376367614,\n",
       " 0.6044724927973659,\n",
       " 0.6062354072242824,\n",
       " 0.6062354072242824]"
      ]
     },
     "execution_count": 83,
     "metadata": {},
     "output_type": "execute_result"
    }
   ],
   "source": [
    "f1_score_test_errors"
   ]
  },
  {
   "cell_type": "code",
   "execution_count": 84,
   "metadata": {},
   "outputs": [
    {
     "data": {
      "text/plain": [
       "[0.631273330568229,\n",
       " 0.6327963651383726,\n",
       " 0.629260182876143,\n",
       " 0.631273330568229,\n",
       " 0.631273330568229]"
      ]
     },
     "execution_count": 84,
     "metadata": {},
     "output_type": "execute_result"
    }
   ],
   "source": [
    "f1_score_train_errors"
   ]
  },
  {
   "cell_type": "markdown",
   "metadata": {},
   "source": [
    "# KNN"
   ]
  },
  {
   "cell_type": "code",
   "execution_count": 54,
   "metadata": {},
   "outputs": [],
   "source": [
    "#Lists to save models and training/testing sets\n",
    "all_models_knn = []\n",
    "X_training_sets_knn = []\n",
    "y_training_sets_knn = []\n",
    "X_testing_sets_knn = []\n",
    "y_testing_sets_knn = []\n",
    "\n",
    "#lists to save best params\n",
    "accuracy_best_params_knn = []\n",
    "roc_auc_best_params_knn = []\n",
    "f1_best_params_knn = []\n",
    "\n",
    "#looping across each sample for each trial\n",
    "for sample in all_samples:\n",
    "    X_train_knn = sample.iloc[:, :-1]\n",
    "    y_train_knn = sample.iloc[:, -1]\n",
    "    X_training_sets_knn.append(X_train_knn)\n",
    "    y_training_sets_knn.append(y_train_knn)\n",
    "    \n",
    "    #Separating rows for the test set that were not in the sample\n",
    "    ix_knn = [i for i in new_adult_data.index if i not in sample.index]\n",
    "    test_set_knn = new_adult_data.loc[ix]\n",
    "    X_test_knn = test_set_knn.iloc[:, :-1]\n",
    "    y_test_knn = test_set_knn.iloc[:, -1]\n",
    "    X_testing_sets_knn.append(X_test_knn)\n",
    "    y_testing_sets_knn.append(y_test_knn)\n",
    "    \n",
    "    #Initiating classifier\n",
    "    knn = KNeighborsClassifier()\n",
    "    \n",
    "    grid_values = {'n_neighbors' : list(range(1,105,4))}\n",
    "    \n",
    "    clf_knn = GridSearchCV(estimator = knn, param_grid = grid_values, cv = StratifiedKFold(n_splits=5),\n",
    "                      scoring = ['accuracy', 'roc_auc_ovr', 'f1_micro'], refit=False, verbose=0)\n",
    "    \n",
    "    model_knn = clf_knn.fit(X_train_knn, y_train_knn)\n",
    "    \n",
    "    accuracy_best_params_knn.append(model_knn.cv_results_['params'][np.argmin(model_knn.cv_results_['rank_test_accuracy'])])\n",
    "    roc_auc_best_params_knn.append(model_knn.cv_results_['params'][np.argmin(model_knn.cv_results_['rank_test_roc_auc_ovr'])])\n",
    "    f1_best_params_knn.append(model_knn.cv_results_['params'][np.argmin(model_knn.cv_results_['rank_test_f1_micro'])])\n",
    "    \n",
    "    all_models_knn.append(model_knn)"
   ]
  },
  {
   "cell_type": "code",
   "execution_count": 55,
   "metadata": {},
   "outputs": [
    {
     "data": {
      "text/plain": [
       "[{'n_neighbors': 45},\n",
       " {'n_neighbors': 61},\n",
       " {'n_neighbors': 85},\n",
       " {'n_neighbors': 13},\n",
       " {'n_neighbors': 49}]"
      ]
     },
     "execution_count": 55,
     "metadata": {},
     "output_type": "execute_result"
    }
   ],
   "source": [
    "accuracy_best_params_knn"
   ]
  },
  {
   "cell_type": "code",
   "execution_count": 56,
   "metadata": {},
   "outputs": [
    {
     "data": {
      "text/plain": [
       "[{'n_neighbors': 37},\n",
       " {'n_neighbors': 49},\n",
       " {'n_neighbors': 29},\n",
       " {'n_neighbors': 25},\n",
       " {'n_neighbors': 49}]"
      ]
     },
     "execution_count": 56,
     "metadata": {},
     "output_type": "execute_result"
    }
   ],
   "source": [
    "roc_auc_best_params_knn"
   ]
  },
  {
   "cell_type": "code",
   "execution_count": 57,
   "metadata": {},
   "outputs": [
    {
     "data": {
      "text/plain": [
       "[{'n_neighbors': 45},\n",
       " {'n_neighbors': 61},\n",
       " {'n_neighbors': 85},\n",
       " {'n_neighbors': 13},\n",
       " {'n_neighbors': 49}]"
      ]
     },
     "execution_count": 57,
     "metadata": {},
     "output_type": "execute_result"
    }
   ],
   "source": [
    "f1_best_params_knn"
   ]
  },
  {
   "cell_type": "code",
   "execution_count": 85,
   "metadata": {},
   "outputs": [],
   "source": [
    "#Now we need to loop across all models from each metric, train on entire sample, and then predict on test set\n",
    "accuracy_test_errors_knn = []\n",
    "accuracy_train_errors_knn = []\n",
    "for param in accuracy_best_params_knn:\n",
    "    \n",
    "    n_knn = 0\n",
    "    \n",
    "    knn_clf = KNeighborsClassifier(n_neighbors = param['n_neighbors'])\n",
    "    model = knn_clf.fit(X_training_sets_knn[n_knn], y_training_sets_knn[n_knn])\n",
    "    \n",
    "    y_pred_knn = model.predict(X_testing_sets_knn[n_knn])\n",
    "    accuracy_test_errors_knn.append(accuracy_score(y_testing_sets_knn[n_knn], y_pred_knn))\n",
    "    \n",
    "    y_pred_train_knn = model.predict(X_training_sets_knn[n_knn])\n",
    "    accuracy_train_errors_knn.append(accuracy_score(y_training_sets_knn[n_knn], y_pred_train_knn))\n",
    "    \n",
    "    n_knn += 1"
   ]
  },
  {
   "cell_type": "code",
   "execution_count": 86,
   "metadata": {},
   "outputs": [
    {
     "data": {
      "text/plain": [
       "[0.7978300637103387,\n",
       " 0.7950545638049581,\n",
       " 0.7895035639941966,\n",
       " 0.7994070522929414,\n",
       " 0.7970731091906894]"
      ]
     },
     "execution_count": 86,
     "metadata": {},
     "output_type": "execute_result"
    }
   ],
   "source": [
    "accuracy_test_errors_knn"
   ]
  },
  {
   "cell_type": "code",
   "execution_count": 87,
   "metadata": {},
   "outputs": [
    {
     "data": {
      "text/plain": [
       "[0.8016, 0.798, 0.7918, 0.8264, 0.8016]"
      ]
     },
     "execution_count": 87,
     "metadata": {},
     "output_type": "execute_result"
    }
   ],
   "source": [
    "accuracy_train_errors_knn"
   ]
  },
  {
   "cell_type": "code",
   "execution_count": 88,
   "metadata": {},
   "outputs": [],
   "source": [
    "roc_auc_test_errors_knn = []\n",
    "roc_auc_train_errors_knn = []\n",
    "for param in roc_auc_best_params_knn:\n",
    "    \n",
    "    n_knn = 0\n",
    "    \n",
    "    knn_clf2 = KNeighborsClassifier(n_neighbors = param['n_neighbors'])\n",
    "    model = knn_clf2.fit(X_training_sets_knn[n_knn], y_training_sets_knn[n_knn])\n",
    "    \n",
    "    y_pred_knn2 = model.predict(X_testing_sets_knn[n_knn])\n",
    "    roc_auc_test_errors_knn.append(roc_auc_score(y_testing_sets_knn[n_knn], y_pred_knn2))\n",
    "    \n",
    "    y_pred_train_knn2 = model.predict(X_training_sets_knn[n_knn])\n",
    "    roc_auc_train_errors_knn.append(roc_auc_score(y_training_sets_knn[n_knn], y_pred_train_knn2))\n",
    "    \n",
    "    n_knn += 1"
   ]
  },
  {
   "cell_type": "code",
   "execution_count": 89,
   "metadata": {},
   "outputs": [
    {
     "data": {
      "text/plain": [
       "[0.7084236276356798,\n",
       " 0.704563364859298,\n",
       " 0.7113196957326107,\n",
       " 0.714504951281424,\n",
       " 0.704563364859298]"
      ]
     },
     "execution_count": 89,
     "metadata": {},
     "output_type": "execute_result"
    }
   ],
   "source": [
    "roc_auc_test_errors_knn "
   ]
  },
  {
   "cell_type": "code",
   "execution_count": 102,
   "metadata": {},
   "outputs": [
    {
     "data": {
      "text/plain": [
       "[0.7267108133932175,\n",
       " 0.7156112839850597,\n",
       " 0.7273581965244672,\n",
       " 0.7311035148765271,\n",
       " 0.7156112839850597]"
      ]
     },
     "execution_count": 102,
     "metadata": {},
     "output_type": "execute_result"
    }
   ],
   "source": [
    "roc_auc_train_errors_knn"
   ]
  },
  {
   "cell_type": "code",
   "execution_count": 90,
   "metadata": {},
   "outputs": [],
   "source": [
    "f1_score_test_errors_knn = []\n",
    "f1_score_train_errors_knn = []\n",
    "for param in f1_best_params_knn:\n",
    "    \n",
    "    n_knn = 0\n",
    "    \n",
    "    knn_clf3 = KNeighborsClassifier(n_neighbors = param['n_neighbors'])\n",
    "    model = knn_clf3.fit(X_training_sets_knn[n_knn], y_training_sets_knn[n_knn])\n",
    "    \n",
    "    y_pred_knn3 = model.predict(X_testing_sets_knn[n_knn])\n",
    "    f1_score_test_errors_knn.append(f1_score(y_testing_sets_knn[n_knn], y_pred_knn3))\n",
    "    \n",
    "    y_pred_train_knn3 = model.predict(X_training_sets_knn[n_knn])\n",
    "    f1_score_train_errors_knn.append(f1_score(y_training_sets_knn[n_knn], y_pred_train_knn3))\n",
    "    \n",
    "    \n",
    "    n_knn += 1"
   ]
  },
  {
   "cell_type": "code",
   "execution_count": 91,
   "metadata": {},
   "outputs": [
    {
     "data": {
      "text/plain": [
       "[0.5628154412767699,\n",
       " 0.5546264564770391,\n",
       " 0.5374913374913375,\n",
       " 0.5766773162939297,\n",
       " 0.5618956829633663]"
      ]
     },
     "execution_count": 91,
     "metadata": {},
     "output_type": "execute_result"
    }
   ],
   "source": [
    "f1_score_test_errors_knn "
   ]
  },
  {
   "cell_type": "code",
   "execution_count": 92,
   "metadata": {},
   "outputs": [
    {
     "data": {
      "text/plain": [
       "[0.5876974231088944,\n",
       " 0.5791666666666666,\n",
       " 0.5620530079932688,\n",
       " 0.653631284916201,\n",
       " 0.5883817427385892]"
      ]
     },
     "execution_count": 92,
     "metadata": {},
     "output_type": "execute_result"
    }
   ],
   "source": [
    "f1_score_train_errors_knn"
   ]
  },
  {
   "cell_type": "markdown",
   "metadata": {},
   "source": [
    "# Decision Tree"
   ]
  },
  {
   "cell_type": "code",
   "execution_count": 65,
   "metadata": {},
   "outputs": [],
   "source": [
    "#Lists to save models and training/testing sets\n",
    "all_models_dt = []\n",
    "X_training_sets_dt = []\n",
    "y_training_sets_dt = []\n",
    "X_testing_sets_dt = []\n",
    "y_testing_sets_dt = []\n",
    "\n",
    "#lists to save best params\n",
    "accuracy_best_params_dt = []\n",
    "roc_auc_best_params_dt = []\n",
    "f1_best_params_dt = []\n",
    "\n",
    "#looping across each sample for each trial\n",
    "for sample in all_samples:\n",
    "    X_train_dt = sample.iloc[:, :-1]\n",
    "    y_train_dt = sample.iloc[:, -1]\n",
    "    X_training_sets_dt.append(X_train_dt)\n",
    "    y_training_sets_dt.append(y_train_dt)\n",
    "    \n",
    "    #Separating rows for the test set that were not in the sample\n",
    "    ix_dt = [i for i in new_adult_data.index if i not in sample.index]\n",
    "    test_set_dt = new_adult_data.loc[ix_dt]\n",
    "    X_test_dt = test_set_dt.iloc[:, :-1]\n",
    "    y_test_dt = test_set_dt.iloc[:, -1]\n",
    "    X_testing_sets_dt.append(X_test_dt)\n",
    "    y_testing_sets_dt.append(y_test_dt)\n",
    "    \n",
    "    #Initiating classifier\n",
    "    dt = DecisionTreeClassifier()\n",
    "    \n",
    "    grid_values = [{'criterion': ['gini', 'entropy'], 'max_depth':list(range(1,100,3)), 'min_samples_leaf': list(range(10,100,10))}]\n",
    "    \n",
    "    clf_dt = GridSearchCV(estimator = dt, param_grid = grid_values, cv = StratifiedKFold(n_splits=5),\n",
    "                      scoring = ['accuracy', 'roc_auc_ovr', 'f1_micro'], refit=False, verbose=0)\n",
    "    \n",
    "    model_dt = clf_dt.fit(X_train_dt, y_train_dt)\n",
    "    \n",
    "    accuracy_best_params_dt.append(model_dt.cv_results_['params'][np.argmin(model_dt.cv_results_['rank_test_accuracy'])])\n",
    "    roc_auc_best_params_dt.append(model_dt.cv_results_['params'][np.argmin(model_dt.cv_results_['rank_test_roc_auc_ovr'])])\n",
    "    f1_best_params_dt.append(model_dt.cv_results_['params'][np.argmin(model_dt.cv_results_['rank_test_f1_micro'])])\n",
    "    \n",
    "    all_models_dt.append(model_dt)"
   ]
  },
  {
   "cell_type": "code",
   "execution_count": 66,
   "metadata": {},
   "outputs": [
    {
     "data": {
      "text/plain": [
       "[{'criterion': 'entropy', 'max_depth': 10, 'min_samples_leaf': 70},\n",
       " {'criterion': 'entropy', 'max_depth': 13, 'min_samples_leaf': 60},\n",
       " {'criterion': 'gini', 'max_depth': 7, 'min_samples_leaf': 70},\n",
       " {'criterion': 'gini', 'max_depth': 7, 'min_samples_leaf': 60},\n",
       " {'criterion': 'gini', 'max_depth': 10, 'min_samples_leaf': 50}]"
      ]
     },
     "execution_count": 66,
     "metadata": {},
     "output_type": "execute_result"
    }
   ],
   "source": [
    "accuracy_best_params_dt"
   ]
  },
  {
   "cell_type": "code",
   "execution_count": 67,
   "metadata": {},
   "outputs": [
    {
     "data": {
      "text/plain": [
       "[{'criterion': 'gini', 'max_depth': 10, 'min_samples_leaf': 70},\n",
       " {'criterion': 'entropy', 'max_depth': 10, 'min_samples_leaf': 80},\n",
       " {'criterion': 'gini', 'max_depth': 16, 'min_samples_leaf': 70},\n",
       " {'criterion': 'entropy', 'max_depth': 10, 'min_samples_leaf': 90},\n",
       " {'criterion': 'gini', 'max_depth': 10, 'min_samples_leaf': 50}]"
      ]
     },
     "execution_count": 67,
     "metadata": {},
     "output_type": "execute_result"
    }
   ],
   "source": [
    "roc_auc_best_params_dt"
   ]
  },
  {
   "cell_type": "code",
   "execution_count": 68,
   "metadata": {},
   "outputs": [
    {
     "data": {
      "text/plain": [
       "[{'criterion': 'entropy', 'max_depth': 10, 'min_samples_leaf': 70},\n",
       " {'criterion': 'entropy', 'max_depth': 13, 'min_samples_leaf': 60},\n",
       " {'criterion': 'gini', 'max_depth': 7, 'min_samples_leaf': 70},\n",
       " {'criterion': 'gini', 'max_depth': 7, 'min_samples_leaf': 60},\n",
       " {'criterion': 'gini', 'max_depth': 10, 'min_samples_leaf': 50}]"
      ]
     },
     "execution_count": 68,
     "metadata": {},
     "output_type": "execute_result"
    }
   ],
   "source": [
    "f1_best_params_dt"
   ]
  },
  {
   "cell_type": "code",
   "execution_count": 93,
   "metadata": {},
   "outputs": [],
   "source": [
    "#Now we need to loop across all models from each metric, train on entire sample, and then predict on test set\n",
    "accuracy_test_errors_dt = []\n",
    "accuracy_train_errors_dt = []\n",
    "for param in accuracy_best_params_dt:\n",
    "    \n",
    "    n_dt = 0\n",
    "    \n",
    "    dt_clf = DecisionTreeClassifier(criterion = param['criterion'], max_depth = param['max_depth'],\n",
    "                                   min_samples_leaf = param['min_samples_leaf'])\n",
    "    model = dt_clf.fit(X_training_sets_dt[n_dt], y_training_sets_dt[n_dt])\n",
    "    \n",
    "    y_pred_dt = model.predict(X_testing_sets_dt[n_dt])\n",
    "    accuracy_test_errors_dt.append(accuracy_score(y_testing_sets_dt[n_dt], y_pred_dt))\n",
    "    \n",
    "    y_pred_train_dt = model.predict(X_training_sets_dt[n_dt])\n",
    "    accuracy_train_errors_dt.append(accuracy_score(y_training_sets_dt[n_dt], y_pred_train_dt))\n",
    "    \n",
    "    n_dt += 1"
   ]
  },
  {
   "cell_type": "code",
   "execution_count": 94,
   "metadata": {},
   "outputs": [
    {
     "data": {
      "text/plain": [
       "[0.8137261086229736,\n",
       " 0.802750268088059,\n",
       " 0.8106982905443765,\n",
       " 0.808679745158645,\n",
       " 0.8109506087175928]"
      ]
     },
     "execution_count": 94,
     "metadata": {},
     "output_type": "execute_result"
    }
   ],
   "source": [
    "accuracy_test_errors_dt"
   ]
  },
  {
   "cell_type": "code",
   "execution_count": 95,
   "metadata": {},
   "outputs": [
    {
     "data": {
      "text/plain": [
       "[0.8172, 0.8192, 0.8148, 0.8154, 0.819]"
      ]
     },
     "execution_count": 95,
     "metadata": {},
     "output_type": "execute_result"
    }
   ],
   "source": [
    "accuracy_train_errors_dt"
   ]
  },
  {
   "cell_type": "code",
   "execution_count": 96,
   "metadata": {},
   "outputs": [],
   "source": [
    "roc_auc_test_errors_dt = []\n",
    "roc_auc_train_errors_dt = []\n",
    "for param in roc_auc_best_params_dt:\n",
    "    \n",
    "    n_dt = 0\n",
    "    \n",
    "    dt_clf2 = DecisionTreeClassifier(criterion = param['criterion'], max_depth = param['max_depth'],\n",
    "                                   min_samples_leaf = param['min_samples_leaf'])\n",
    "    model = dt_clf2.fit(X_training_sets_dt[n_dt], y_training_sets_dt[n_dt])\n",
    "    \n",
    "    y_pred_dt2 = model.predict(X_testing_sets_dt[n_dt])\n",
    "    roc_auc_test_errors_dt.append(roc_auc_score(y_testing_sets_dt[n_dt], y_pred_dt2))\n",
    "    \n",
    "    y_pred_train_dt2 = model.predict(X_training_sets_dt[n_dt])\n",
    "    roc_auc_train_errors_dt.append(roc_auc_score(y_training_sets_dt[n_dt], y_pred_train_dt2))\n",
    "    \n",
    "    n_dt += 1"
   ]
  },
  {
   "cell_type": "code",
   "execution_count": 97,
   "metadata": {},
   "outputs": [
    {
     "data": {
      "text/plain": [
       "[0.7192725942257816,\n",
       " 0.7021183182057417,\n",
       " 0.72860423742006,\n",
       " 0.7021183182057417,\n",
       " 0.7089700741606755]"
      ]
     },
     "execution_count": 97,
     "metadata": {},
     "output_type": "execute_result"
    }
   ],
   "source": [
    "roc_auc_test_errors_dt"
   ]
  },
  {
   "cell_type": "code",
   "execution_count": 98,
   "metadata": {},
   "outputs": [
    {
     "data": {
      "text/plain": [
       "[0.7352683293223169,\n",
       " 0.7193474051024215,\n",
       " 0.7598653116074212,\n",
       " 0.7193474051024215,\n",
       " 0.729385164860432]"
      ]
     },
     "execution_count": 98,
     "metadata": {},
     "output_type": "execute_result"
    }
   ],
   "source": [
    "roc_auc_train_errors_dt"
   ]
  },
  {
   "cell_type": "code",
   "execution_count": 99,
   "metadata": {},
   "outputs": [],
   "source": [
    "f1_score_test_errors_dt = []\n",
    "f1_score_train_errors_dt = []\n",
    "for param in f1_best_params_dt:\n",
    "    \n",
    "    n_dt = 0\n",
    "    \n",
    "    dt_clf3 = DecisionTreeClassifier(criterion = param['criterion'], max_depth = param['max_depth'],\n",
    "                                   min_samples_leaf = param['min_samples_leaf'])\n",
    "    model = dt_clf3.fit(X_training_sets_dt[n_dt], y_training_sets_dt[n_dt])\n",
    "    \n",
    "    y_pred_dt3 = model.predict(X_testing_sets_dt[n_dt])\n",
    "    f1_score_test_errors_dt.append(f1_score(y_testing_sets_dt[n_dt], y_pred_dt3))\n",
    "    \n",
    "    y_pred_train_dt3 = model.predict(X_training_sets_dt[n_dt])\n",
    "    f1_score_train_errors_dt.append(f1_score(y_training_sets_dt[n_dt], y_pred_train_dt3))\n",
    "    \n",
    "    n_dt += 1"
   ]
  },
  {
   "cell_type": "code",
   "execution_count": 100,
   "metadata": {},
   "outputs": [
    {
     "data": {
      "text/plain": [
       "[0.5628423390081422,\n",
       " 0.5751935878277408,\n",
       " 0.5974513749161637,\n",
       " 0.5830927835051546,\n",
       " 0.5722848579991437]"
      ]
     },
     "execution_count": 100,
     "metadata": {},
     "output_type": "execute_result"
    }
   ],
   "source": [
    "f1_score_test_errors_dt"
   ]
  },
  {
   "cell_type": "code",
   "execution_count": 101,
   "metadata": {},
   "outputs": [
    {
     "data": {
      "text/plain": [
       "[0.5980650835532102,\n",
       " 0.6340080971659918,\n",
       " 0.6281124497991969,\n",
       " 0.6200082338410868,\n",
       " 0.6130825138948268]"
      ]
     },
     "execution_count": 101,
     "metadata": {},
     "output_type": "execute_result"
    }
   ],
   "source": [
    "f1_score_train_errors_dt "
   ]
  },
  {
   "cell_type": "code",
   "execution_count": null,
   "metadata": {},
   "outputs": [],
   "source": []
  }
 ],
 "metadata": {
  "kernelspec": {
   "display_name": "Python 3",
   "language": "python",
   "name": "python3"
  },
  "language_info": {
   "codemirror_mode": {
    "name": "ipython",
    "version": 3
   },
   "file_extension": ".py",
   "mimetype": "text/x-python",
   "name": "python",
   "nbconvert_exporter": "python",
   "pygments_lexer": "ipython3",
   "version": "3.8.5"
  }
 },
 "nbformat": 4,
 "nbformat_minor": 4
}
